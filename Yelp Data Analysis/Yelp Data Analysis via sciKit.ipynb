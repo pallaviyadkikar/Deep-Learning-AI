{
  "nbformat": 4,
  "nbformat_minor": 0,
  "metadata": {
    "colab": {
      "name": "Mini_Project_1_Palak_Pallavi.ipynb",
      "version": "0.3.2",
      "provenance": []
    },
    "kernelspec": {
      "display_name": "Python 3",
      "language": "python",
      "name": "python3"
    }
  },
  "cells": [
    {
      "metadata": {
        "id": "ZeLsxqfPl-Ye",
        "colab_type": "text"
      },
      "cell_type": "markdown",
      "source": [
        "# Mini Project 1\n",
        "\n",
        "## Team Members : \n",
        "## Palak Patel\n",
        "## Pallavi Yadkikar"
      ]
    },
    {
      "metadata": {
        "id": "cu5gs_-Yl-Yg",
        "colab_type": "text"
      },
      "cell_type": "markdown",
      "source": [
        "# Getting ready with Dataframes"
      ]
    },
    {
      "metadata": {
        "id": "EEirdSbHl-Yi",
        "colab_type": "code",
        "colab": {}
      },
      "cell_type": "code",
      "source": [
        "#Convert .json files into pandas dataframes\n",
        "\n",
        "import json\n",
        "import csv\n",
        "import pandas as pd\n",
        "outfile = open(\"reviews.tsv\", 'w')\n",
        "sfile = csv.writer(outfile, delimiter =\"\\t\", quoting=csv.QUOTE_MINIMAL)\n",
        "sfile.writerow(['business_id','stars', 'text'])\n",
        "with open('review.json', encoding=\"utf-8\") as f:\n",
        "\n",
        "    for line in f:\n",
        "\n",
        "        row = json.loads(line)\n",
        "\n",
        "        # some special char must be encoded in 'utf-8'\n",
        "\n",
        "        sfile.writerow([row['business_id'], row['stars'], (row['text']).encode('utf-8')])\n",
        "        \n",
        "outfile.close()\n",
        "df_r= pd.read_csv('reviews.tsv', delimiter =\"\\t\", encoding=\"utf-8\")\n"
      ],
      "execution_count": 0,
      "outputs": []
    },
    {
      "metadata": {
        "id": "81IrTKjRl-Yp",
        "colab_type": "code",
        "colab": {},
        "outputId": "5a34e7a8-81b4-4189-fd5a-5e284b0a9a9e"
      },
      "cell_type": "code",
      "source": [
        "df_r.head()"
      ],
      "execution_count": 0,
      "outputs": [
        {
          "output_type": "execute_result",
          "data": {
            "text/html": [
              "<div>\n",
              "<style scoped>\n",
              "    .dataframe tbody tr th:only-of-type {\n",
              "        vertical-align: middle;\n",
              "    }\n",
              "\n",
              "    .dataframe tbody tr th {\n",
              "        vertical-align: top;\n",
              "    }\n",
              "\n",
              "    .dataframe thead th {\n",
              "        text-align: right;\n",
              "    }\n",
              "</style>\n",
              "<table border=\"1\" class=\"dataframe\">\n",
              "  <thead>\n",
              "    <tr style=\"text-align: right;\">\n",
              "      <th></th>\n",
              "      <th>business_id</th>\n",
              "      <th>stars</th>\n",
              "      <th>text</th>\n",
              "    </tr>\n",
              "  </thead>\n",
              "  <tbody>\n",
              "    <tr>\n",
              "      <th>0</th>\n",
              "      <td>ujmEBvifdJM6h6RLv4wQIg</td>\n",
              "      <td>1.0</td>\n",
              "      <td>b'Total bill for this horrible service? Over $...</td>\n",
              "    </tr>\n",
              "    <tr>\n",
              "      <th>1</th>\n",
              "      <td>NZnhc2sEQy3RmzKTZnqtwQ</td>\n",
              "      <td>5.0</td>\n",
              "      <td>b\"I *adore* Travis at the Hard Rock's new Kell...</td>\n",
              "    </tr>\n",
              "    <tr>\n",
              "      <th>2</th>\n",
              "      <td>WTqjgwHlXbSFevF32_DJVw</td>\n",
              "      <td>5.0</td>\n",
              "      <td>b\"I have to say that this office really has it...</td>\n",
              "    </tr>\n",
              "    <tr>\n",
              "      <th>3</th>\n",
              "      <td>ikCg8xy5JIg_NGPx-MSIDA</td>\n",
              "      <td>5.0</td>\n",
              "      <td>b\"Went in for a lunch. Steak sandwich was deli...</td>\n",
              "    </tr>\n",
              "    <tr>\n",
              "      <th>4</th>\n",
              "      <td>b1b1eb3uo-w561D0ZfCEiQ</td>\n",
              "      <td>1.0</td>\n",
              "      <td>b'Today was my second out of three sessions I ...</td>\n",
              "    </tr>\n",
              "  </tbody>\n",
              "</table>\n",
              "</div>"
            ],
            "text/plain": [
              "              business_id  stars  \\\n",
              "0  ujmEBvifdJM6h6RLv4wQIg    1.0   \n",
              "1  NZnhc2sEQy3RmzKTZnqtwQ    5.0   \n",
              "2  WTqjgwHlXbSFevF32_DJVw    5.0   \n",
              "3  ikCg8xy5JIg_NGPx-MSIDA    5.0   \n",
              "4  b1b1eb3uo-w561D0ZfCEiQ    1.0   \n",
              "\n",
              "                                                text  \n",
              "0  b'Total bill for this horrible service? Over $...  \n",
              "1  b\"I *adore* Travis at the Hard Rock's new Kell...  \n",
              "2  b\"I have to say that this office really has it...  \n",
              "3  b\"Went in for a lunch. Steak sandwich was deli...  \n",
              "4  b'Today was my second out of three sessions I ...  "
            ]
          },
          "metadata": {
            "tags": []
          },
          "execution_count": 2
        }
      ]
    },
    {
      "metadata": {
        "id": "z4CnM4CHl-Yx",
        "colab_type": "code",
        "colab": {}
      },
      "cell_type": "code",
      "source": [
        "import json\n",
        "import csv\n",
        "import pandas as pd\n",
        "outfile_1 = open(\"business_1.tsv\", 'w')\n",
        "sfile_1 = csv.writer(outfile_1, delimiter =\"\\t\", quoting=csv.QUOTE_MINIMAL)\n",
        "sfile_1.writerow(['business_id','stars', 'review_count'])\n",
        "with open('business.json', encoding=\"utf-8\") as f:\n",
        "\n",
        "    for line in f:\n",
        "\n",
        "        row = json.loads(line)\n",
        "\n",
        "        # some special char must be encoded in 'utf-8'\n",
        "\n",
        "        sfile_1.writerow([row['business_id'], row['stars'], row['review_count']])\n",
        "        \n",
        "outfile_1.close()\n",
        "df_b = pd.read_csv('business_1.tsv', delimiter =\"\\t\", encoding=\"utf-8\")"
      ],
      "execution_count": 0,
      "outputs": []
    },
    {
      "metadata": {
        "id": "hAk5q9ffl-Y2",
        "colab_type": "code",
        "colab": {},
        "outputId": "9f789ad3-01f8-4ddf-ed2a-6582f1e51d07"
      },
      "cell_type": "code",
      "source": [
        "df_b.head()"
      ],
      "execution_count": 0,
      "outputs": [
        {
          "output_type": "execute_result",
          "data": {
            "text/html": [
              "<div>\n",
              "<style scoped>\n",
              "    .dataframe tbody tr th:only-of-type {\n",
              "        vertical-align: middle;\n",
              "    }\n",
              "\n",
              "    .dataframe tbody tr th {\n",
              "        vertical-align: top;\n",
              "    }\n",
              "\n",
              "    .dataframe thead th {\n",
              "        text-align: right;\n",
              "    }\n",
              "</style>\n",
              "<table border=\"1\" class=\"dataframe\">\n",
              "  <thead>\n",
              "    <tr style=\"text-align: right;\">\n",
              "      <th></th>\n",
              "      <th>business_id</th>\n",
              "      <th>stars</th>\n",
              "      <th>review_count</th>\n",
              "    </tr>\n",
              "  </thead>\n",
              "  <tbody>\n",
              "    <tr>\n",
              "      <th>0</th>\n",
              "      <td>1SWheh84yJXfytovILXOAQ</td>\n",
              "      <td>3.0</td>\n",
              "      <td>5</td>\n",
              "    </tr>\n",
              "    <tr>\n",
              "      <th>1</th>\n",
              "      <td>QXAEGFB4oINsVuTFxEYKFQ</td>\n",
              "      <td>2.5</td>\n",
              "      <td>128</td>\n",
              "    </tr>\n",
              "    <tr>\n",
              "      <th>2</th>\n",
              "      <td>gnKjwL_1w79qoiV3IC_xQQ</td>\n",
              "      <td>4.0</td>\n",
              "      <td>170</td>\n",
              "    </tr>\n",
              "    <tr>\n",
              "      <th>3</th>\n",
              "      <td>xvX2CttrVhyG2z1dFg_0xw</td>\n",
              "      <td>5.0</td>\n",
              "      <td>3</td>\n",
              "    </tr>\n",
              "    <tr>\n",
              "      <th>4</th>\n",
              "      <td>HhyxOkGAM07SRYtlQ4wMFQ</td>\n",
              "      <td>4.0</td>\n",
              "      <td>4</td>\n",
              "    </tr>\n",
              "  </tbody>\n",
              "</table>\n",
              "</div>"
            ],
            "text/plain": [
              "              business_id  stars  review_count\n",
              "0  1SWheh84yJXfytovILXOAQ    3.0             5\n",
              "1  QXAEGFB4oINsVuTFxEYKFQ    2.5           128\n",
              "2  gnKjwL_1w79qoiV3IC_xQQ    4.0           170\n",
              "3  xvX2CttrVhyG2z1dFg_0xw    5.0             3\n",
              "4  HhyxOkGAM07SRYtlQ4wMFQ    4.0             4"
            ]
          },
          "metadata": {
            "tags": []
          },
          "execution_count": 4
        }
      ]
    },
    {
      "metadata": {
        "id": "JTWfWsR5l-Y9",
        "colab_type": "code",
        "colab": {}
      },
      "cell_type": "code",
      "source": [
        "df_c = df_b[~df_b.business_id.isin(['YSilq0Was9b4Q7oId_gUUw', 'Pah1N0Di1WA3wsI5TYkY7w', 'W6q7CANl3UbQa5hGCYU5OQ'])]"
      ],
      "execution_count": 0,
      "outputs": []
    },
    {
      "metadata": {
        "id": "NwsqmUa7l-ZB",
        "colab_type": "code",
        "colab": {},
        "outputId": "0c82f46a-ebb4-4578-e585-409e36cd922c"
      },
      "cell_type": "code",
      "source": [
        "x1 = set(df_r.business_id) \n",
        "y1 = set(df_c.business_id)\n",
        "\n",
        "z1 = y1 - x1\n",
        "print(z1)"
      ],
      "execution_count": 0,
      "outputs": [
        {
          "output_type": "stream",
          "text": [
            "set()\n"
          ],
          "name": "stdout"
        }
      ]
    },
    {
      "metadata": {
        "id": "w59QeG_El-ZG",
        "colab_type": "code",
        "colab": {}
      },
      "cell_type": "code",
      "source": [
        "#Group all the reviews by each business and create a new dataframe, where each line is a business with all its reviews. \n",
        "\n",
        "df_review_agg = df_r.groupby('business_id')['text'].sum()"
      ],
      "execution_count": 0,
      "outputs": []
    },
    {
      "metadata": {
        "id": "1J2ecIFTl-ZL",
        "colab_type": "code",
        "colab": {},
        "outputId": "d4385b5d-d1f2-46ae-9752-5ba6e2bfb96e"
      },
      "cell_type": "code",
      "source": [
        "df_review_agg.head()\n"
      ],
      "execution_count": 0,
      "outputs": [
        {
          "output_type": "execute_result",
          "data": {
            "text/plain": [
              "business_id\n",
              "--1UhMGODdWsrMastO9DZw    b'If you are looking for authentic Mexican str...\n",
              "--6MefnULPED_I942VcFNA    b\"They have the best Chinese BBQ Pork (Char Si...\n",
              "--7zmmkVg-IMGaXbuVd0SQ    b\"I'm a tad reluctant to write a review as I r...\n",
              "--8LPVSo5i0Oo61X01sV9A    b'Dr. LaCognata is great.  He is a great liste...\n",
              "--9QQLMTbFzLJ_oT-ON3Xw    b'Always great customer service. Affordable ha...\n",
              "Name: text, dtype: object"
            ]
          },
          "metadata": {
            "tags": []
          },
          "execution_count": 8
        }
      ]
    },
    {
      "metadata": {
        "id": "dm53xsDhl-ZR",
        "colab_type": "code",
        "colab": {}
      },
      "cell_type": "code",
      "source": [
        "df_ready_for_sklearn = pd.DataFrame({'business_id': df_review_agg.index, 'all_reviews': df_review_agg.values})"
      ],
      "execution_count": 0,
      "outputs": []
    },
    {
      "metadata": {
        "id": "OUHkERuCl-ZV",
        "colab_type": "code",
        "colab": {},
        "outputId": "f7a69fe4-52bc-4890-c87d-7fe13a79d793"
      },
      "cell_type": "code",
      "source": [
        "df_ready_for_sklearn.head()"
      ],
      "execution_count": 0,
      "outputs": [
        {
          "output_type": "execute_result",
          "data": {
            "text/html": [
              "<div>\n",
              "<style scoped>\n",
              "    .dataframe tbody tr th:only-of-type {\n",
              "        vertical-align: middle;\n",
              "    }\n",
              "\n",
              "    .dataframe tbody tr th {\n",
              "        vertical-align: top;\n",
              "    }\n",
              "\n",
              "    .dataframe thead th {\n",
              "        text-align: right;\n",
              "    }\n",
              "</style>\n",
              "<table border=\"1\" class=\"dataframe\">\n",
              "  <thead>\n",
              "    <tr style=\"text-align: right;\">\n",
              "      <th></th>\n",
              "      <th>business_id</th>\n",
              "      <th>all_reviews</th>\n",
              "    </tr>\n",
              "  </thead>\n",
              "  <tbody>\n",
              "    <tr>\n",
              "      <th>0</th>\n",
              "      <td>--1UhMGODdWsrMastO9DZw</td>\n",
              "      <td>b'If you are looking for authentic Mexican str...</td>\n",
              "    </tr>\n",
              "    <tr>\n",
              "      <th>1</th>\n",
              "      <td>--6MefnULPED_I942VcFNA</td>\n",
              "      <td>b\"They have the best Chinese BBQ Pork (Char Si...</td>\n",
              "    </tr>\n",
              "    <tr>\n",
              "      <th>2</th>\n",
              "      <td>--7zmmkVg-IMGaXbuVd0SQ</td>\n",
              "      <td>b\"I'm a tad reluctant to write a review as I r...</td>\n",
              "    </tr>\n",
              "    <tr>\n",
              "      <th>3</th>\n",
              "      <td>--8LPVSo5i0Oo61X01sV9A</td>\n",
              "      <td>b'Dr. LaCognata is great.  He is a great liste...</td>\n",
              "    </tr>\n",
              "    <tr>\n",
              "      <th>4</th>\n",
              "      <td>--9QQLMTbFzLJ_oT-ON3Xw</td>\n",
              "      <td>b'Always great customer service. Affordable ha...</td>\n",
              "    </tr>\n",
              "  </tbody>\n",
              "</table>\n",
              "</div>"
            ],
            "text/plain": [
              "              business_id                                        all_reviews\n",
              "0  --1UhMGODdWsrMastO9DZw  b'If you are looking for authentic Mexican str...\n",
              "1  --6MefnULPED_I942VcFNA  b\"They have the best Chinese BBQ Pork (Char Si...\n",
              "2  --7zmmkVg-IMGaXbuVd0SQ  b\"I'm a tad reluctant to write a review as I r...\n",
              "3  --8LPVSo5i0Oo61X01sV9A  b'Dr. LaCognata is great.  He is a great liste...\n",
              "4  --9QQLMTbFzLJ_oT-ON3Xw  b'Always great customer service. Affordable ha..."
            ]
          },
          "metadata": {
            "tags": []
          },
          "execution_count": 10
        }
      ]
    },
    {
      "metadata": {
        "id": "I28r76Wsl-Zc",
        "colab_type": "code",
        "colab": {}
      },
      "cell_type": "code",
      "source": [
        "#Merge Dataframes\n",
        "\n",
        "df_merge = pd.merge(df_c,df_ready_for_sklearn, on =\"business_id\")"
      ],
      "execution_count": 0,
      "outputs": []
    },
    {
      "metadata": {
        "id": "cnm3XVfMl-Zg",
        "colab_type": "code",
        "colab": {},
        "outputId": "71b0584c-a705-4581-c422-da212094dd82"
      },
      "cell_type": "code",
      "source": [
        "df_merge.head()"
      ],
      "execution_count": 0,
      "outputs": [
        {
          "output_type": "execute_result",
          "data": {
            "text/html": [
              "<div>\n",
              "<style scoped>\n",
              "    .dataframe tbody tr th:only-of-type {\n",
              "        vertical-align: middle;\n",
              "    }\n",
              "\n",
              "    .dataframe tbody tr th {\n",
              "        vertical-align: top;\n",
              "    }\n",
              "\n",
              "    .dataframe thead th {\n",
              "        text-align: right;\n",
              "    }\n",
              "</style>\n",
              "<table border=\"1\" class=\"dataframe\">\n",
              "  <thead>\n",
              "    <tr style=\"text-align: right;\">\n",
              "      <th></th>\n",
              "      <th>business_id</th>\n",
              "      <th>stars</th>\n",
              "      <th>review_count</th>\n",
              "      <th>all_reviews</th>\n",
              "    </tr>\n",
              "  </thead>\n",
              "  <tbody>\n",
              "    <tr>\n",
              "      <th>0</th>\n",
              "      <td>1SWheh84yJXfytovILXOAQ</td>\n",
              "      <td>3.0</td>\n",
              "      <td>5</td>\n",
              "      <td>b\"Don't go here if you expect consistent or re...</td>\n",
              "    </tr>\n",
              "    <tr>\n",
              "      <th>1</th>\n",
              "      <td>QXAEGFB4oINsVuTFxEYKFQ</td>\n",
              "      <td>2.5</td>\n",
              "      <td>128</td>\n",
              "      <td>b'My girlfriend and I went for dinner at Emera...</td>\n",
              "    </tr>\n",
              "    <tr>\n",
              "      <th>2</th>\n",
              "      <td>gnKjwL_1w79qoiV3IC_xQQ</td>\n",
              "      <td>4.0</td>\n",
              "      <td>170</td>\n",
              "      <td>b'Husband was craving Chicken Teriyaki &amp; gyoza...</td>\n",
              "    </tr>\n",
              "    <tr>\n",
              "      <th>3</th>\n",
              "      <td>xvX2CttrVhyG2z1dFg_0xw</td>\n",
              "      <td>5.0</td>\n",
              "      <td>3</td>\n",
              "      <td>b'The associates at this agency are absolutely...</td>\n",
              "    </tr>\n",
              "    <tr>\n",
              "      <th>4</th>\n",
              "      <td>HhyxOkGAM07SRYtlQ4wMFQ</td>\n",
              "      <td>4.0</td>\n",
              "      <td>4</td>\n",
              "      <td>b\"Great customer service and great job every t...</td>\n",
              "    </tr>\n",
              "  </tbody>\n",
              "</table>\n",
              "</div>"
            ],
            "text/plain": [
              "              business_id  stars  review_count  \\\n",
              "0  1SWheh84yJXfytovILXOAQ    3.0             5   \n",
              "1  QXAEGFB4oINsVuTFxEYKFQ    2.5           128   \n",
              "2  gnKjwL_1w79qoiV3IC_xQQ    4.0           170   \n",
              "3  xvX2CttrVhyG2z1dFg_0xw    5.0             3   \n",
              "4  HhyxOkGAM07SRYtlQ4wMFQ    4.0             4   \n",
              "\n",
              "                                         all_reviews  \n",
              "0  b\"Don't go here if you expect consistent or re...  \n",
              "1  b'My girlfriend and I went for dinner at Emera...  \n",
              "2  b'Husband was craving Chicken Teriyaki & gyoza...  \n",
              "3  b'The associates at this agency are absolutely...  \n",
              "4  b\"Great customer service and great job every t...  "
            ]
          },
          "metadata": {
            "tags": []
          },
          "execution_count": 12
        }
      ]
    },
    {
      "metadata": {
        "id": "e8AXVSxsl-Zn",
        "colab_type": "text"
      },
      "cell_type": "markdown",
      "source": [
        "# Z Score "
      ]
    },
    {
      "metadata": {
        "id": "kcBZbnZvl-Zp",
        "colab_type": "code",
        "colab": {},
        "outputId": "1276f1ec-a491-43a8-b67c-bffd03ba6773"
      },
      "cell_type": "code",
      "source": [
        "#Calculate Z-Score for ‘review_count’.\n",
        "\n",
        "from scipy.stats import zscore\n",
        "\n",
        "df_merge['normal_review_count'] = zscore(df_merge['review_count'])\n",
        "df_merge[:10]"
      ],
      "execution_count": 0,
      "outputs": [
        {
          "output_type": "execute_result",
          "data": {
            "text/html": [
              "<div>\n",
              "<style scoped>\n",
              "    .dataframe tbody tr th:only-of-type {\n",
              "        vertical-align: middle;\n",
              "    }\n",
              "\n",
              "    .dataframe tbody tr th {\n",
              "        vertical-align: top;\n",
              "    }\n",
              "\n",
              "    .dataframe thead th {\n",
              "        text-align: right;\n",
              "    }\n",
              "</style>\n",
              "<table border=\"1\" class=\"dataframe\">\n",
              "  <thead>\n",
              "    <tr style=\"text-align: right;\">\n",
              "      <th></th>\n",
              "      <th>business_id</th>\n",
              "      <th>stars</th>\n",
              "      <th>review_count</th>\n",
              "      <th>all_reviews</th>\n",
              "      <th>normal_review_count</th>\n",
              "    </tr>\n",
              "  </thead>\n",
              "  <tbody>\n",
              "    <tr>\n",
              "      <th>0</th>\n",
              "      <td>1SWheh84yJXfytovILXOAQ</td>\n",
              "      <td>3.0</td>\n",
              "      <td>5</td>\n",
              "      <td>b\"Don't go here if you expect consistent or re...</td>\n",
              "      <td>-0.259129</td>\n",
              "    </tr>\n",
              "    <tr>\n",
              "      <th>1</th>\n",
              "      <td>QXAEGFB4oINsVuTFxEYKFQ</td>\n",
              "      <td>2.5</td>\n",
              "      <td>128</td>\n",
              "      <td>b'My girlfriend and I went for dinner at Emera...</td>\n",
              "      <td>0.857675</td>\n",
              "    </tr>\n",
              "    <tr>\n",
              "      <th>2</th>\n",
              "      <td>gnKjwL_1w79qoiV3IC_xQQ</td>\n",
              "      <td>4.0</td>\n",
              "      <td>170</td>\n",
              "      <td>b'Husband was craving Chicken Teriyaki &amp; gyoza...</td>\n",
              "      <td>1.239022</td>\n",
              "    </tr>\n",
              "    <tr>\n",
              "      <th>3</th>\n",
              "      <td>xvX2CttrVhyG2z1dFg_0xw</td>\n",
              "      <td>5.0</td>\n",
              "      <td>3</td>\n",
              "      <td>b'The associates at this agency are absolutely...</td>\n",
              "      <td>-0.277288</td>\n",
              "    </tr>\n",
              "    <tr>\n",
              "      <th>4</th>\n",
              "      <td>HhyxOkGAM07SRYtlQ4wMFQ</td>\n",
              "      <td>4.0</td>\n",
              "      <td>4</td>\n",
              "      <td>b\"Great customer service and great job every t...</td>\n",
              "      <td>-0.268208</td>\n",
              "    </tr>\n",
              "    <tr>\n",
              "      <th>5</th>\n",
              "      <td>68dUKd8_8liJ7in4aWOSEA</td>\n",
              "      <td>2.5</td>\n",
              "      <td>3</td>\n",
              "      <td>b'horrible. do not go.  staff is dishonest and...</td>\n",
              "      <td>-0.277288</td>\n",
              "    </tr>\n",
              "    <tr>\n",
              "      <th>6</th>\n",
              "      <td>5JucpCfHZltJh5r1JabjDg</td>\n",
              "      <td>3.5</td>\n",
              "      <td>7</td>\n",
              "      <td>b'OK place- I\\'ve gone for a couple of years a...</td>\n",
              "      <td>-0.240969</td>\n",
              "    </tr>\n",
              "    <tr>\n",
              "      <th>7</th>\n",
              "      <td>gbQN7vr_caG_A1ugSmGhWg</td>\n",
              "      <td>3.5</td>\n",
              "      <td>3</td>\n",
              "      <td>b'My stylist, Maria, listened to me carefully ...</td>\n",
              "      <td>-0.277288</td>\n",
              "    </tr>\n",
              "    <tr>\n",
              "      <th>8</th>\n",
              "      <td>Y6iyemLX_oylRpnr38vgMA</td>\n",
              "      <td>5.0</td>\n",
              "      <td>8</td>\n",
              "      <td>b'My nail girl is renting station at this plac...</td>\n",
              "      <td>-0.231890</td>\n",
              "    </tr>\n",
              "    <tr>\n",
              "      <th>9</th>\n",
              "      <td>4GBVPIYRvzGh4K4TkRQ_rw</td>\n",
              "      <td>4.5</td>\n",
              "      <td>8</td>\n",
              "      <td>b\"I've always had an excellent experience at O...</td>\n",
              "      <td>-0.231890</td>\n",
              "    </tr>\n",
              "  </tbody>\n",
              "</table>\n",
              "</div>"
            ],
            "text/plain": [
              "              business_id  stars  review_count  \\\n",
              "0  1SWheh84yJXfytovILXOAQ    3.0             5   \n",
              "1  QXAEGFB4oINsVuTFxEYKFQ    2.5           128   \n",
              "2  gnKjwL_1w79qoiV3IC_xQQ    4.0           170   \n",
              "3  xvX2CttrVhyG2z1dFg_0xw    5.0             3   \n",
              "4  HhyxOkGAM07SRYtlQ4wMFQ    4.0             4   \n",
              "5  68dUKd8_8liJ7in4aWOSEA    2.5             3   \n",
              "6  5JucpCfHZltJh5r1JabjDg    3.5             7   \n",
              "7  gbQN7vr_caG_A1ugSmGhWg    3.5             3   \n",
              "8  Y6iyemLX_oylRpnr38vgMA    5.0             8   \n",
              "9  4GBVPIYRvzGh4K4TkRQ_rw    4.5             8   \n",
              "\n",
              "                                         all_reviews  normal_review_count  \n",
              "0  b\"Don't go here if you expect consistent or re...            -0.259129  \n",
              "1  b'My girlfriend and I went for dinner at Emera...             0.857675  \n",
              "2  b'Husband was craving Chicken Teriyaki & gyoza...             1.239022  \n",
              "3  b'The associates at this agency are absolutely...            -0.277288  \n",
              "4  b\"Great customer service and great job every t...            -0.268208  \n",
              "5  b'horrible. do not go.  staff is dishonest and...            -0.277288  \n",
              "6  b'OK place- I\\'ve gone for a couple of years a...            -0.240969  \n",
              "7  b'My stylist, Maria, listened to me carefully ...            -0.277288  \n",
              "8  b'My nail girl is renting station at this plac...            -0.231890  \n",
              "9  b\"I've always had an excellent experience at O...            -0.231890  "
            ]
          },
          "metadata": {
            "tags": []
          },
          "execution_count": 13
        }
      ]
    },
    {
      "metadata": {
        "id": "LkePHYzhl-Zv",
        "colab_type": "text"
      },
      "cell_type": "markdown",
      "source": [
        "#  MinMax for MNB"
      ]
    },
    {
      "metadata": {
        "id": "WpM0y3A8l-Zw",
        "colab_type": "code",
        "colab": {}
      },
      "cell_type": "code",
      "source": [
        "mini_count= df_merge['review_count'].min()\n",
        "maxi_count= df_merge['review_count'].max()\n",
        "df_merge['normal_min_max_review_count'] = ((df_merge['review_count']-mini_count)/(maxi_count-mini_count))"
      ],
      "execution_count": 0,
      "outputs": []
    },
    {
      "metadata": {
        "id": "uCFm3DxUl-Z3",
        "colab_type": "code",
        "colab": {},
        "outputId": "5c461620-fe92-4b1c-d0b7-0d9310b62e98"
      },
      "cell_type": "code",
      "source": [
        "df_merge[:10]"
      ],
      "execution_count": 0,
      "outputs": [
        {
          "output_type": "execute_result",
          "data": {
            "text/html": [
              "<div>\n",
              "<style scoped>\n",
              "    .dataframe tbody tr th:only-of-type {\n",
              "        vertical-align: middle;\n",
              "    }\n",
              "\n",
              "    .dataframe tbody tr th {\n",
              "        vertical-align: top;\n",
              "    }\n",
              "\n",
              "    .dataframe thead th {\n",
              "        text-align: right;\n",
              "    }\n",
              "</style>\n",
              "<table border=\"1\" class=\"dataframe\">\n",
              "  <thead>\n",
              "    <tr style=\"text-align: right;\">\n",
              "      <th></th>\n",
              "      <th>business_id</th>\n",
              "      <th>stars</th>\n",
              "      <th>review_count</th>\n",
              "      <th>all_reviews</th>\n",
              "      <th>normal_review_count</th>\n",
              "      <th>normal_min_max_review_count</th>\n",
              "    </tr>\n",
              "  </thead>\n",
              "  <tbody>\n",
              "    <tr>\n",
              "      <th>0</th>\n",
              "      <td>1SWheh84yJXfytovILXOAQ</td>\n",
              "      <td>3.0</td>\n",
              "      <td>5</td>\n",
              "      <td>b\"Don't go here if you expect consistent or re...</td>\n",
              "      <td>-0.259129</td>\n",
              "      <td>0.000240</td>\n",
              "    </tr>\n",
              "    <tr>\n",
              "      <th>1</th>\n",
              "      <td>QXAEGFB4oINsVuTFxEYKFQ</td>\n",
              "      <td>2.5</td>\n",
              "      <td>128</td>\n",
              "      <td>b'My girlfriend and I went for dinner at Emera...</td>\n",
              "      <td>0.857675</td>\n",
              "      <td>0.014979</td>\n",
              "    </tr>\n",
              "    <tr>\n",
              "      <th>2</th>\n",
              "      <td>gnKjwL_1w79qoiV3IC_xQQ</td>\n",
              "      <td>4.0</td>\n",
              "      <td>170</td>\n",
              "      <td>b'Husband was craving Chicken Teriyaki &amp; gyoza...</td>\n",
              "      <td>1.239022</td>\n",
              "      <td>0.020012</td>\n",
              "    </tr>\n",
              "    <tr>\n",
              "      <th>3</th>\n",
              "      <td>xvX2CttrVhyG2z1dFg_0xw</td>\n",
              "      <td>5.0</td>\n",
              "      <td>3</td>\n",
              "      <td>b'The associates at this agency are absolutely...</td>\n",
              "      <td>-0.277288</td>\n",
              "      <td>0.000000</td>\n",
              "    </tr>\n",
              "    <tr>\n",
              "      <th>4</th>\n",
              "      <td>HhyxOkGAM07SRYtlQ4wMFQ</td>\n",
              "      <td>4.0</td>\n",
              "      <td>4</td>\n",
              "      <td>b\"Great customer service and great job every t...</td>\n",
              "      <td>-0.268208</td>\n",
              "      <td>0.000120</td>\n",
              "    </tr>\n",
              "    <tr>\n",
              "      <th>5</th>\n",
              "      <td>68dUKd8_8liJ7in4aWOSEA</td>\n",
              "      <td>2.5</td>\n",
              "      <td>3</td>\n",
              "      <td>b'horrible. do not go.  staff is dishonest and...</td>\n",
              "      <td>-0.277288</td>\n",
              "      <td>0.000000</td>\n",
              "    </tr>\n",
              "    <tr>\n",
              "      <th>6</th>\n",
              "      <td>5JucpCfHZltJh5r1JabjDg</td>\n",
              "      <td>3.5</td>\n",
              "      <td>7</td>\n",
              "      <td>b'OK place- I\\'ve gone for a couple of years a...</td>\n",
              "      <td>-0.240969</td>\n",
              "      <td>0.000479</td>\n",
              "    </tr>\n",
              "    <tr>\n",
              "      <th>7</th>\n",
              "      <td>gbQN7vr_caG_A1ugSmGhWg</td>\n",
              "      <td>3.5</td>\n",
              "      <td>3</td>\n",
              "      <td>b'My stylist, Maria, listened to me carefully ...</td>\n",
              "      <td>-0.277288</td>\n",
              "      <td>0.000000</td>\n",
              "    </tr>\n",
              "    <tr>\n",
              "      <th>8</th>\n",
              "      <td>Y6iyemLX_oylRpnr38vgMA</td>\n",
              "      <td>5.0</td>\n",
              "      <td>8</td>\n",
              "      <td>b'My nail girl is renting station at this plac...</td>\n",
              "      <td>-0.231890</td>\n",
              "      <td>0.000599</td>\n",
              "    </tr>\n",
              "    <tr>\n",
              "      <th>9</th>\n",
              "      <td>4GBVPIYRvzGh4K4TkRQ_rw</td>\n",
              "      <td>4.5</td>\n",
              "      <td>8</td>\n",
              "      <td>b\"I've always had an excellent experience at O...</td>\n",
              "      <td>-0.231890</td>\n",
              "      <td>0.000599</td>\n",
              "    </tr>\n",
              "  </tbody>\n",
              "</table>\n",
              "</div>"
            ],
            "text/plain": [
              "              business_id  stars  review_count  \\\n",
              "0  1SWheh84yJXfytovILXOAQ    3.0             5   \n",
              "1  QXAEGFB4oINsVuTFxEYKFQ    2.5           128   \n",
              "2  gnKjwL_1w79qoiV3IC_xQQ    4.0           170   \n",
              "3  xvX2CttrVhyG2z1dFg_0xw    5.0             3   \n",
              "4  HhyxOkGAM07SRYtlQ4wMFQ    4.0             4   \n",
              "5  68dUKd8_8liJ7in4aWOSEA    2.5             3   \n",
              "6  5JucpCfHZltJh5r1JabjDg    3.5             7   \n",
              "7  gbQN7vr_caG_A1ugSmGhWg    3.5             3   \n",
              "8  Y6iyemLX_oylRpnr38vgMA    5.0             8   \n",
              "9  4GBVPIYRvzGh4K4TkRQ_rw    4.5             8   \n",
              "\n",
              "                                         all_reviews  normal_review_count  \\\n",
              "0  b\"Don't go here if you expect consistent or re...            -0.259129   \n",
              "1  b'My girlfriend and I went for dinner at Emera...             0.857675   \n",
              "2  b'Husband was craving Chicken Teriyaki & gyoza...             1.239022   \n",
              "3  b'The associates at this agency are absolutely...            -0.277288   \n",
              "4  b\"Great customer service and great job every t...            -0.268208   \n",
              "5  b'horrible. do not go.  staff is dishonest and...            -0.277288   \n",
              "6  b'OK place- I\\'ve gone for a couple of years a...            -0.240969   \n",
              "7  b'My stylist, Maria, listened to me carefully ...            -0.277288   \n",
              "8  b'My nail girl is renting station at this plac...            -0.231890   \n",
              "9  b\"I've always had an excellent experience at O...            -0.231890   \n",
              "\n",
              "   normal_min_max_review_count  \n",
              "0                     0.000240  \n",
              "1                     0.014979  \n",
              "2                     0.020012  \n",
              "3                     0.000000  \n",
              "4                     0.000120  \n",
              "5                     0.000000  \n",
              "6                     0.000479  \n",
              "7                     0.000000  \n",
              "8                     0.000599  \n",
              "9                     0.000599  "
            ]
          },
          "metadata": {
            "tags": []
          },
          "execution_count": 15
        }
      ]
    },
    {
      "metadata": {
        "id": "Iru9jB54l-aD",
        "colab_type": "code",
        "colab": {}
      },
      "cell_type": "code",
      "source": [
        "df_merge.all_reviews = df_merge.all_reviews.apply(lambda x: x.lower()) #convert text to lower case"
      ],
      "execution_count": 0,
      "outputs": []
    },
    {
      "metadata": {
        "id": "v6NJL5zVl-aJ",
        "colab_type": "code",
        "colab": {}
      },
      "cell_type": "code",
      "source": [
        "df_merge.all_reviews = df_merge.all_reviews.replace(r'\\\\n','', regex=True) "
      ],
      "execution_count": 0,
      "outputs": []
    },
    {
      "metadata": {
        "id": "uh_VpyYel-aS",
        "colab_type": "code",
        "colab": {},
        "outputId": "f3072086-6c95-4c83-d9a1-c3d3486a7e83"
      },
      "cell_type": "code",
      "source": [
        "df_merge[:10]"
      ],
      "execution_count": 0,
      "outputs": [
        {
          "output_type": "execute_result",
          "data": {
            "text/html": [
              "<div>\n",
              "<style scoped>\n",
              "    .dataframe tbody tr th:only-of-type {\n",
              "        vertical-align: middle;\n",
              "    }\n",
              "\n",
              "    .dataframe tbody tr th {\n",
              "        vertical-align: top;\n",
              "    }\n",
              "\n",
              "    .dataframe thead th {\n",
              "        text-align: right;\n",
              "    }\n",
              "</style>\n",
              "<table border=\"1\" class=\"dataframe\">\n",
              "  <thead>\n",
              "    <tr style=\"text-align: right;\">\n",
              "      <th></th>\n",
              "      <th>business_id</th>\n",
              "      <th>stars</th>\n",
              "      <th>review_count</th>\n",
              "      <th>all_reviews</th>\n",
              "      <th>normal_review_count</th>\n",
              "      <th>normal_min_max_review_count</th>\n",
              "    </tr>\n",
              "  </thead>\n",
              "  <tbody>\n",
              "    <tr>\n",
              "      <th>0</th>\n",
              "      <td>1SWheh84yJXfytovILXOAQ</td>\n",
              "      <td>3.0</td>\n",
              "      <td>5</td>\n",
              "      <td>b\"don't go here if you expect consistent or re...</td>\n",
              "      <td>-0.259129</td>\n",
              "      <td>0.000240</td>\n",
              "    </tr>\n",
              "    <tr>\n",
              "      <th>1</th>\n",
              "      <td>QXAEGFB4oINsVuTFxEYKFQ</td>\n",
              "      <td>2.5</td>\n",
              "      <td>128</td>\n",
              "      <td>b'my girlfriend and i went for dinner at emera...</td>\n",
              "      <td>0.857675</td>\n",
              "      <td>0.014979</td>\n",
              "    </tr>\n",
              "    <tr>\n",
              "      <th>2</th>\n",
              "      <td>gnKjwL_1w79qoiV3IC_xQQ</td>\n",
              "      <td>4.0</td>\n",
              "      <td>170</td>\n",
              "      <td>b'husband was craving chicken teriyaki &amp; gyoza...</td>\n",
              "      <td>1.239022</td>\n",
              "      <td>0.020012</td>\n",
              "    </tr>\n",
              "    <tr>\n",
              "      <th>3</th>\n",
              "      <td>xvX2CttrVhyG2z1dFg_0xw</td>\n",
              "      <td>5.0</td>\n",
              "      <td>3</td>\n",
              "      <td>b'the associates at this agency are absolutely...</td>\n",
              "      <td>-0.277288</td>\n",
              "      <td>0.000000</td>\n",
              "    </tr>\n",
              "    <tr>\n",
              "      <th>4</th>\n",
              "      <td>HhyxOkGAM07SRYtlQ4wMFQ</td>\n",
              "      <td>4.0</td>\n",
              "      <td>4</td>\n",
              "      <td>b\"great customer service and great job every t...</td>\n",
              "      <td>-0.268208</td>\n",
              "      <td>0.000120</td>\n",
              "    </tr>\n",
              "    <tr>\n",
              "      <th>5</th>\n",
              "      <td>68dUKd8_8liJ7in4aWOSEA</td>\n",
              "      <td>2.5</td>\n",
              "      <td>3</td>\n",
              "      <td>b'horrible. do not go.  staff is dishonest and...</td>\n",
              "      <td>-0.277288</td>\n",
              "      <td>0.000000</td>\n",
              "    </tr>\n",
              "    <tr>\n",
              "      <th>6</th>\n",
              "      <td>5JucpCfHZltJh5r1JabjDg</td>\n",
              "      <td>3.5</td>\n",
              "      <td>7</td>\n",
              "      <td>b'ok place- i\\'ve gone for a couple of years a...</td>\n",
              "      <td>-0.240969</td>\n",
              "      <td>0.000479</td>\n",
              "    </tr>\n",
              "    <tr>\n",
              "      <th>7</th>\n",
              "      <td>gbQN7vr_caG_A1ugSmGhWg</td>\n",
              "      <td>3.5</td>\n",
              "      <td>3</td>\n",
              "      <td>b'my stylist, maria, listened to me carefully ...</td>\n",
              "      <td>-0.277288</td>\n",
              "      <td>0.000000</td>\n",
              "    </tr>\n",
              "    <tr>\n",
              "      <th>8</th>\n",
              "      <td>Y6iyemLX_oylRpnr38vgMA</td>\n",
              "      <td>5.0</td>\n",
              "      <td>8</td>\n",
              "      <td>b'my nail girl is renting station at this plac...</td>\n",
              "      <td>-0.231890</td>\n",
              "      <td>0.000599</td>\n",
              "    </tr>\n",
              "    <tr>\n",
              "      <th>9</th>\n",
              "      <td>4GBVPIYRvzGh4K4TkRQ_rw</td>\n",
              "      <td>4.5</td>\n",
              "      <td>8</td>\n",
              "      <td>b\"i've always had an excellent experience at o...</td>\n",
              "      <td>-0.231890</td>\n",
              "      <td>0.000599</td>\n",
              "    </tr>\n",
              "  </tbody>\n",
              "</table>\n",
              "</div>"
            ],
            "text/plain": [
              "              business_id  stars  review_count  \\\n",
              "0  1SWheh84yJXfytovILXOAQ    3.0             5   \n",
              "1  QXAEGFB4oINsVuTFxEYKFQ    2.5           128   \n",
              "2  gnKjwL_1w79qoiV3IC_xQQ    4.0           170   \n",
              "3  xvX2CttrVhyG2z1dFg_0xw    5.0             3   \n",
              "4  HhyxOkGAM07SRYtlQ4wMFQ    4.0             4   \n",
              "5  68dUKd8_8liJ7in4aWOSEA    2.5             3   \n",
              "6  5JucpCfHZltJh5r1JabjDg    3.5             7   \n",
              "7  gbQN7vr_caG_A1ugSmGhWg    3.5             3   \n",
              "8  Y6iyemLX_oylRpnr38vgMA    5.0             8   \n",
              "9  4GBVPIYRvzGh4K4TkRQ_rw    4.5             8   \n",
              "\n",
              "                                         all_reviews  normal_review_count  \\\n",
              "0  b\"don't go here if you expect consistent or re...            -0.259129   \n",
              "1  b'my girlfriend and i went for dinner at emera...             0.857675   \n",
              "2  b'husband was craving chicken teriyaki & gyoza...             1.239022   \n",
              "3  b'the associates at this agency are absolutely...            -0.277288   \n",
              "4  b\"great customer service and great job every t...            -0.268208   \n",
              "5  b'horrible. do not go.  staff is dishonest and...            -0.277288   \n",
              "6  b'ok place- i\\'ve gone for a couple of years a...            -0.240969   \n",
              "7  b'my stylist, maria, listened to me carefully ...            -0.277288   \n",
              "8  b'my nail girl is renting station at this plac...            -0.231890   \n",
              "9  b\"i've always had an excellent experience at o...            -0.231890   \n",
              "\n",
              "   normal_min_max_review_count  \n",
              "0                     0.000240  \n",
              "1                     0.014979  \n",
              "2                     0.020012  \n",
              "3                     0.000000  \n",
              "4                     0.000120  \n",
              "5                     0.000000  \n",
              "6                     0.000479  \n",
              "7                     0.000000  \n",
              "8                     0.000599  \n",
              "9                     0.000599  "
            ]
          },
          "metadata": {
            "tags": []
          },
          "execution_count": 18
        }
      ]
    },
    {
      "metadata": {
        "id": "muiuezj7l-aW",
        "colab_type": "code",
        "colab": {}
      },
      "cell_type": "code",
      "source": [
        "\n",
        "\n",
        "\n",
        "df_combine = df_merge[(df_merge.review_count>50) & (df_merge.review_count<3000)]\n",
        "\n"
      ],
      "execution_count": 0,
      "outputs": []
    },
    {
      "metadata": {
        "id": "sgtNlElWl-aZ",
        "colab_type": "code",
        "colab": {},
        "outputId": "dbf5aa9a-b1d1-44e4-99fd-bde5a61bc2f6"
      },
      "cell_type": "code",
      "source": [
        "df_combine.shape"
      ],
      "execution_count": 0,
      "outputs": [
        {
          "output_type": "execute_result",
          "data": {
            "text/plain": [
              "(26489, 6)"
            ]
          },
          "metadata": {
            "tags": []
          },
          "execution_count": 20
        }
      ]
    },
    {
      "metadata": {
        "id": "6tPXd738l-af",
        "colab_type": "code",
        "colab": {},
        "outputId": "3e3e59b0-7e0c-49dd-d128-8dd3effb791b"
      },
      "cell_type": "code",
      "source": [
        "df_combine['all_reviews'] = df_combine['all_reviews'].str.replace('[^\\w\\s]','') #removing punctuation "
      ],
      "execution_count": 0,
      "outputs": [
        {
          "output_type": "stream",
          "text": [
            "C:\\Users\\palak\\Anaconda3\\lib\\site-packages\\ipykernel_launcher.py:1: SettingWithCopyWarning: \n",
            "A value is trying to be set on a copy of a slice from a DataFrame.\n",
            "Try using .loc[row_indexer,col_indexer] = value instead\n",
            "\n",
            "See the caveats in the documentation: http://pandas.pydata.org/pandas-docs/stable/indexing.html#indexing-view-versus-copy\n",
            "  \"\"\"Entry point for launching an IPython kernel.\n"
          ],
          "name": "stderr"
        }
      ]
    },
    {
      "metadata": {
        "id": "RwiFdezKl-aj",
        "colab_type": "code",
        "colab": {},
        "outputId": "5e9a318c-b01c-4189-e979-e3ef6baefc8b"
      },
      "cell_type": "code",
      "source": [
        "df_combine[:10]"
      ],
      "execution_count": 0,
      "outputs": [
        {
          "output_type": "execute_result",
          "data": {
            "text/html": [
              "<div>\n",
              "<style scoped>\n",
              "    .dataframe tbody tr th:only-of-type {\n",
              "        vertical-align: middle;\n",
              "    }\n",
              "\n",
              "    .dataframe tbody tr th {\n",
              "        vertical-align: top;\n",
              "    }\n",
              "\n",
              "    .dataframe thead th {\n",
              "        text-align: right;\n",
              "    }\n",
              "</style>\n",
              "<table border=\"1\" class=\"dataframe\">\n",
              "  <thead>\n",
              "    <tr style=\"text-align: right;\">\n",
              "      <th></th>\n",
              "      <th>business_id</th>\n",
              "      <th>stars</th>\n",
              "      <th>review_count</th>\n",
              "      <th>all_reviews</th>\n",
              "      <th>normal_review_count</th>\n",
              "      <th>normal_min_max_review_count</th>\n",
              "    </tr>\n",
              "  </thead>\n",
              "  <tbody>\n",
              "    <tr>\n",
              "      <th>1</th>\n",
              "      <td>QXAEGFB4oINsVuTFxEYKFQ</td>\n",
              "      <td>2.5</td>\n",
              "      <td>128</td>\n",
              "      <td>bmy girlfriend and i went for dinner at emeral...</td>\n",
              "      <td>0.857675</td>\n",
              "      <td>0.014979</td>\n",
              "    </tr>\n",
              "    <tr>\n",
              "      <th>2</th>\n",
              "      <td>gnKjwL_1w79qoiV3IC_xQQ</td>\n",
              "      <td>4.0</td>\n",
              "      <td>170</td>\n",
              "      <td>bhusband was craving chicken teriyaki  gyoza s...</td>\n",
              "      <td>1.239022</td>\n",
              "      <td>0.020012</td>\n",
              "    </tr>\n",
              "    <tr>\n",
              "      <th>22</th>\n",
              "      <td>KWywu2tTEPWmR9JnBc0WyQ</td>\n",
              "      <td>4.0</td>\n",
              "      <td>107</td>\n",
              "      <td>bits awesome herethe guys are soooo hot and ni...</td>\n",
              "      <td>0.667001</td>\n",
              "      <td>0.012463</td>\n",
              "    </tr>\n",
              "    <tr>\n",
              "      <th>25</th>\n",
              "      <td>tstimHoMcYbkSC4eBA1wEg</td>\n",
              "      <td>4.5</td>\n",
              "      <td>184</td>\n",
              "      <td>bwe found out about this gem from the mans cow...</td>\n",
              "      <td>1.366138</td>\n",
              "      <td>0.021690</td>\n",
              "    </tr>\n",
              "    <tr>\n",
              "      <th>28</th>\n",
              "      <td>iojTeSaoPuxm4WeCzDUA6w</td>\n",
              "      <td>4.5</td>\n",
              "      <td>52</td>\n",
              "      <td>bi got into a parking lot accident with my 201...</td>\n",
              "      <td>0.167617</td>\n",
              "      <td>0.005872</td>\n",
              "    </tr>\n",
              "    <tr>\n",
              "      <th>29</th>\n",
              "      <td>NDuUMJfrWk52RA-H-OtrpA</td>\n",
              "      <td>3.0</td>\n",
              "      <td>57</td>\n",
              "      <td>bpretty solid vegan spot had a rice bowl there...</td>\n",
              "      <td>0.213016</td>\n",
              "      <td>0.006471</td>\n",
              "    </tr>\n",
              "    <tr>\n",
              "      <th>47</th>\n",
              "      <td>GWO87Y-IqL54_Ijx6hTYAQ</td>\n",
              "      <td>4.5</td>\n",
              "      <td>57</td>\n",
              "      <td>bim not sure how you can rate a classic ice cr...</td>\n",
              "      <td>0.213016</td>\n",
              "      <td>0.006471</td>\n",
              "    </tr>\n",
              "    <tr>\n",
              "      <th>52</th>\n",
              "      <td>viivlh_KJkiDVxhIdZnV8Q</td>\n",
              "      <td>2.5</td>\n",
              "      <td>64</td>\n",
              "      <td>bfirst time here 1152017 to see entombed ad pl...</td>\n",
              "      <td>0.276574</td>\n",
              "      <td>0.007310</td>\n",
              "    </tr>\n",
              "    <tr>\n",
              "      <th>53</th>\n",
              "      <td>q2KtxnPa6rPSpAlMbg9l8g</td>\n",
              "      <td>4.0</td>\n",
              "      <td>174</td>\n",
              "      <td>bi loved my little cake but the owner is her o...</td>\n",
              "      <td>1.275341</td>\n",
              "      <td>0.020491</td>\n",
              "    </tr>\n",
              "    <tr>\n",
              "      <th>66</th>\n",
              "      <td>dQj5DLZjeDK3KFysh1SYOQ</td>\n",
              "      <td>4.5</td>\n",
              "      <td>242</td>\n",
              "      <td>bit doesnt get more kooky than meatless easter...</td>\n",
              "      <td>1.892761</td>\n",
              "      <td>0.028640</td>\n",
              "    </tr>\n",
              "  </tbody>\n",
              "</table>\n",
              "</div>"
            ],
            "text/plain": [
              "               business_id  stars  review_count  \\\n",
              "1   QXAEGFB4oINsVuTFxEYKFQ    2.5           128   \n",
              "2   gnKjwL_1w79qoiV3IC_xQQ    4.0           170   \n",
              "22  KWywu2tTEPWmR9JnBc0WyQ    4.0           107   \n",
              "25  tstimHoMcYbkSC4eBA1wEg    4.5           184   \n",
              "28  iojTeSaoPuxm4WeCzDUA6w    4.5            52   \n",
              "29  NDuUMJfrWk52RA-H-OtrpA    3.0            57   \n",
              "47  GWO87Y-IqL54_Ijx6hTYAQ    4.5            57   \n",
              "52  viivlh_KJkiDVxhIdZnV8Q    2.5            64   \n",
              "53  q2KtxnPa6rPSpAlMbg9l8g    4.0           174   \n",
              "66  dQj5DLZjeDK3KFysh1SYOQ    4.5           242   \n",
              "\n",
              "                                          all_reviews  normal_review_count  \\\n",
              "1   bmy girlfriend and i went for dinner at emeral...             0.857675   \n",
              "2   bhusband was craving chicken teriyaki  gyoza s...             1.239022   \n",
              "22  bits awesome herethe guys are soooo hot and ni...             0.667001   \n",
              "25  bwe found out about this gem from the mans cow...             1.366138   \n",
              "28  bi got into a parking lot accident with my 201...             0.167617   \n",
              "29  bpretty solid vegan spot had a rice bowl there...             0.213016   \n",
              "47  bim not sure how you can rate a classic ice cr...             0.213016   \n",
              "52  bfirst time here 1152017 to see entombed ad pl...             0.276574   \n",
              "53  bi loved my little cake but the owner is her o...             1.275341   \n",
              "66  bit doesnt get more kooky than meatless easter...             1.892761   \n",
              "\n",
              "    normal_min_max_review_count  \n",
              "1                      0.014979  \n",
              "2                      0.020012  \n",
              "22                     0.012463  \n",
              "25                     0.021690  \n",
              "28                     0.005872  \n",
              "29                     0.006471  \n",
              "47                     0.006471  \n",
              "52                     0.007310  \n",
              "53                     0.020491  \n",
              "66                     0.028640  "
            ]
          },
          "metadata": {
            "tags": []
          },
          "execution_count": 22
        }
      ]
    },
    {
      "metadata": {
        "id": "O9jwnu3pl-am",
        "colab_type": "code",
        "colab": {},
        "outputId": "1654b653-87b0-45ce-a032-9ceeba12d4d2"
      },
      "cell_type": "code",
      "source": [
        "df_combine['all_reviews'] = df_combine['all_reviews'].str[1:]  #removing first char \"b\""
      ],
      "execution_count": 0,
      "outputs": [
        {
          "output_type": "stream",
          "text": [
            "C:\\Users\\palak\\Anaconda3\\lib\\site-packages\\ipykernel_launcher.py:1: SettingWithCopyWarning: \n",
            "A value is trying to be set on a copy of a slice from a DataFrame.\n",
            "Try using .loc[row_indexer,col_indexer] = value instead\n",
            "\n",
            "See the caveats in the documentation: http://pandas.pydata.org/pandas-docs/stable/indexing.html#indexing-view-versus-copy\n",
            "  \"\"\"Entry point for launching an IPython kernel.\n"
          ],
          "name": "stderr"
        }
      ]
    },
    {
      "metadata": {
        "id": "d5OBJ-3Ml-at",
        "colab_type": "code",
        "colab": {},
        "outputId": "7ad145d7-2aeb-4846-9cdd-f81c3308fd13"
      },
      "cell_type": "code",
      "source": [
        "df_combine[:10]"
      ],
      "execution_count": 0,
      "outputs": [
        {
          "output_type": "execute_result",
          "data": {
            "text/html": [
              "<div>\n",
              "<style scoped>\n",
              "    .dataframe tbody tr th:only-of-type {\n",
              "        vertical-align: middle;\n",
              "    }\n",
              "\n",
              "    .dataframe tbody tr th {\n",
              "        vertical-align: top;\n",
              "    }\n",
              "\n",
              "    .dataframe thead th {\n",
              "        text-align: right;\n",
              "    }\n",
              "</style>\n",
              "<table border=\"1\" class=\"dataframe\">\n",
              "  <thead>\n",
              "    <tr style=\"text-align: right;\">\n",
              "      <th></th>\n",
              "      <th>business_id</th>\n",
              "      <th>stars</th>\n",
              "      <th>review_count</th>\n",
              "      <th>all_reviews</th>\n",
              "      <th>normal_review_count</th>\n",
              "      <th>normal_min_max_review_count</th>\n",
              "    </tr>\n",
              "  </thead>\n",
              "  <tbody>\n",
              "    <tr>\n",
              "      <th>1</th>\n",
              "      <td>QXAEGFB4oINsVuTFxEYKFQ</td>\n",
              "      <td>2.5</td>\n",
              "      <td>128</td>\n",
              "      <td>my girlfriend and i went for dinner at emerald...</td>\n",
              "      <td>0.857675</td>\n",
              "      <td>0.014979</td>\n",
              "    </tr>\n",
              "    <tr>\n",
              "      <th>2</th>\n",
              "      <td>gnKjwL_1w79qoiV3IC_xQQ</td>\n",
              "      <td>4.0</td>\n",
              "      <td>170</td>\n",
              "      <td>husband was craving chicken teriyaki  gyoza so...</td>\n",
              "      <td>1.239022</td>\n",
              "      <td>0.020012</td>\n",
              "    </tr>\n",
              "    <tr>\n",
              "      <th>22</th>\n",
              "      <td>KWywu2tTEPWmR9JnBc0WyQ</td>\n",
              "      <td>4.0</td>\n",
              "      <td>107</td>\n",
              "      <td>its awesome herethe guys are soooo hot and nic...</td>\n",
              "      <td>0.667001</td>\n",
              "      <td>0.012463</td>\n",
              "    </tr>\n",
              "    <tr>\n",
              "      <th>25</th>\n",
              "      <td>tstimHoMcYbkSC4eBA1wEg</td>\n",
              "      <td>4.5</td>\n",
              "      <td>184</td>\n",
              "      <td>we found out about this gem from the mans cowo...</td>\n",
              "      <td>1.366138</td>\n",
              "      <td>0.021690</td>\n",
              "    </tr>\n",
              "    <tr>\n",
              "      <th>28</th>\n",
              "      <td>iojTeSaoPuxm4WeCzDUA6w</td>\n",
              "      <td>4.5</td>\n",
              "      <td>52</td>\n",
              "      <td>i got into a parking lot accident with my 2011...</td>\n",
              "      <td>0.167617</td>\n",
              "      <td>0.005872</td>\n",
              "    </tr>\n",
              "    <tr>\n",
              "      <th>29</th>\n",
              "      <td>NDuUMJfrWk52RA-H-OtrpA</td>\n",
              "      <td>3.0</td>\n",
              "      <td>57</td>\n",
              "      <td>pretty solid vegan spot had a rice bowl there ...</td>\n",
              "      <td>0.213016</td>\n",
              "      <td>0.006471</td>\n",
              "    </tr>\n",
              "    <tr>\n",
              "      <th>47</th>\n",
              "      <td>GWO87Y-IqL54_Ijx6hTYAQ</td>\n",
              "      <td>4.5</td>\n",
              "      <td>57</td>\n",
              "      <td>im not sure how you can rate a classic ice cre...</td>\n",
              "      <td>0.213016</td>\n",
              "      <td>0.006471</td>\n",
              "    </tr>\n",
              "    <tr>\n",
              "      <th>52</th>\n",
              "      <td>viivlh_KJkiDVxhIdZnV8Q</td>\n",
              "      <td>2.5</td>\n",
              "      <td>64</td>\n",
              "      <td>first time here 1152017 to see entombed ad ple...</td>\n",
              "      <td>0.276574</td>\n",
              "      <td>0.007310</td>\n",
              "    </tr>\n",
              "    <tr>\n",
              "      <th>53</th>\n",
              "      <td>q2KtxnPa6rPSpAlMbg9l8g</td>\n",
              "      <td>4.0</td>\n",
              "      <td>174</td>\n",
              "      <td>i loved my little cake but the owner is her ow...</td>\n",
              "      <td>1.275341</td>\n",
              "      <td>0.020491</td>\n",
              "    </tr>\n",
              "    <tr>\n",
              "      <th>66</th>\n",
              "      <td>dQj5DLZjeDK3KFysh1SYOQ</td>\n",
              "      <td>4.5</td>\n",
              "      <td>242</td>\n",
              "      <td>it doesnt get more kooky than meatless eastern...</td>\n",
              "      <td>1.892761</td>\n",
              "      <td>0.028640</td>\n",
              "    </tr>\n",
              "  </tbody>\n",
              "</table>\n",
              "</div>"
            ],
            "text/plain": [
              "               business_id  stars  review_count  \\\n",
              "1   QXAEGFB4oINsVuTFxEYKFQ    2.5           128   \n",
              "2   gnKjwL_1w79qoiV3IC_xQQ    4.0           170   \n",
              "22  KWywu2tTEPWmR9JnBc0WyQ    4.0           107   \n",
              "25  tstimHoMcYbkSC4eBA1wEg    4.5           184   \n",
              "28  iojTeSaoPuxm4WeCzDUA6w    4.5            52   \n",
              "29  NDuUMJfrWk52RA-H-OtrpA    3.0            57   \n",
              "47  GWO87Y-IqL54_Ijx6hTYAQ    4.5            57   \n",
              "52  viivlh_KJkiDVxhIdZnV8Q    2.5            64   \n",
              "53  q2KtxnPa6rPSpAlMbg9l8g    4.0           174   \n",
              "66  dQj5DLZjeDK3KFysh1SYOQ    4.5           242   \n",
              "\n",
              "                                          all_reviews  normal_review_count  \\\n",
              "1   my girlfriend and i went for dinner at emerald...             0.857675   \n",
              "2   husband was craving chicken teriyaki  gyoza so...             1.239022   \n",
              "22  its awesome herethe guys are soooo hot and nic...             0.667001   \n",
              "25  we found out about this gem from the mans cowo...             1.366138   \n",
              "28  i got into a parking lot accident with my 2011...             0.167617   \n",
              "29  pretty solid vegan spot had a rice bowl there ...             0.213016   \n",
              "47  im not sure how you can rate a classic ice cre...             0.213016   \n",
              "52  first time here 1152017 to see entombed ad ple...             0.276574   \n",
              "53  i loved my little cake but the owner is her ow...             1.275341   \n",
              "66  it doesnt get more kooky than meatless eastern...             1.892761   \n",
              "\n",
              "    normal_min_max_review_count  \n",
              "1                      0.014979  \n",
              "2                      0.020012  \n",
              "22                     0.012463  \n",
              "25                     0.021690  \n",
              "28                     0.005872  \n",
              "29                     0.006471  \n",
              "47                     0.006471  \n",
              "52                     0.007310  \n",
              "53                     0.020491  \n",
              "66                     0.028640  "
            ]
          },
          "metadata": {
            "tags": []
          },
          "execution_count": 24
        }
      ]
    },
    {
      "metadata": {
        "id": "UrOhkikLl-ay",
        "colab_type": "code",
        "colab": {},
        "outputId": "1a9ec0ba-5b5c-4b17-f93c-5541dea84022"
      },
      "cell_type": "code",
      "source": [
        "df_combine['all_reviews'] = df_combine['all_reviews'].str.replace('\\d+', '') #removing digits"
      ],
      "execution_count": 0,
      "outputs": [
        {
          "output_type": "stream",
          "text": [
            "C:\\Users\\palak\\Anaconda3\\lib\\site-packages\\ipykernel_launcher.py:1: SettingWithCopyWarning: \n",
            "A value is trying to be set on a copy of a slice from a DataFrame.\n",
            "Try using .loc[row_indexer,col_indexer] = value instead\n",
            "\n",
            "See the caveats in the documentation: http://pandas.pydata.org/pandas-docs/stable/indexing.html#indexing-view-versus-copy\n",
            "  \"\"\"Entry point for launching an IPython kernel.\n"
          ],
          "name": "stderr"
        }
      ]
    },
    {
      "metadata": {
        "id": "zeX8T9Lol-a4",
        "colab_type": "code",
        "colab": {},
        "outputId": "460477d9-00f4-44ea-b873-f66d11634a17"
      },
      "cell_type": "code",
      "source": [
        "df_combine[:20]"
      ],
      "execution_count": 0,
      "outputs": [
        {
          "output_type": "execute_result",
          "data": {
            "text/html": [
              "<div>\n",
              "<style scoped>\n",
              "    .dataframe tbody tr th:only-of-type {\n",
              "        vertical-align: middle;\n",
              "    }\n",
              "\n",
              "    .dataframe tbody tr th {\n",
              "        vertical-align: top;\n",
              "    }\n",
              "\n",
              "    .dataframe thead th {\n",
              "        text-align: right;\n",
              "    }\n",
              "</style>\n",
              "<table border=\"1\" class=\"dataframe\">\n",
              "  <thead>\n",
              "    <tr style=\"text-align: right;\">\n",
              "      <th></th>\n",
              "      <th>business_id</th>\n",
              "      <th>stars</th>\n",
              "      <th>review_count</th>\n",
              "      <th>all_reviews</th>\n",
              "      <th>normal_review_count</th>\n",
              "      <th>normal_min_max_review_count</th>\n",
              "    </tr>\n",
              "  </thead>\n",
              "  <tbody>\n",
              "    <tr>\n",
              "      <th>1</th>\n",
              "      <td>QXAEGFB4oINsVuTFxEYKFQ</td>\n",
              "      <td>2.5</td>\n",
              "      <td>128</td>\n",
              "      <td>my girlfriend and i went for dinner at emerald...</td>\n",
              "      <td>0.857675</td>\n",
              "      <td>0.014979</td>\n",
              "    </tr>\n",
              "    <tr>\n",
              "      <th>2</th>\n",
              "      <td>gnKjwL_1w79qoiV3IC_xQQ</td>\n",
              "      <td>4.0</td>\n",
              "      <td>170</td>\n",
              "      <td>husband was craving chicken teriyaki  gyoza so...</td>\n",
              "      <td>1.239022</td>\n",
              "      <td>0.020012</td>\n",
              "    </tr>\n",
              "    <tr>\n",
              "      <th>22</th>\n",
              "      <td>KWywu2tTEPWmR9JnBc0WyQ</td>\n",
              "      <td>4.0</td>\n",
              "      <td>107</td>\n",
              "      <td>its awesome herethe guys are soooo hot and nic...</td>\n",
              "      <td>0.667001</td>\n",
              "      <td>0.012463</td>\n",
              "    </tr>\n",
              "    <tr>\n",
              "      <th>25</th>\n",
              "      <td>tstimHoMcYbkSC4eBA1wEg</td>\n",
              "      <td>4.5</td>\n",
              "      <td>184</td>\n",
              "      <td>we found out about this gem from the mans cowo...</td>\n",
              "      <td>1.366138</td>\n",
              "      <td>0.021690</td>\n",
              "    </tr>\n",
              "    <tr>\n",
              "      <th>28</th>\n",
              "      <td>iojTeSaoPuxm4WeCzDUA6w</td>\n",
              "      <td>4.5</td>\n",
              "      <td>52</td>\n",
              "      <td>i got into a parking lot accident with my  cad...</td>\n",
              "      <td>0.167617</td>\n",
              "      <td>0.005872</td>\n",
              "    </tr>\n",
              "    <tr>\n",
              "      <th>29</th>\n",
              "      <td>NDuUMJfrWk52RA-H-OtrpA</td>\n",
              "      <td>3.0</td>\n",
              "      <td>57</td>\n",
              "      <td>pretty solid vegan spot had a rice bowl there ...</td>\n",
              "      <td>0.213016</td>\n",
              "      <td>0.006471</td>\n",
              "    </tr>\n",
              "    <tr>\n",
              "      <th>47</th>\n",
              "      <td>GWO87Y-IqL54_Ijx6hTYAQ</td>\n",
              "      <td>4.5</td>\n",
              "      <td>57</td>\n",
              "      <td>im not sure how you can rate a classic ice cre...</td>\n",
              "      <td>0.213016</td>\n",
              "      <td>0.006471</td>\n",
              "    </tr>\n",
              "    <tr>\n",
              "      <th>52</th>\n",
              "      <td>viivlh_KJkiDVxhIdZnV8Q</td>\n",
              "      <td>2.5</td>\n",
              "      <td>64</td>\n",
              "      <td>first time here  to see entombed ad plenty of ...</td>\n",
              "      <td>0.276574</td>\n",
              "      <td>0.007310</td>\n",
              "    </tr>\n",
              "    <tr>\n",
              "      <th>53</th>\n",
              "      <td>q2KtxnPa6rPSpAlMbg9l8g</td>\n",
              "      <td>4.0</td>\n",
              "      <td>174</td>\n",
              "      <td>i loved my little cake but the owner is her ow...</td>\n",
              "      <td>1.275341</td>\n",
              "      <td>0.020491</td>\n",
              "    </tr>\n",
              "    <tr>\n",
              "      <th>66</th>\n",
              "      <td>dQj5DLZjeDK3KFysh1SYOQ</td>\n",
              "      <td>4.5</td>\n",
              "      <td>242</td>\n",
              "      <td>it doesnt get more kooky than meatless eastern...</td>\n",
              "      <td>1.892761</td>\n",
              "      <td>0.028640</td>\n",
              "    </tr>\n",
              "    <tr>\n",
              "      <th>71</th>\n",
              "      <td>9UTpmQ4OhX5jNFUIu7dPPQ</td>\n",
              "      <td>4.0</td>\n",
              "      <td>103</td>\n",
              "      <td>the quantity is good and price is better lolll...</td>\n",
              "      <td>0.630682</td>\n",
              "      <td>0.011983</td>\n",
              "    </tr>\n",
              "    <tr>\n",
              "      <th>73</th>\n",
              "      <td>v-scZMU6jhnmV955RSzGJw</td>\n",
              "      <td>4.5</td>\n",
              "      <td>106</td>\n",
              "      <td>this place was awful i had a salmon roll and a...</td>\n",
              "      <td>0.657921</td>\n",
              "      <td>0.012343</td>\n",
              "    </tr>\n",
              "    <tr>\n",
              "      <th>78</th>\n",
              "      <td>44YFU284Z3KDEy25QyVoUw</td>\n",
              "      <td>3.5</td>\n",
              "      <td>269</td>\n",
              "      <td>enjoyed nee house immensely no service issues ...</td>\n",
              "      <td>2.137913</td>\n",
              "      <td>0.031875</td>\n",
              "    </tr>\n",
              "    <tr>\n",
              "      <th>100</th>\n",
              "      <td>f2ZWZPENViL92BrFsIgR6w</td>\n",
              "      <td>4.5</td>\n",
              "      <td>116</td>\n",
              "      <td>it used to be  for a haircut its now  and that...</td>\n",
              "      <td>0.748718</td>\n",
              "      <td>0.013541</td>\n",
              "    </tr>\n",
              "    <tr>\n",
              "      <th>110</th>\n",
              "      <td>KjicU7uxRt2KDEnO5cgxDQ</td>\n",
              "      <td>3.0</td>\n",
              "      <td>90</td>\n",
              "      <td>this company tried deliver flowers to our home...</td>\n",
              "      <td>0.512646</td>\n",
              "      <td>0.010425</td>\n",
              "    </tr>\n",
              "    <tr>\n",
              "      <th>124</th>\n",
              "      <td>wUsjANxpknTpsaTjYoo9iA</td>\n",
              "      <td>2.5</td>\n",
              "      <td>52</td>\n",
              "      <td>i needed to update my nail color  i went to ve...</td>\n",
              "      <td>0.167617</td>\n",
              "      <td>0.005872</td>\n",
              "    </tr>\n",
              "    <tr>\n",
              "      <th>128</th>\n",
              "      <td>sKhDrZFCJqfRNylkHrIDsQ</td>\n",
              "      <td>4.0</td>\n",
              "      <td>76</td>\n",
              "      <td>this is a cool starbucks  great atmosphere  to...</td>\n",
              "      <td>0.385530</td>\n",
              "      <td>0.008748</td>\n",
              "    </tr>\n",
              "    <tr>\n",
              "      <th>140</th>\n",
              "      <td>r8764MtYyt8JhxMvrfM_xQ</td>\n",
              "      <td>4.0</td>\n",
              "      <td>320</td>\n",
              "      <td>i was really disappointed with my most recent ...</td>\n",
              "      <td>2.600978</td>\n",
              "      <td>0.037987</td>\n",
              "    </tr>\n",
              "    <tr>\n",
              "      <th>141</th>\n",
              "      <td>L0aSDVHNXCl6sY4cfZQ-5Q</td>\n",
              "      <td>4.0</td>\n",
              "      <td>108</td>\n",
              "      <td>after spending all the money and energy in con...</td>\n",
              "      <td>0.676081</td>\n",
              "      <td>0.012582</td>\n",
              "    </tr>\n",
              "    <tr>\n",
              "      <th>145</th>\n",
              "      <td>LcIHB4sWUKTnpBtvVx_W5A</td>\n",
              "      <td>4.0</td>\n",
              "      <td>69</td>\n",
              "      <td>these guys are great   if you need reliable tr...</td>\n",
              "      <td>0.321972</td>\n",
              "      <td>0.007909</td>\n",
              "    </tr>\n",
              "  </tbody>\n",
              "</table>\n",
              "</div>"
            ],
            "text/plain": [
              "                business_id  stars  review_count  \\\n",
              "1    QXAEGFB4oINsVuTFxEYKFQ    2.5           128   \n",
              "2    gnKjwL_1w79qoiV3IC_xQQ    4.0           170   \n",
              "22   KWywu2tTEPWmR9JnBc0WyQ    4.0           107   \n",
              "25   tstimHoMcYbkSC4eBA1wEg    4.5           184   \n",
              "28   iojTeSaoPuxm4WeCzDUA6w    4.5            52   \n",
              "29   NDuUMJfrWk52RA-H-OtrpA    3.0            57   \n",
              "47   GWO87Y-IqL54_Ijx6hTYAQ    4.5            57   \n",
              "52   viivlh_KJkiDVxhIdZnV8Q    2.5            64   \n",
              "53   q2KtxnPa6rPSpAlMbg9l8g    4.0           174   \n",
              "66   dQj5DLZjeDK3KFysh1SYOQ    4.5           242   \n",
              "71   9UTpmQ4OhX5jNFUIu7dPPQ    4.0           103   \n",
              "73   v-scZMU6jhnmV955RSzGJw    4.5           106   \n",
              "78   44YFU284Z3KDEy25QyVoUw    3.5           269   \n",
              "100  f2ZWZPENViL92BrFsIgR6w    4.5           116   \n",
              "110  KjicU7uxRt2KDEnO5cgxDQ    3.0            90   \n",
              "124  wUsjANxpknTpsaTjYoo9iA    2.5            52   \n",
              "128  sKhDrZFCJqfRNylkHrIDsQ    4.0            76   \n",
              "140  r8764MtYyt8JhxMvrfM_xQ    4.0           320   \n",
              "141  L0aSDVHNXCl6sY4cfZQ-5Q    4.0           108   \n",
              "145  LcIHB4sWUKTnpBtvVx_W5A    4.0            69   \n",
              "\n",
              "                                           all_reviews  normal_review_count  \\\n",
              "1    my girlfriend and i went for dinner at emerald...             0.857675   \n",
              "2    husband was craving chicken teriyaki  gyoza so...             1.239022   \n",
              "22   its awesome herethe guys are soooo hot and nic...             0.667001   \n",
              "25   we found out about this gem from the mans cowo...             1.366138   \n",
              "28   i got into a parking lot accident with my  cad...             0.167617   \n",
              "29   pretty solid vegan spot had a rice bowl there ...             0.213016   \n",
              "47   im not sure how you can rate a classic ice cre...             0.213016   \n",
              "52   first time here  to see entombed ad plenty of ...             0.276574   \n",
              "53   i loved my little cake but the owner is her ow...             1.275341   \n",
              "66   it doesnt get more kooky than meatless eastern...             1.892761   \n",
              "71   the quantity is good and price is better lolll...             0.630682   \n",
              "73   this place was awful i had a salmon roll and a...             0.657921   \n",
              "78   enjoyed nee house immensely no service issues ...             2.137913   \n",
              "100  it used to be  for a haircut its now  and that...             0.748718   \n",
              "110  this company tried deliver flowers to our home...             0.512646   \n",
              "124  i needed to update my nail color  i went to ve...             0.167617   \n",
              "128  this is a cool starbucks  great atmosphere  to...             0.385530   \n",
              "140  i was really disappointed with my most recent ...             2.600978   \n",
              "141  after spending all the money and energy in con...             0.676081   \n",
              "145  these guys are great   if you need reliable tr...             0.321972   \n",
              "\n",
              "     normal_min_max_review_count  \n",
              "1                       0.014979  \n",
              "2                       0.020012  \n",
              "22                      0.012463  \n",
              "25                      0.021690  \n",
              "28                      0.005872  \n",
              "29                      0.006471  \n",
              "47                      0.006471  \n",
              "52                      0.007310  \n",
              "53                      0.020491  \n",
              "66                      0.028640  \n",
              "71                      0.011983  \n",
              "73                      0.012343  \n",
              "78                      0.031875  \n",
              "100                     0.013541  \n",
              "110                     0.010425  \n",
              "124                     0.005872  \n",
              "128                     0.008748  \n",
              "140                     0.037987  \n",
              "141                     0.012582  \n",
              "145                     0.007909  "
            ]
          },
          "metadata": {
            "tags": []
          },
          "execution_count": 26
        }
      ]
    },
    {
      "metadata": {
        "id": "owxvcqTml-a8",
        "colab_type": "text"
      },
      "cell_type": "markdown",
      "source": [
        "# TF-IDF Vectorizer"
      ]
    },
    {
      "metadata": {
        "id": "hZtgd4Yel-a9",
        "colab_type": "code",
        "colab": {}
      },
      "cell_type": "code",
      "source": [
        "#TF-IDF to do feature extraction from review contents for models.\n",
        "\n",
        "import sklearn.feature_extraction.text as sk_text\n",
        "\n",
        "vectorizer = sk_text.TfidfVectorizer(stop_words = 'english', max_features = 1000, min_df=1)\n",
        "\n",
        "matrix = vectorizer.fit_transform(df_combine.all_reviews)\n"
      ],
      "execution_count": 0,
      "outputs": []
    },
    {
      "metadata": {
        "id": "tys_BvtVl-bB",
        "colab_type": "code",
        "colab": {},
        "outputId": "1ffbf2ea-627f-4f62-ad9f-359ca07e0ae0"
      },
      "cell_type": "code",
      "source": [
        "print(vectorizer.get_feature_names())"
      ],
      "execution_count": 0,
      "outputs": [
        {
          "output_type": "stream",
          "text": [
            "['able', 'absolutely', 'accommodating', 'actual', 'actually', 'add', 'added', 'addition', 'affordable', 'afternoon', 'ago', 'ahead', 'air', 'airport', 'amazing', 'ambiance', 'american', 'apparently', 'appetizer', 'appetizers', 'apple', 'appointment', 'appreciate', 'area', 'arent', 'arrived', 'asian', 'ask', 'asked', 'asking', 'ate', 'atmosphere', 'attention', 'attentive', 'attitude', 'authentic', 'available', 'average', 'avocado', 'avoid', 'away', 'awesome', 'awful', 'baby', 'bacon', 'bad', 'bag', 'baked', 'bar', 'barely', 'bartender', 'bartenders', 'based', 'basic', 'basically', 'bathroom', 'bbq', 'bean', 'beans', 'beat', 'beautiful', 'bed', 'beef', 'beer', 'beers', 'believe', 'belly', 'best', 'better', 'big', 'birthday', 'bit', 'bite', 'black', 'bland', 'blue', 'book', 'bottle', 'bought', 'bowl', 'box', 'boyfriend', 'bread', 'breakfast', 'bring', 'brisket', 'broth', 'brought', 'brunch', 'bucks', 'buffet', 'building', 'bun', 'bunch', 'burger', 'burgers', 'burrito', 'business', 'busy', 'butter', 'buy', 'cafe', 'cake', 'calamari', 'called', 'came', 'car', 'card', 'care', 'case', 'cash', 'casino', 'casual', 'cause', 'center', 'certainly', 'chain', 'chairs', 'chance', 'change', 'changed', 'charge', 'charged', 'charlotte', 'cheap', 'check', 'checked', 'checking', 'cheese', 'chef', 'chicken', 'chili', 'chinese', 'chips', 'chocolate', 'choice', 'choices', 'choose', 'chose', 'city', 'classic', 'clean', 'clear', 'clearly', 'close', 'closed', 'club', 'cocktail', 'cocktails', 'coconut', 'coffee', 'cold', 'color', 'combo', 'come', 'comes', 'comfortable', 'coming', 'company', 'compared', 'complaint', 'complete', 'completely', 'considering', 'conversation', 'cook', 'cooked', 'cool', 'corn', 'corner', 'cost', 'counter', 'couple', 'course', 'covered', 'cozy', 'crab', 'craving', 'crazy', 'cream', 'creamy', 'credit', 'crispy', 'crowd', 'crowded', 'crust', 'cup', 'curry', 'customer', 'customers', 'cut', 'cute', 'dark', 'date', 'daughter', 'day', 'days', 'deal', 'decent', 'decided', 'decor', 'deep', 'definitely', 'delicious', 'delivered', 'delivery', 'desert', 'desk', 'despite', 'dessert', 'desserts', 'did', 'didnt', 'die', 'different', 'dim', 'dining', 'dinner', 'dip', 'dirty', 'disappointed', 'disappointing', 'dish', 'dishes', 'does', 'doesnt', 'dog', 'dogs', 'doing', 'dollars', 'dont', 'donuts', 'door', 'double', 'downtown', 'dr', 'dressing', 'drink', 'drinks', 'drive', 'dry', 'duck', 'early', 'easily', 'easy', 'eat', 'eaten', 'eating', 'efficient', 'egg', 'eggs', 'employee', 'employees', 'end', 'ended', 'enjoy', 'enjoyed', 'entire', 'entree', 'entrees', 'environment', 'especially', 'establishment', 'evening', 'event', 'exactly', 'excellent', 'excited', 'expect', 'expectations', 'expected', 'expecting', 'expensive', 'experience', 'explained', 'extra', 'extremely', 'eye', 'fabulous', 'face', 'fact', 'fair', 'fairly', 'family', 'fan', 'fancy', 'fantastic', 'far', 'fast', 'fat', 'favorite', 'favorites', 'feel', 'feeling', 'felt', 'filet', 'filled', 'filling', 'finally', 'fine', 'finish', 'finished', 'fish', 'fix', 'flavor', 'flavorful', 'flavors', 'flavour', 'flight', 'floor', 'food', 'foods', 'forever', 'forget', 'forgot', 'forward', 'free', 'french', 'fresh', 'friday', 'fried', 'friend', 'friendly', 'friends', 'fries', 'frozen', 'fruit', 'fun', 'game', 'games', 'garlic', 'gave', 'gem', 'general', 'generous', 'gets', 'getting', 'girl', 'girls', 'given', 'giving', 'glad', 'glass', 'glasses', 'goes', 'going', 'gone', 'good', 'got', 'gotten', 'grab', 'gravy', 'greasy', 'great', 'green', 'greeted', 'grill', 'grilled', 'group', 'guess', 'guests', 'guy', 'guys', 'hair', 'half', 'hand', 'hands', 'happened', 'happy', 'hard', 'hate', 'havent', 'having', 'head', 'healthy', 'hear', 'heard', 'heat', 'heavy', 'help', 'helped', 'helpful', 'hes', 'high', 'higher', 'highly', 'hit', 'hold', 'home', 'homemade', 'honest', 'honestly', 'honey', 'hope', 'horrible', 'hostess', 'hot', 'hotel', 'hour', 'hours', 'house', 'huge', 'hungry', 'husband', 'ice', 'iced', 'id', 'idea', 'ill', 'im', 'immediately', 'impressed', 'included', 'including', 'incredible', 'incredibly', 'indian', 'ingredients', 'inside', 'instead', 'interesting', 'interior', 'isnt', 'issue', 'issues', 'italian', 'item', 'items', 'ive', 'japanese', 'job', 'joint', 'juice', 'juicy', 'just', 'kept', 'kids', 'kind', 'kinda', 'kitchen', 'knew', 'know', 'knowledgeable', 'knows', 'korean', 'la', 'lack', 'lady', 'lamb', 'large', 'las', 'late', 'later', 'leave', 'leaving', 'left', 'lemon', 'let', 'lets', 'lettuce', 'level', 'life', 'light', 'like', 'liked', 'limited', 'line', 'list', 'literally', 'little', 'live', 'lived', 'lobster', 'local', 'located', 'location', 'locations', 'lol', 'long', 'longer', 'look', 'looked', 'looking', 'looks', 'lost', 'lot', 'lots', 'loud', 'love', 'loved', 'lovely', 'low', 'lunch', 'mac', 'main', 'make', 'makes', 'making', 'mall', 'man', 'management', 'manager', 'mango', 'market', 'massage', 'matter', 'maybe', 'meal', 'meals', 'mean', 'means', 'meat', 'meats', 'mediocre', 'medium', 'mention', 'mentioned', 'menu', 'met', 'mexican', 'middle', 'milk', 'min', 'mind', 'mins', 'minute', 'minutes', 'miss', 'missing', 'mix', 'mixed', 'modern', 'mom', 'money', 'month', 'months', 'morning', 'mouth', 'moved', 'movie', 'moving', 'multiple', 'mushroom', 'mushrooms', 'music', 'nachos', 'nail', 'nails', 'near', 'need', 'needed', 'needs', 'negative', 'neighborhood', 'new', 'nice', 'nicely', 'night', 'nights', 'noodle', 'noodles', 'normal', 'normally', 'notch', 'note', 'noticed', 'number', 'obviously', 'offer', 'offered', 'office', 'oh', 'oil', 'ok', 'okay', 'old', 'ones', 'onion', 'onions', 'online', 'open', 'opened', 'opinion', 'option', 'options', 'orange', 'order', 'ordered', 'ordering', 'orders', 'original', 'outdoor', 'outside', 'outstanding', 'overall', 'overpriced', 'owner', 'owners', 'oysters', 'packed', 'pad', 'paid', 'pancakes', 'park', 'parking', 'party', 'pass', 'past', 'pasta', 'patio', 'pay', 'paying', 'people', 'pepper', 'peppers', 'perfect', 'perfection', 'perfectly', 'person', 'personal', 'personally', 'pho', 'phoenix', 'phone', 'pick', 'picked', 'pictures', 'pie', 'piece', 'pieces', 'pizza', 'pizzas', 'place', 'placed', 'places', 'plain', 'plan', 'plate', 'plates', 'play', 'playing', 'pleasant', 'pleased', 'plenty', 'plus', 'pm', 'point', 'polite', 'pool', 'poor', 'pork', 'portion', 'portions', 'possible', 'pot', 'potato', 'potatoes', 'prefer', 'prepared', 'presentation', 'pretty', 'price', 'priced', 'prices', 'pricey', 'prime', 'probably', 'problem', 'process', 'professional', 'provided', 'pulled', 'purchase', 'quality', 'questions', 'quick', 'quickly', 'quiet', 'quite', 'ramen', 'rare', 'rating', 'read', 'reading', 'ready', 'real', 'really', 'reason', 'reasonable', 'received', 'recently', 'recommend', 'recommended', 'red', 'regular', 'remember', 'reservation', 'reservations', 'rest', 'restaurant', 'restaurants', 'return', 'returning', 'review', 'reviews', 'rib', 'ribs', 'rice', 'rich', 'right', 'roasted', 'rock', 'roll', 'rolls', 'room', 'rooms', 'rude', 'run', 'running', 'rush', 'sad', 'said', 'salad', 'salads', 'sales', 'salmon', 'salon', 'salsa', 'salt', 'salty', 'sandwich', 'sandwiches', 'sashimi', 'sat', 'satisfied', 'saturday', 'sauce', 'sauces', 'sausage', 'save', 'saw', 'say', 'saying', 'says', 'school', 'scottsdale', 'seafood', 'seasoned', 'seat', 'seated', 'seating', 'seats', 'second', 'section', 'seeing', 'seen', 'selection', 'sent', 'seriously', 'serve', 'served', 'server', 'servers', 'service', 'services', 'serving', 'set', 'share', 'shared', 'shop', 'shopping', 'short', 'shot', 'showed', 'shows', 'shrimp', 'sides', 'sign', 'similar', 'simple', 'simply', 'single', 'sit', 'sitting', 'size', 'slice', 'slices', 'slightly', 'slow', 'small', 'smaller', 'smell', 'smile', 'smoked', 'soft', 'solid', 'son', 'soon', 'sorry', 'sort', 'soup', 'sour', 'space', 'speak', 'special', 'specials', 'spend', 'spent', 'spice', 'spicy', 'spinach', 'split', 'spot', 'spots', 'spring', 'st', 'staff', 'stand', 'standard', 'star', 'stars', 'start', 'started', 'station', 'stay', 'stayed', 'staying', 'steak', 'stick', 'stop', 'stopped', 'store', 'street', 'strip', 'strong', 'stuff', 'stuffed', 'style', 'sugar', 'suggest', 'summer', 'sunday', 'super', 'supposed', 'sure', 'surprise', 'surprised', 'sushi', 'sweet', 'table', 'tables', 'taco', 'tacos', 'taken', 'takes', 'taking', 'talk', 'talking', 'taste', 'tasted', 'tastes', 'tasting', 'tasty', 'tea', 'team', 'tell', 'tender', 'terrible', 'texture', 'th', 'thai', 'thank', 'thanks', 'thats', 'theres', 'theyre', 'thing', 'things', 'think', 'thinking', 'thought', 'time', 'times', 'tiny', 'tip', 'toast', 'today', 'tofu', 'told', 'tomato', 'tomatoes', 'tonight', 'took', 'topped', 'toppings', 'toronto', 'total', 'totally', 'touch', 'town', 'traditional', 'treat', 'treated', 'tried', 'trip', 'true', 'truly', 'try', 'trying', 'tuna', 'turkey', 'turn', 'turned', 'tv', 'twice', 'type', 'typical', 'understand', 'unfortunately', 'unique', 'unless', 'use', 'used', 'using', 'usual', 'usually', 'valley', 'value', 'variety', 'vegan', 'vegas', 'vegetables', 'vegetarian', 'veggie', 'veggies', 'vibe', 'view', 'visit', 'visited', 'visiting', 'waffle', 'wait', 'waited', 'waiter', 'waiting', 'waitress', 'walk', 'walked', 'walking', 'wall', 'want', 'wanted', 'warm', 'wash', 'wasnt', 'waste', 'watch', 'watching', 'water', 'way', 'wedding', 'week', 'weekend', 'weeks', 'weird', 'welcoming', 'went', 'werent', 'weve', 'white', 'wife', 'window', 'wine', 'wings', 'wish', 'woman', 'wonderful', 'wont', 'word', 'work', 'worked', 'working', 'works', 'world', 'worse', 'worst', 'worth', 'wouldnt', 'wow', 'write', 'wrong', 'year', 'years', 'yelp', 'yes', 'youll', 'young', 'youre', 'yum', 'yummy']\n"
          ],
          "name": "stdout"
        }
      ]
    },
    {
      "metadata": {
        "id": "oNHTC4m-l-bF",
        "colab_type": "text"
      },
      "cell_type": "markdown",
      "source": [
        "# Getting X ready for Modeling"
      ]
    },
    {
      "metadata": {
        "id": "E1vVE6Mdl-bH",
        "colab_type": "code",
        "colab": {}
      },
      "cell_type": "code",
      "source": [
        "#After feature normalization with Z-Score, X is ready for all other models\n",
        "\n",
        "a_1 = matrix.toarray()"
      ],
      "execution_count": 0,
      "outputs": []
    },
    {
      "metadata": {
        "id": "qDCLjPWTl-bM",
        "colab_type": "code",
        "colab": {}
      },
      "cell_type": "code",
      "source": [
        "normal_review_count = df_combine['normal_review_count'].tolist()"
      ],
      "execution_count": 0,
      "outputs": []
    },
    {
      "metadata": {
        "id": "J8TTABpCl-bP",
        "colab_type": "code",
        "colab": {}
      },
      "cell_type": "code",
      "source": [
        "import numpy as np\n",
        "a_2 = np.asarray([ np.asarray(normal_review_count)])"
      ],
      "execution_count": 0,
      "outputs": []
    },
    {
      "metadata": {
        "id": "gdQQDU92l-bR",
        "colab_type": "code",
        "colab": {},
        "outputId": "a6d6e9dd-904a-4d16-c273-8e902d2091e8"
      },
      "cell_type": "code",
      "source": [
        "a_1.shape"
      ],
      "execution_count": 0,
      "outputs": [
        {
          "output_type": "execute_result",
          "data": {
            "text/plain": [
              "(26489, 1000)"
            ]
          },
          "metadata": {
            "tags": []
          },
          "execution_count": 32
        }
      ]
    },
    {
      "metadata": {
        "id": "ah66UTuql-bU",
        "colab_type": "code",
        "colab": {},
        "outputId": "2bb323e0-394a-4540-cb2e-59971e45019d"
      },
      "cell_type": "code",
      "source": [
        "print(a_2)"
      ],
      "execution_count": 0,
      "outputs": [
        {
          "output_type": "stream",
          "text": [
            "[[0.85767481 1.23902236 0.66700103 ... 0.72147925 0.94847185 3.69962207]]\n"
          ],
          "name": "stdout"
        }
      ]
    },
    {
      "metadata": {
        "id": "hSZNQ7a8l-bY",
        "colab_type": "code",
        "colab": {}
      },
      "cell_type": "code",
      "source": [
        "a_3 = np.concatenate((a_1,a_2.T), axis=1)"
      ],
      "execution_count": 0,
      "outputs": []
    },
    {
      "metadata": {
        "id": "Wuw4MUW-l-ba",
        "colab_type": "code",
        "colab": {},
        "outputId": "68c871b9-73dc-4fdf-8ae0-307f3aec1bdb"
      },
      "cell_type": "code",
      "source": [
        "print(a_3)"
      ],
      "execution_count": 0,
      "outputs": [
        {
          "output_type": "stream",
          "text": [
            "[[1.76239315e-03 1.37903267e-02 0.00000000e+00 ... 0.00000000e+00\n",
            "  2.27704169e-03 8.57674809e-01]\n",
            " [1.95343096e-03 6.68725495e-03 1.36486318e-03 ... 0.00000000e+00\n",
            "  5.04773153e-03 1.23902236e+00]\n",
            " [2.34507159e-02 2.86713332e-03 8.19251342e-03 ... 0.00000000e+00\n",
            "  0.00000000e+00 6.67001032e-01]\n",
            " ...\n",
            " [1.73733415e-03 8.49640354e-03 7.28325740e-03 ... 2.05236983e-02\n",
            "  2.24466504e-03 7.21479254e-01]\n",
            " [3.48847672e-03 1.02362021e-02 4.87480083e-03 ... 0.00000000e+00\n",
            "  0.00000000e+00 9.48471846e-01]\n",
            " [2.10657274e-02 2.06043174e-02 1.15964997e-02 ... 1.07730022e-03\n",
            "  3.29906368e-03 3.69962207e+00]]\n"
          ],
          "name": "stdout"
        }
      ]
    },
    {
      "metadata": {
        "id": "w7EC88WHl-bg",
        "colab_type": "code",
        "colab": {}
      },
      "cell_type": "code",
      "source": [
        "x = a_3"
      ],
      "execution_count": 0,
      "outputs": []
    },
    {
      "metadata": {
        "id": "pCuBdLOTl-bo",
        "colab_type": "text"
      },
      "cell_type": "markdown",
      "source": [
        "## Getting x ready for mnb"
      ]
    },
    {
      "metadata": {
        "id": "QjzL4QzKl-bp",
        "colab_type": "code",
        "colab": {}
      },
      "cell_type": "code",
      "source": [
        "#After feature normalization with Min-Max, X is ready for MNB model\n",
        "\n",
        "normal_min_max_review_count = df_combine['normal_min_max_review_count'].tolist()\n",
        "\n",
        "import numpy as np\n",
        "a_4 = np.asarray([ np.asarray(normal_min_max_review_count)])\n",
        "x_mnb = np.concatenate((a_1,a_4.T), axis=1)"
      ],
      "execution_count": 0,
      "outputs": []
    },
    {
      "metadata": {
        "id": "GgxL8dd8l-bt",
        "colab_type": "code",
        "colab": {},
        "outputId": "07f4479b-18f2-429a-daa6-71dedc2052dc"
      },
      "cell_type": "code",
      "source": [
        "print(x.shape)\n",
        "print(x_mnb.shape)"
      ],
      "execution_count": 0,
      "outputs": [
        {
          "output_type": "stream",
          "text": [
            "(26489, 1001)\n",
            "(26489, 1001)\n"
          ],
          "name": "stdout"
        }
      ]
    },
    {
      "metadata": {
        "id": "VaIvJtsIl-by",
        "colab_type": "text"
      },
      "cell_type": "markdown",
      "source": [
        "# Making Y ready for Modeling"
      ]
    },
    {
      "metadata": {
        "id": "kyR3VY7fl-bz",
        "colab_type": "code",
        "colab": {}
      },
      "cell_type": "code",
      "source": [
        "#For linear regression Y is label encoded\n",
        "\n",
        "y_list = df_combine['stars'].tolist()"
      ],
      "execution_count": 0,
      "outputs": []
    },
    {
      "metadata": {
        "id": "B2G6i1FZl-b1",
        "colab_type": "code",
        "colab": {}
      },
      "cell_type": "code",
      "source": [
        "y = y_list"
      ],
      "execution_count": 0,
      "outputs": []
    },
    {
      "metadata": {
        "id": "dd61zBKnl-b5",
        "colab_type": "code",
        "colab": {}
      },
      "cell_type": "code",
      "source": [
        "import numpy as np\n",
        "y = np.asarray(y_list)"
      ],
      "execution_count": 0,
      "outputs": []
    },
    {
      "metadata": {
        "id": "6OFQ9vjol-b8",
        "colab_type": "code",
        "colab": {},
        "outputId": "aadb3bc3-e349-42c1-dd33-38b40fd3c4d0"
      },
      "cell_type": "code",
      "source": [
        "print(y.shape)"
      ],
      "execution_count": 0,
      "outputs": [
        {
          "output_type": "stream",
          "text": [
            "(26489,)\n"
          ],
          "name": "stdout"
        }
      ]
    },
    {
      "metadata": {
        "id": "G7tyb4vJl-cE",
        "colab_type": "code",
        "colab": {},
        "outputId": "aed930b3-e23f-4ae4-c3d5-3c7273797c58"
      },
      "cell_type": "code",
      "source": [
        "print(type(y))"
      ],
      "execution_count": 0,
      "outputs": [
        {
          "output_type": "stream",
          "text": [
            "<class 'numpy.ndarray'>\n"
          ],
          "name": "stdout"
        }
      ]
    },
    {
      "metadata": {
        "id": "bW2ARqg3l-cI",
        "colab_type": "code",
        "colab": {},
        "outputId": "149cce5d-e73d-4d52-abab-ced8748796f1"
      },
      "cell_type": "code",
      "source": [
        "y[:10]"
      ],
      "execution_count": 0,
      "outputs": [
        {
          "output_type": "execute_result",
          "data": {
            "text/plain": [
              "array([2.5, 4. , 4. , 4.5, 4.5, 3. , 4.5, 2.5, 4. , 4.5])"
            ]
          },
          "metadata": {
            "tags": []
          },
          "execution_count": 44
        }
      ]
    },
    {
      "metadata": {
        "id": "edgF9vshl-cM",
        "colab_type": "text"
      },
      "cell_type": "markdown",
      "source": [
        "# Splitting Data for Training & Testing"
      ]
    },
    {
      "metadata": {
        "id": "rZNyn7nel-cO",
        "colab_type": "text"
      },
      "cell_type": "markdown",
      "source": [
        "## Making Y ready for Modeling"
      ]
    },
    {
      "metadata": {
        "id": "NauuWbkZl-cP",
        "colab_type": "code",
        "colab": {},
        "outputId": "c0180bf8-e95d-41d4-87b1-9fd97fe55251"
      },
      "cell_type": "code",
      "source": [
        "# Label Encoding for linear regression,For linear regression Y is label encoded\n",
        "\n",
        "from sklearn import preprocessing\n",
        "\n",
        "le = preprocessing.LabelEncoder()\n",
        "\n",
        "#le.fit(y)\n",
        "\n",
        "normal_y = le.fit_transform(y)\n",
        "le.classes_"
      ],
      "execution_count": 0,
      "outputs": [
        {
          "output_type": "execute_result",
          "data": {
            "text/plain": [
              "array([1. , 1.5, 2. , 2.5, 3. , 3.5, 4. , 4.5, 5. ])"
            ]
          },
          "metadata": {
            "tags": []
          },
          "execution_count": 45
        }
      ]
    },
    {
      "metadata": {
        "id": "_omXdb2Kl-cT",
        "colab_type": "text"
      },
      "cell_type": "markdown",
      "source": [
        "## Splitting data for linear regression"
      ]
    },
    {
      "metadata": {
        "id": "5QG6gF4Bl-cU",
        "colab_type": "code",
        "colab": {}
      },
      "cell_type": "code",
      "source": [
        "import numpy as np\n",
        "from sklearn.model_selection import train_test_split\n",
        "\n",
        "x_train_lin, x_test_lin, y_train_lin, y_test_lin = train_test_split(x, y, test_size = 0.30, random_state = 42)"
      ],
      "execution_count": 0,
      "outputs": []
    },
    {
      "metadata": {
        "id": "-_rEAruXl-cW",
        "colab_type": "text"
      },
      "cell_type": "markdown",
      "source": [
        "## Splitting Data for mnb"
      ]
    },
    {
      "metadata": {
        "id": "_C1V-6Tml-cZ",
        "colab_type": "code",
        "colab": {}
      },
      "cell_type": "code",
      "source": [
        "import numpy as np\n",
        "from sklearn.model_selection import train_test_split\n",
        "\n",
        "x_train_mnb, x_test_mnb, y_train_mnb, y_test_mnb = train_test_split(x_mnb, normal_y, test_size = 0.30, random_state = 42)"
      ],
      "execution_count": 0,
      "outputs": []
    },
    {
      "metadata": {
        "id": "qQcQtezYl-cc",
        "colab_type": "text"
      },
      "cell_type": "markdown",
      "source": [
        "## Splitting Data for other models"
      ]
    },
    {
      "metadata": {
        "id": "qpwWFu4ql-cd",
        "colab_type": "code",
        "colab": {}
      },
      "cell_type": "code",
      "source": [
        "import numpy as np\n",
        "from sklearn.model_selection import train_test_split\n",
        "\n",
        "x_train, x_test, y_train, y_test = train_test_split(x, normal_y, test_size = 0.30, random_state = 42)"
      ],
      "execution_count": 0,
      "outputs": []
    },
    {
      "metadata": {
        "id": "ILxdMy1Vl-ch",
        "colab_type": "code",
        "colab": {},
        "outputId": "2f71061a-03ad-4ff7-a327-653916b579b1"
      },
      "cell_type": "code",
      "source": [
        "y_train.shape"
      ],
      "execution_count": 0,
      "outputs": [
        {
          "output_type": "execute_result",
          "data": {
            "text/plain": [
              "(18542,)"
            ]
          },
          "metadata": {
            "tags": []
          },
          "execution_count": 49
        }
      ]
    },
    {
      "metadata": {
        "id": "GZ_aXWcUl-cm",
        "colab_type": "text"
      },
      "cell_type": "markdown",
      "source": [
        "## Linear Regression"
      ]
    },
    {
      "metadata": {
        "id": "jwbPYAsBl-cm",
        "colab_type": "code",
        "colab": {},
        "outputId": "f4340887-0347-47e3-fae0-b0302cd28747"
      },
      "cell_type": "code",
      "source": [
        "from sklearn.linear_model import LinearRegression\n",
        "\n",
        "lin_reg = LinearRegression()\n",
        "\n",
        "lin_reg.fit(x_train_lin, y_train_lin)\n"
      ],
      "execution_count": 0,
      "outputs": [
        {
          "output_type": "execute_result",
          "data": {
            "text/plain": [
              "LinearRegression(copy_X=True, fit_intercept=True, n_jobs=1, normalize=False)"
            ]
          },
          "metadata": {
            "tags": []
          },
          "execution_count": 50
        }
      ]
    },
    {
      "metadata": {
        "id": "FUhVtgNal-cq",
        "colab_type": "code",
        "colab": {},
        "outputId": "67297fc3-b508-457d-cb7c-9775231d2c98"
      },
      "cell_type": "code",
      "source": [
        "from sklearn import metrics\n",
        "\n",
        "y_pred_lir = lin_reg.predict(x_test_lin)\n",
        "\n",
        "print(\"test\", y_test_lin[:20])\n",
        "print(\"pred\", y_pred_lir[:20])\n",
        "\n",
        "print(\"R2 score:\",metrics.r2_score(y_test_lin,y_pred_lir))\n",
        "print(\"RMSE::   \",np.sqrt(metrics.mean_squared_error(y_test_lin, y_pred_lir)))\n",
        "print(\"MSE:     \", metrics.mean_squared_error(y_test_lin, y_pred_lir))"
      ],
      "execution_count": 0,
      "outputs": [
        {
          "output_type": "stream",
          "text": [
            "test [3.5 4.5 4.5 4.  4.  4.5 3.5 3.5 3.  2.5 4.  3.  5.  3.5 3.5 3.  5.  3.5\n",
            " 3.5 3.5]\n",
            "pred [3.47730107 4.09572381 4.1952994  4.16872798 3.70986891 4.38389364\n",
            " 3.51106081 3.8026315  3.36679417 3.15890803 3.98987007 3.0044521\n",
            " 4.45274122 3.60345822 3.54591494 2.90740066 4.87660119 3.45648866\n",
            " 3.58317074 3.8244408 ]\n",
            "R2 score: 0.8619465860546075\n",
            "RMSE::    0.25847318016921655\n",
            "MSE:      0.06680838486678829\n"
          ],
          "name": "stdout"
        }
      ]
    },
    {
      "metadata": {
        "id": "c5qm_tmrl-ct",
        "colab_type": "code",
        "colab": {},
        "outputId": "9e508645-8926-467a-aaae-51a40467bae4"
      },
      "cell_type": "code",
      "source": [
        "import matplotlib.pyplot as plt\n",
        "\n",
        "def chart_regression(pred,y,sort=True):\n",
        "    t = pd.DataFrame({'pred' : pred, 'y' : y.flatten()})\n",
        "    if sort:\n",
        "        t.sort_values(by=['y'],inplace=True)\n",
        "    a = plt.plot(t['y'].tolist(),label='expected')\n",
        "    b = plt.plot(t['pred'].tolist(),label='prediction')\n",
        "    plt.ylabel('output')\n",
        "    plt.legend()\n",
        "    plt.show()\n",
        "    \n",
        "\n",
        "chart_regression(y_pred_lir[:100], y_test_lin[:100])"
      ],
      "execution_count": 0,
      "outputs": [
        {
          "output_type": "display_data",
          "data": {
            "image/png": "[encoded data removed]",
            "text/plain": [
              "<Figure size 432x288 with 1 Axes>"
            ]
          },
          "metadata": {
            "tags": []
          }
        }
      ]
    },
    {
      "metadata": {
        "id": "KnZ4gViul-cw",
        "colab_type": "text"
      },
      "cell_type": "markdown",
      "source": [
        "## Logistic Regression"
      ]
    },
    {
      "metadata": {
        "id": "v9BkBkx3l-cz",
        "colab_type": "code",
        "colab": {}
      },
      "cell_type": "code",
      "source": [
        "from sklearn.linear_model import LogisticRegression\n",
        "\n",
        "log_reg = LogisticRegression()\n",
        "\n",
        "log_reg.fit(x_train,y_train)\n",
        "\n",
        "y_pred_log = log_reg.predict(x_test)"
      ],
      "execution_count": 0,
      "outputs": []
    },
    {
      "metadata": {
        "id": "ryQ_phxEl-c3",
        "colab_type": "code",
        "colab": {},
        "outputId": "96f54b84-c954-4f5a-a932-696fae4b970f"
      },
      "cell_type": "code",
      "source": [
        "from sklearn import metrics\n",
        "\n",
        "y_pred_log = log_reg.predict(x_test)\n",
        "\n",
        "print(\"test\", y_test[:20])\n",
        "print(\"pred\", y_pred_log[:20])\n",
        "\n",
        "\n",
        "print(metrics.confusion_matrix(y_test,y_pred_log))\n",
        "print(\"Precision Score:: \",metrics.precision_score(y_test,y_pred_log,average='weighted'))   \n",
        "print(\"Recall Score:: \",metrics.recall_score(y_test,y_pred_log,average='weighted'))      \n",
        "print(\"F1 Score:: \",metrics.f1_score(y_test,y_pred_log,average='weighted'))"
      ],
      "execution_count": 0,
      "outputs": [
        {
          "output_type": "stream",
          "text": [
            "test [5 7 7 6 6 7 5 5 4 3 6 4 8 5 5 4 8 5 5 5]\n",
            "pred [6 6 6 6 5 7 5 6 5 5 6 5 7 5 5 4 7 5 5 6]\n",
            "[[   0    2    0    0    1    0    0    0    0]\n",
            " [   0   22   17   26    4    0    0    0    0]\n",
            " [   0    8   22   67   63    5    0    0    0]\n",
            " [   0    1    7   68  265  106    7    0    0]\n",
            " [   0    1    1   13  329  704   54    3    0]\n",
            " [   0    0    2    3   76 1202  661   33    1]\n",
            " [   0    0    0    1   11  272 1844  226    3]\n",
            " [   0    0    0    0    0    9  603  820   33]\n",
            " [   0    0    0    0    0    0    6  238  107]]\n",
            "Precision Score::  0.5476235759235792\n",
            "Recall Score::  0.5554297219076381\n",
            "F1 Score::  0.5349300870306978\n"
          ],
          "name": "stdout"
        },
        {
          "output_type": "stream",
          "text": [
            "C:\\Users\\palak\\Anaconda3\\lib\\site-packages\\sklearn\\metrics\\classification.py:1135: UndefinedMetricWarning: Precision is ill-defined and being set to 0.0 in labels with no predicted samples.\n",
            "  'precision', 'predicted', average, warn_for)\n",
            "C:\\Users\\palak\\Anaconda3\\lib\\site-packages\\sklearn\\metrics\\classification.py:1135: UndefinedMetricWarning: F-score is ill-defined and being set to 0.0 in labels with no predicted samples.\n",
            "  'precision', 'predicted', average, warn_for)\n"
          ],
          "name": "stderr"
        }
      ]
    },
    {
      "metadata": {
        "id": "XDJlNiHIl-c7",
        "colab_type": "text"
      },
      "cell_type": "markdown",
      "source": [
        "## MNB"
      ]
    },
    {
      "metadata": {
        "id": "AhW93iCvl-c7",
        "colab_type": "code",
        "colab": {},
        "outputId": "b0bebf8c-38a7-42b7-a51f-bafa9ca09c28"
      },
      "cell_type": "code",
      "source": [
        "from sklearn.naive_bayes import MultinomialNB\n",
        "\n",
        "mnb = MultinomialNB()\n",
        "mnb.fit(x_train_mnb, y_train_mnb)"
      ],
      "execution_count": 0,
      "outputs": [
        {
          "output_type": "execute_result",
          "data": {
            "text/plain": [
              "MultinomialNB(alpha=1.0, class_prior=None, fit_prior=True)"
            ]
          },
          "metadata": {
            "tags": []
          },
          "execution_count": 65
        }
      ]
    },
    {
      "metadata": {
        "id": "69hQarsul-c_",
        "colab_type": "code",
        "colab": {},
        "outputId": "332daf10-d457-4d00-b3db-f1d7a45c5e79"
      },
      "cell_type": "code",
      "source": [
        "y_pred = mnb.predict(x_test_mnb)\n",
        "\n",
        "print(\"test\", y_test_mnb[:10])\n",
        "print(\"pred\", y_pred[:10])\n",
        "\n",
        "print(metrics.confusion_matrix(y_test_mnb,y_pred))\n",
        "print(\"Precision Score:: \",metrics.precision_score(y_test_mnb,y_pred,average='weighted'))   \n",
        "print(\"Recall Score:: \",metrics.recall_score(y_test_mnb,y_pred,average='weighted'))      \n",
        "print(\"F1 Score:: \",metrics.f1_score(y_test_mnb,y_pred,average='weighted'))"
      ],
      "execution_count": 0,
      "outputs": [
        {
          "output_type": "stream",
          "text": [
            "test [5 7 7 6 6 7 5 5 4 3]\n",
            "pred [6 6 6 6 6 7 7 6 5 6]\n",
            "[[   0    2    0    0    1    0    0    0    0]\n",
            " [   0   25   16   14    8    3    0    0    3]\n",
            " [   0    7   50   24   27   45    2    2    8]\n",
            " [   0    3   56   50   75  201   17   15   37]\n",
            " [   0    0   32   53   63  632  196   58   71]\n",
            " [   0    1    6   26   57  673  927  166  122]\n",
            " [   0    0    3    6   21  175 1657  295  200]\n",
            " [   0    0    2    0    6    9  771  355  322]\n",
            " [   0    0    0    0    0    1   35   70  245]]\n",
            "Precision Score::  0.37395139752362344\n",
            "Recall Score::  0.39234931420661884\n",
            "F1 Score::  0.35718244376328223\n"
          ],
          "name": "stdout"
        },
        {
          "output_type": "stream",
          "text": [
            "C:\\Users\\palak\\Anaconda3\\lib\\site-packages\\sklearn\\metrics\\classification.py:1135: UndefinedMetricWarning: Precision is ill-defined and being set to 0.0 in labels with no predicted samples.\n",
            "  'precision', 'predicted', average, warn_for)\n",
            "C:\\Users\\palak\\Anaconda3\\lib\\site-packages\\sklearn\\metrics\\classification.py:1135: UndefinedMetricWarning: F-score is ill-defined and being set to 0.0 in labels with no predicted samples.\n",
            "  'precision', 'predicted', average, warn_for)\n"
          ],
          "name": "stderr"
        }
      ]
    },
    {
      "metadata": {
        "id": "NDwnOBPdl-dE",
        "colab_type": "text"
      },
      "cell_type": "markdown",
      "source": [
        "## KNN"
      ]
    },
    {
      "metadata": {
        "id": "eAc4lGccl-dF",
        "colab_type": "code",
        "colab": {},
        "outputId": "3b7fc6c6-c46d-4588-f83d-7e305d3fb7eb"
      },
      "cell_type": "code",
      "source": [
        "from sklearn.neighbors import KNeighborsClassifier\n",
        "\n",
        "knn = KNeighborsClassifier(n_neighbors=3)\n",
        "knn.fit(x_train,y_train)"
      ],
      "execution_count": 0,
      "outputs": [
        {
          "output_type": "execute_result",
          "data": {
            "text/plain": [
              "KNeighborsClassifier(algorithm='auto', leaf_size=30, metric='minkowski',\n",
              "           metric_params=None, n_jobs=1, n_neighbors=3, p=2,\n",
              "           weights='uniform')"
            ]
          },
          "metadata": {
            "tags": []
          },
          "execution_count": 68
        }
      ]
    },
    {
      "metadata": {
        "id": "6V6HgShOl-dK",
        "colab_type": "code",
        "colab": {},
        "outputId": "33f51466-8b61-4521-8dee-f34cd00d3745"
      },
      "cell_type": "code",
      "source": [
        "y_pred_knn = knn.predict(x_test)\n",
        "\n",
        "print(\"test\", y_test[:10])\n",
        "print(\"pred\", y_pred_knn[:10])\n",
        "\n",
        "print(metrics.confusion_matrix(y_test,y_pred_knn))\n",
        "print(\"Precision Score:: \",metrics.precision_score(y_test,y_pred_knn,average='weighted'))   \n",
        "print(\"Recall Score:: \",metrics.recall_score(y_test,y_pred_knn,average='weighted'))      \n",
        "print(\"F1 Score:: \",metrics.f1_score(y_test,y_pred_knn,average='weighted'))"
      ],
      "execution_count": 0,
      "outputs": [
        {
          "output_type": "stream",
          "text": [
            "test [5 7 7 6 6 7 5 5 4 3]\n",
            "pred [4 7 6 6 5 6 5 6 4 4]\n",
            "[[  1   1   0   1   0   0   0   0   0]\n",
            " [ 10  22  23   7   5   1   1   0   0]\n",
            " [  0  14  60  47  30   9   5   0   0]\n",
            " [  1  14  59 150 156  55  18   1   0]\n",
            " [  0   5  51 203 410 323  98  15   0]\n",
            " [  1  10  15 129 475 767 508  70   3]\n",
            " [  0   1   5  65 271 774 999 231  11]\n",
            " [  0   0   5  15  74 283 565 458  65]\n",
            " [  0   1   3   4   9  21  65 141 107]]\n",
            "Precision Score::  0.3963760224638631\n",
            "Recall Score::  0.3742292689065056\n",
            "F1 Score::  0.3777788065032237\n"
          ],
          "name": "stdout"
        }
      ]
    },
    {
      "metadata": {
        "id": "jfyaJELll-dP",
        "colab_type": "text"
      },
      "cell_type": "markdown",
      "source": [
        "## SVM "
      ]
    },
    {
      "metadata": {
        "id": "IXHmqZNtl-dQ",
        "colab_type": "code",
        "colab": {},
        "outputId": "46ba5744-551e-4397-e661-1f16ddbb849e"
      },
      "cell_type": "code",
      "source": [
        "from sklearn.svm import SVC\n",
        "\n",
        "svm = SVC(C=10.0,kernel='linear')\n",
        "svm.fit(x_train,y_train)"
      ],
      "execution_count": 0,
      "outputs": [
        {
          "output_type": "execute_result",
          "data": {
            "text/plain": [
              "SVC(C=10.0, cache_size=200, class_weight=None, coef0=0.0,\n",
              "  decision_function_shape='ovr', degree=3, gamma='auto', kernel='linear',\n",
              "  max_iter=-1, probability=False, random_state=None, shrinking=True,\n",
              "  tol=0.001, verbose=False)"
            ]
          },
          "metadata": {
            "tags": []
          },
          "execution_count": 71
        }
      ]
    },
    {
      "metadata": {
        "id": "ISlBnlXul-dT",
        "colab_type": "code",
        "colab": {},
        "outputId": "9dc7500f-f493-47c3-95e0-bda97e2a369e"
      },
      "cell_type": "code",
      "source": [
        "from sklearn import metrics\n",
        "\n",
        "y_pred_svm = svm.predict(x_test)\n",
        "\n",
        "print(\"test\", y_test[:20])\n",
        "print(\"pred\", y_pred_svm[:20])\n",
        "\n",
        "\n",
        "print(metrics.confusion_matrix(y_test,y_pred_svm))\n",
        "print(\"Precision Score:: \",metrics.precision_score(y_test,y_pred_svm,average='weighted'))   \n",
        "print(\"Recall Score:: \",metrics.recall_score(y_test,y_pred_svm,average='weighted'))      \n",
        "print(\"F1 Score:: \",metrics.f1_score(y_test,y_pred_svm,average='weighted'))"
      ],
      "execution_count": 0,
      "outputs": [
        {
          "output_type": "stream",
          "text": [
            "test [5 7 7 6 6 7 5 5 4 3 6 4 8 5 5 4 8 5 5 5]\n",
            "pred [5 6 7 7 5 7 5 6 5 4 6 5 7 5 5 3 7 5 5 5]\n",
            "[[   1    1    1    0    0    0    0    0    0]\n",
            " [   6   34   28    1    0    0    0    0    0]\n",
            " [   0   12   87   64    2    0    0    0    0]\n",
            " [   0    1   32  291  127    3    0    0    0]\n",
            " [   0    0    4   86  729  284    1    1    0]\n",
            " [   0    0    0    5  193 1479  298    3    0]\n",
            " [   0    0    0    0    5  285 1865  201    1]\n",
            " [   0    0    0    0    0    3  304 1094   64]\n",
            " [   0    0    0    0    0    0    1  139  211]]\n",
            "Precision Score::  0.7285366308017849\n",
            "Recall Score::  0.728702655089971\n",
            "F1 Score::  0.7277356341254824\n"
          ],
          "name": "stdout"
        }
      ]
    },
    {
      "metadata": {
        "id": "Odd6uJvTl-dX",
        "colab_type": "code",
        "colab": {}
      },
      "cell_type": "code",
      "source": [
        ""
      ],
      "execution_count": 0,
      "outputs": []
    }
  ]
}