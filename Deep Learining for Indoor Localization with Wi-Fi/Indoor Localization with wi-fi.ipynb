{
  "nbformat": 4,
  "nbformat_minor": 0,
  "metadata": {
    "colab": {
      "name": "Pallavi_Palak_275.ipynb",
      "version": "0.3.2",
      "provenance": [],
      "collapsed_sections": []
    },
    "kernelspec": {
      "name": "python3",
      "display_name": "Python 3"
    }
  },
  "cells": [
    {
      "cell_type": "code",
      "metadata": {
        "id": "-s7_kBXg77ae",
        "colab_type": "code",
        "outputId": "2fad423c-b341-40f8-d2c1-c179d80b7bef",
        "colab": {
          "base_uri": "https://localhost:8080/",
          "height": 128
        }
      },
      "source": [
        "from google.colab import drive\n",
        "drive.mount('/content/drive')"
      ],
      "execution_count": 1,
      "outputs": [
        {
          "output_type": "stream",
          "text": [
            "Go to this URL in a browser: https://accounts.google.com/o/oauth2/auth?client_id=947318989803-6bn6qk8qdgf4n4g3pfee6491hc0brc4i.apps.googleusercontent.com&redirect_uri=urn%3Aietf%3Awg%3Aoauth%3A2.0%3Aoob&scope=email%20https%3A%2F%2Fwww.googleapis.com%2Fauth%2Fdocs.test%20https%3A%2F%2Fwww.googleapis.com%2Fauth%2Fdrive%20https%3A%2F%2Fwww.googleapis.com%2Fauth%2Fdrive.photos.readonly%20https%3A%2F%2Fwww.googleapis.com%2Fauth%2Fpeopleapi.readonly&response_type=code\n",
            "\n",
            "Enter your authorization code:\n",
            "··········\n",
            "Mounted at /content/drive\n"
          ],
          "name": "stdout"
        }
      ]
    },
    {
      "cell_type": "markdown",
      "metadata": {
        "id": "UjwL9rbzb532",
        "colab_type": "text"
      },
      "source": [
        "#**Importing Libraries & dataset**"
      ]
    },
    {
      "cell_type": "code",
      "metadata": {
        "id": "K1HyAXLYBRw1",
        "colab_type": "code",
        "colab": {}
      },
      "source": [
        "import numpy as np\n",
        "import pandas as pd\n",
        "import tensorflow as tf"
      ],
      "execution_count": 0,
      "outputs": []
    },
    {
      "cell_type": "code",
      "metadata": {
        "id": "mXveeH2RBRzl",
        "colab_type": "code",
        "colab": {}
      },
      "source": [
        "\n",
        "df = pd.read_csv('/content/drive/My Drive/Colab Notebooks/wifi_localization.txt',delimiter= \"\\t\", encoding = 'ISO-8859-1')\n",
        "\n"
      ],
      "execution_count": 0,
      "outputs": []
    },
    {
      "cell_type": "code",
      "metadata": {
        "id": "ZDFo4kVRBR2O",
        "colab_type": "code",
        "outputId": "41dbb46e-9774-459d-fe85-a2148c1085dd",
        "colab": {
          "base_uri": "https://localhost:8080/",
          "height": 399
        }
      },
      "source": [
        "print(df[:20])"
      ],
      "execution_count": 4,
      "outputs": [
        {
          "output_type": "stream",
          "text": [
            "    -64  -56  -61  -66  -71  -82  -81  1\n",
            "0   -68  -57  -61  -65  -71  -85  -85  1\n",
            "1   -63  -60  -60  -67  -76  -85  -84  1\n",
            "2   -61  -60  -68  -62  -77  -90  -80  1\n",
            "3   -63  -65  -60  -63  -77  -81  -87  1\n",
            "4   -64  -55  -63  -66  -76  -88  -83  1\n",
            "5   -65  -61  -65  -67  -69  -87  -84  1\n",
            "6   -61  -63  -58  -66  -74  -87  -82  1\n",
            "7   -65  -60  -59  -63  -76  -86  -82  1\n",
            "8   -62  -60  -66  -68  -80  -86  -91  1\n",
            "9   -67  -61  -62  -67  -77  -83  -91  1\n",
            "10  -65  -59  -61  -67  -72  -86  -81  1\n",
            "11  -63  -57  -61  -65  -73  -84  -84  1\n",
            "12  -66  -60  -65  -62  -70  -85  -83  1\n",
            "13  -61  -59  -65  -63  -74  -89  -87  1\n",
            "14  -67  -60  -59  -61  -71  -86  -91  1\n",
            "15  -63  -56  -60  -62  -70  -84  -91  1\n",
            "16  -60  -54  -59  -65  -73  -83  -84  1\n",
            "17  -60  -58  -60  -61  -73  -84  -88  1\n",
            "18  -62  -59  -63  -64  -70  -84  -84  1\n",
            "19  -63  -59  -64  -66  -72  -84  -90  1\n"
          ],
          "name": "stdout"
        }
      ]
    },
    {
      "cell_type": "markdown",
      "metadata": {
        "id": "HS5ThHuXcSa1",
        "colab_type": "text"
      },
      "source": [
        "##About Dataset\n",
        "\n",
        "### 1.   We have dataset of 2000 records\n",
        "### 2.   For each room 500 records are taken.\n",
        "### 3.   In each room, data is recorded for 7 different location.\n"
      ]
    },
    {
      "cell_type": "code",
      "metadata": {
        "id": "RNG_5q4SCAKq",
        "colab_type": "code",
        "colab": {}
      },
      "source": [
        "pd.set_option('display.max_columns',250) #for displaying all the column value"
      ],
      "execution_count": 0,
      "outputs": []
    },
    {
      "cell_type": "code",
      "metadata": {
        "id": "l4QThmr9CW44",
        "colab_type": "code",
        "colab": {}
      },
      "source": [
        "column_names = [\n",
        "'WS1',\n",
        "'WS2',\n",
        "'WS3',\n",
        "'WS4',\n",
        "'WS5',\n",
        "'WS6',\n",
        "'WS7',\n",
        "'Location']"
      ],
      "execution_count": 0,
      "outputs": []
    },
    {
      "cell_type": "code",
      "metadata": {
        "id": "iIhFuvD3Ckna",
        "colab_type": "code",
        "colab": {}
      },
      "source": [
        "df = pd.read_csv('/content/drive/My Drive/Colab Notebooks/wifi_localization.txt',delimiter= \"\\t\", encoding = 'ISO-8859-1',names=column_names)"
      ],
      "execution_count": 0,
      "outputs": []
    },
    {
      "cell_type": "code",
      "metadata": {
        "id": "WyLrnDQ5CtQy",
        "colab_type": "code",
        "outputId": "55f02e31-80b8-4e1f-9974-fb421f16b1ba",
        "colab": {
          "base_uri": "https://localhost:8080/",
          "height": 217
        }
      },
      "source": [
        "print(df[:10])"
      ],
      "execution_count": 8,
      "outputs": [
        {
          "output_type": "stream",
          "text": [
            "   WS1  WS2  WS3  WS4  WS5  WS6  WS7  Location\n",
            "0  -64  -56  -61  -66  -71  -82  -81         1\n",
            "1  -68  -57  -61  -65  -71  -85  -85         1\n",
            "2  -63  -60  -60  -67  -76  -85  -84         1\n",
            "3  -61  -60  -68  -62  -77  -90  -80         1\n",
            "4  -63  -65  -60  -63  -77  -81  -87         1\n",
            "5  -64  -55  -63  -66  -76  -88  -83         1\n",
            "6  -65  -61  -65  -67  -69  -87  -84         1\n",
            "7  -61  -63  -58  -66  -74  -87  -82         1\n",
            "8  -65  -60  -59  -63  -76  -86  -82         1\n",
            "9  -62  -60  -66  -68  -80  -86  -91         1\n"
          ],
          "name": "stdout"
        }
      ]
    },
    {
      "cell_type": "code",
      "metadata": {
        "id": "0Zil67s9CvnC",
        "colab_type": "code",
        "outputId": "5faf2355-a3e0-4983-dd28-532be1bc5504",
        "colab": {
          "base_uri": "https://localhost:8080/",
          "height": 35
        }
      },
      "source": [
        "df.Location.unique()"
      ],
      "execution_count": 9,
      "outputs": [
        {
          "output_type": "execute_result",
          "data": {
            "text/plain": [
              "array([1, 2, 3, 4])"
            ]
          },
          "metadata": {
            "tags": []
          },
          "execution_count": 9
        }
      ]
    },
    {
      "cell_type": "code",
      "metadata": {
        "id": "_80-FOqiEB2X",
        "colab_type": "code",
        "outputId": "35bad688-eb2d-4a0c-ee09-be64e56b50bd",
        "colab": {
          "base_uri": "https://localhost:8080/",
          "height": 35
        }
      },
      "source": [
        "df_clean = df.dropna() #drop any null value row\n",
        "df.shape"
      ],
      "execution_count": 10,
      "outputs": [
        {
          "output_type": "execute_result",
          "data": {
            "text/plain": [
              "(2000, 8)"
            ]
          },
          "metadata": {
            "tags": []
          },
          "execution_count": 10
        }
      ]
    },
    {
      "cell_type": "code",
      "metadata": {
        "id": "VEuhLBCTE-s5",
        "colab_type": "code",
        "colab": {}
      },
      "source": [
        "df_unique = df_clean.drop_duplicates(keep='first', inplace=False) #removing dulicates"
      ],
      "execution_count": 0,
      "outputs": []
    },
    {
      "cell_type": "code",
      "metadata": {
        "id": "nGyhbNSUE-xo",
        "colab_type": "code",
        "colab": {}
      },
      "source": [
        "outcome_list = df_unique['Location'].tolist()"
      ],
      "execution_count": 0,
      "outputs": []
    },
    {
      "cell_type": "code",
      "metadata": {
        "id": "2n7a2Oe9E-0Y",
        "colab_type": "code",
        "outputId": "e6d95b47-93d9-47ac-ad22-6ac29e7ec6df",
        "colab": {
          "base_uri": "https://localhost:8080/",
          "height": 35
        }
      },
      "source": [
        "print(outcome_list[:10])"
      ],
      "execution_count": 13,
      "outputs": [
        {
          "output_type": "stream",
          "text": [
            "[1, 1, 1, 1, 1, 1, 1, 1, 1, 1]\n"
          ],
          "name": "stdout"
        }
      ]
    },
    {
      "cell_type": "code",
      "metadata": {
        "id": "yQg3uBbqFPHA",
        "colab_type": "code",
        "colab": {}
      },
      "source": [
        "LocList = np.array(outcome_list)"
      ],
      "execution_count": 0,
      "outputs": []
    },
    {
      "cell_type": "markdown",
      "metadata": {
        "id": "USgDK_HWf8Aw",
        "colab_type": "text"
      },
      "source": [
        "## One hot encoding  of Y"
      ]
    },
    {
      "cell_type": "code",
      "metadata": {
        "id": "umFddbz5EHJc",
        "colab_type": "code",
        "colab": {}
      },
      "source": [
        "def encode_text_dummy(df, name):\n",
        "    dummies = pd.get_dummies(df[name])\n",
        "    for x in dummies.columns:\n",
        "        dummy_name = \"{}_{}\".format(name, x)\n",
        "        df[dummy_name] = dummies[x]\n",
        "    df.drop(name, axis=1, inplace=True)"
      ],
      "execution_count": 0,
      "outputs": []
    },
    {
      "cell_type": "code",
      "metadata": {
        "id": "2EVi5wxdETkd",
        "colab_type": "code",
        "colab": {}
      },
      "source": [
        "# columns\n",
        "columns_new = ['Location']\n",
        "\n",
        "# pass in array and columns\n",
        "df_y = pd.DataFrame(LocList , columns=columns_new)"
      ],
      "execution_count": 0,
      "outputs": []
    },
    {
      "cell_type": "code",
      "metadata": {
        "id": "LZ4XAayuGnt2",
        "colab_type": "code",
        "outputId": "7db01ceb-1a9a-4e57-8af3-92e589489d79",
        "colab": {
          "base_uri": "https://localhost:8080/",
          "height": 217
        }
      },
      "source": [
        "print(df_y[:10])"
      ],
      "execution_count": 17,
      "outputs": [
        {
          "output_type": "stream",
          "text": [
            "   Location\n",
            "0         1\n",
            "1         1\n",
            "2         1\n",
            "3         1\n",
            "4         1\n",
            "5         1\n",
            "6         1\n",
            "7         1\n",
            "8         1\n",
            "9         1\n"
          ],
          "name": "stdout"
        }
      ]
    },
    {
      "cell_type": "code",
      "metadata": {
        "id": "0iUKnOLEHkoZ",
        "colab_type": "code",
        "colab": {}
      },
      "source": [
        "encode_text_dummy(df_y,'Location')"
      ],
      "execution_count": 0,
      "outputs": []
    },
    {
      "cell_type": "code",
      "metadata": {
        "id": "9GdlfYnMHq98",
        "colab_type": "code",
        "outputId": "8372cb3f-2e72-4695-d850-f26072960f69",
        "colab": {
          "base_uri": "https://localhost:8080/",
          "height": 217
        }
      },
      "source": [
        "print(df_y[:10])"
      ],
      "execution_count": 19,
      "outputs": [
        {
          "output_type": "stream",
          "text": [
            "   Location_1  Location_2  Location_3  Location_4\n",
            "0           1           0           0           0\n",
            "1           1           0           0           0\n",
            "2           1           0           0           0\n",
            "3           1           0           0           0\n",
            "4           1           0           0           0\n",
            "5           1           0           0           0\n",
            "6           1           0           0           0\n",
            "7           1           0           0           0\n",
            "8           1           0           0           0\n",
            "9           1           0           0           0\n"
          ],
          "name": "stdout"
        }
      ]
    },
    {
      "cell_type": "code",
      "metadata": {
        "id": "TCHeA3OIHvvp",
        "colab_type": "code",
        "outputId": "ff0be14a-77e1-4074-84cb-788e957c6462",
        "colab": {
          "base_uri": "https://localhost:8080/",
          "height": 217
        }
      },
      "source": [
        "print(df[:10])"
      ],
      "execution_count": 20,
      "outputs": [
        {
          "output_type": "stream",
          "text": [
            "   WS1  WS2  WS3  WS4  WS5  WS6  WS7  Location\n",
            "0  -64  -56  -61  -66  -71  -82  -81         1\n",
            "1  -68  -57  -61  -65  -71  -85  -85         1\n",
            "2  -63  -60  -60  -67  -76  -85  -84         1\n",
            "3  -61  -60  -68  -62  -77  -90  -80         1\n",
            "4  -63  -65  -60  -63  -77  -81  -87         1\n",
            "5  -64  -55  -63  -66  -76  -88  -83         1\n",
            "6  -65  -61  -65  -67  -69  -87  -84         1\n",
            "7  -61  -63  -58  -66  -74  -87  -82         1\n",
            "8  -65  -60  -59  -63  -76  -86  -82         1\n",
            "9  -62  -60  -66  -68  -80  -86  -91         1\n"
          ],
          "name": "stdout"
        }
      ]
    },
    {
      "cell_type": "markdown",
      "metadata": {
        "id": "ylduqOOagETr",
        "colab_type": "text"
      },
      "source": [
        "## Making X ready"
      ]
    },
    {
      "cell_type": "code",
      "metadata": {
        "id": "4tF1vgLCIBU_",
        "colab_type": "code",
        "colab": {}
      },
      "source": [
        "x_df=df.drop(df.columns[7],axis=1)"
      ],
      "execution_count": 0,
      "outputs": []
    },
    {
      "cell_type": "code",
      "metadata": {
        "id": "tf4GaUtfIFHk",
        "colab_type": "code",
        "outputId": "185c426c-bed2-4ca3-f6c9-ebc8d79615e0",
        "colab": {
          "base_uri": "https://localhost:8080/",
          "height": 217
        }
      },
      "source": [
        "print(x_df[:10])"
      ],
      "execution_count": 22,
      "outputs": [
        {
          "output_type": "stream",
          "text": [
            "   WS1  WS2  WS3  WS4  WS5  WS6  WS7\n",
            "0  -64  -56  -61  -66  -71  -82  -81\n",
            "1  -68  -57  -61  -65  -71  -85  -85\n",
            "2  -63  -60  -60  -67  -76  -85  -84\n",
            "3  -61  -60  -68  -62  -77  -90  -80\n",
            "4  -63  -65  -60  -63  -77  -81  -87\n",
            "5  -64  -55  -63  -66  -76  -88  -83\n",
            "6  -65  -61  -65  -67  -69  -87  -84\n",
            "7  -61  -63  -58  -66  -74  -87  -82\n",
            "8  -65  -60  -59  -63  -76  -86  -82\n",
            "9  -62  -60  -66  -68  -80  -86  -91\n"
          ],
          "name": "stdout"
        }
      ]
    },
    {
      "cell_type": "markdown",
      "metadata": {
        "id": "1CbaO98dgI5b",
        "colab_type": "text"
      },
      "source": [
        "## Min Max Normalization"
      ]
    },
    {
      "cell_type": "code",
      "metadata": {
        "id": "qrtuzeSVJ3WY",
        "colab_type": "code",
        "colab": {}
      },
      "source": [
        "def min_max_normalization(df,name):\n",
        "   \n",
        "   max_value = df[name].max()\n",
        "   min_value = df[name].min()\n",
        "   \n",
        "   new_column = \"{}_{}\".format('normalized',name)\n",
        "   \n",
        "   df[new_column] = (df[name] - min_value) / (max_value - min_value)\n",
        "   df.drop(name,axis=1,inplace = True) \n",
        "\n",
        "\n"
      ],
      "execution_count": 0,
      "outputs": []
    },
    {
      "cell_type": "code",
      "metadata": {
        "id": "c-jp9ecyKf7w",
        "colab_type": "code",
        "colab": {}
      },
      "source": [
        "list_1 = ['WS1','WS2','WS3','WS4','WS5','WS6','WS7']\n",
        "for i in list_1:\n",
        "   min_max_normalization(df,i)"
      ],
      "execution_count": 0,
      "outputs": []
    },
    {
      "cell_type": "code",
      "metadata": {
        "id": "ocoZpkatKmL_",
        "colab_type": "code",
        "outputId": "3ff1ce3e-a50c-4ca0-a5c5-8b6e8e1bf497",
        "colab": {
          "base_uri": "https://localhost:8080/",
          "height": 435
        }
      },
      "source": [
        "print(df[:10])"
      ],
      "execution_count": 25,
      "outputs": [
        {
          "output_type": "stream",
          "text": [
            "   Location  normalized_WS1  normalized_WS2  normalized_WS3  normalized_WS4  \\\n",
            "0         1        0.156250        0.620690        0.363636        0.166667   \n",
            "1         1        0.093750        0.586207        0.363636        0.181818   \n",
            "2         1        0.171875        0.482759        0.393939        0.151515   \n",
            "3         1        0.203125        0.482759        0.151515        0.227273   \n",
            "4         1        0.171875        0.310345        0.393939        0.212121   \n",
            "5         1        0.156250        0.655172        0.303030        0.166667   \n",
            "6         1        0.140625        0.448276        0.242424        0.151515   \n",
            "7         1        0.203125        0.379310        0.454545        0.166667   \n",
            "8         1        0.140625        0.482759        0.424242        0.212121   \n",
            "9         1        0.187500        0.482759        0.212121        0.136364   \n",
            "\n",
            "   normalized_WS5  normalized_WS6  normalized_WS7  \n",
            "0        0.339623        0.416667        0.485714  \n",
            "1        0.339623        0.333333        0.371429  \n",
            "2        0.245283        0.333333        0.400000  \n",
            "3        0.226415        0.194444        0.514286  \n",
            "4        0.226415        0.444444        0.314286  \n",
            "5        0.245283        0.250000        0.428571  \n",
            "6        0.377358        0.277778        0.400000  \n",
            "7        0.283019        0.277778        0.457143  \n",
            "8        0.245283        0.305556        0.457143  \n",
            "9        0.169811        0.305556        0.200000  \n"
          ],
          "name": "stdout"
        }
      ]
    },
    {
      "cell_type": "code",
      "metadata": {
        "id": "0WO9m0FOKvBS",
        "colab_type": "code",
        "outputId": "c822c221-208b-4ac2-d05c-856e655aee58",
        "colab": {
          "base_uri": "https://localhost:8080/",
          "height": 35
        }
      },
      "source": [
        "df.shape"
      ],
      "execution_count": 26,
      "outputs": [
        {
          "output_type": "execute_result",
          "data": {
            "text/plain": [
              "(2000, 8)"
            ]
          },
          "metadata": {
            "tags": []
          },
          "execution_count": 26
        }
      ]
    },
    {
      "cell_type": "code",
      "metadata": {
        "id": "fgR-JhmSLQFn",
        "colab_type": "code",
        "outputId": "1594c787-55f5-4f93-c780-26565aa56825",
        "colab": {
          "base_uri": "https://localhost:8080/",
          "height": 35
        }
      },
      "source": [
        "df_y.shape"
      ],
      "execution_count": 27,
      "outputs": [
        {
          "output_type": "execute_result",
          "data": {
            "text/plain": [
              "(2000, 4)"
            ]
          },
          "metadata": {
            "tags": []
          },
          "execution_count": 27
        }
      ]
    },
    {
      "cell_type": "code",
      "metadata": {
        "id": "Xnnsdo1_NAXP",
        "colab_type": "code",
        "colab": {}
      },
      "source": [
        "from sklearn.model_selection import train_test_split"
      ],
      "execution_count": 0,
      "outputs": []
    },
    {
      "cell_type": "markdown",
      "metadata": {
        "id": "kLGYwmT0gTji",
        "colab_type": "text"
      },
      "source": [
        "## Splitting Data for Sci-kit learn models"
      ]
    },
    {
      "cell_type": "code",
      "metadata": {
        "id": "XhLH9J4INyf-",
        "colab_type": "code",
        "outputId": "9c9e5f12-3a0a-4037-ee47-a5aeb0a4ca7f",
        "colab": {
          "base_uri": "https://localhost:8080/",
          "height": 217
        }
      },
      "source": [
        "print(df_y[:10])"
      ],
      "execution_count": 29,
      "outputs": [
        {
          "output_type": "stream",
          "text": [
            "   Location_1  Location_2  Location_3  Location_4\n",
            "0           1           0           0           0\n",
            "1           1           0           0           0\n",
            "2           1           0           0           0\n",
            "3           1           0           0           0\n",
            "4           1           0           0           0\n",
            "5           1           0           0           0\n",
            "6           1           0           0           0\n",
            "7           1           0           0           0\n",
            "8           1           0           0           0\n",
            "9           1           0           0           0\n"
          ],
          "name": "stdout"
        }
      ]
    },
    {
      "cell_type": "code",
      "metadata": {
        "id": "UwgCC45sN7MA",
        "colab_type": "code",
        "outputId": "782cb927-7b4c-41af-e268-5f25c266ab8e",
        "colab": {
          "base_uri": "https://localhost:8080/",
          "height": 217
        }
      },
      "source": [
        "print(x_df[:10])"
      ],
      "execution_count": 30,
      "outputs": [
        {
          "output_type": "stream",
          "text": [
            "   WS1  WS2  WS3  WS4  WS5  WS6  WS7\n",
            "0  -64  -56  -61  -66  -71  -82  -81\n",
            "1  -68  -57  -61  -65  -71  -85  -85\n",
            "2  -63  -60  -60  -67  -76  -85  -84\n",
            "3  -61  -60  -68  -62  -77  -90  -80\n",
            "4  -63  -65  -60  -63  -77  -81  -87\n",
            "5  -64  -55  -63  -66  -76  -88  -83\n",
            "6  -65  -61  -65  -67  -69  -87  -84\n",
            "7  -61  -63  -58  -66  -74  -87  -82\n",
            "8  -65  -60  -59  -63  -76  -86  -82\n",
            "9  -62  -60  -66  -68  -80  -86  -91\n"
          ],
          "name": "stdout"
        }
      ]
    },
    {
      "cell_type": "code",
      "metadata": {
        "id": "XfKRadXMOFQf",
        "colab_type": "code",
        "outputId": "0f6b59f4-50e3-48bb-db60-ec16dd13c966",
        "colab": {
          "base_uri": "https://localhost:8080/",
          "height": 74
        }
      },
      "source": [
        "X=df.as_matrix(columns=None)"
      ],
      "execution_count": 31,
      "outputs": [
        {
          "output_type": "stream",
          "text": [
            "/usr/local/lib/python3.6/dist-packages/ipykernel_launcher.py:1: FutureWarning: Method .as_matrix will be removed in a future version. Use .values instead.\n",
            "  \"\"\"Entry point for launching an IPython kernel.\n"
          ],
          "name": "stderr"
        }
      ]
    },
    {
      "cell_type": "code",
      "metadata": {
        "id": "2w8xUQt9OQQH",
        "colab_type": "code",
        "colab": {}
      },
      "source": [
        "Y=np.array(df_y)"
      ],
      "execution_count": 0,
      "outputs": []
    },
    {
      "cell_type": "code",
      "metadata": {
        "id": "ZdXj2Gm2LW7Y",
        "colab_type": "code",
        "colab": {}
      },
      "source": [
        "x_train,x_test,y_train,y_test = train_test_split(X,LocList,test_size=0.25,random_state=1)"
      ],
      "execution_count": 0,
      "outputs": []
    },
    {
      "cell_type": "code",
      "metadata": {
        "id": "uEihOzkPM7Pq",
        "colab_type": "code",
        "colab": {}
      },
      "source": [
        "from sklearn import metrics\n",
        "from sklearn.metrics import confusion_matrix, classification_report"
      ],
      "execution_count": 0,
      "outputs": []
    },
    {
      "cell_type": "code",
      "metadata": {
        "id": "q2OVPEk-SnB9",
        "colab_type": "code",
        "colab": {}
      },
      "source": [
        ""
      ],
      "execution_count": 0,
      "outputs": []
    },
    {
      "cell_type": "markdown",
      "metadata": {
        "id": "Txl3Q-GBSnQF",
        "colab_type": "text"
      },
      "source": [
        "# KNN\n"
      ]
    },
    {
      "cell_type": "code",
      "metadata": {
        "colab_type": "code",
        "id": "mdmqYXevNYNk",
        "outputId": "a4681e5d-a6a2-405a-b973-39d543ab6be7",
        "colab": {
          "base_uri": "https://localhost:8080/",
          "height": 72
        }
      },
      "source": [
        "from sklearn.neighbors import KNeighborsClassifier\n",
        "\n",
        "clf_knn = KNeighborsClassifier()\n",
        "clf_knn.fit(x_train,y_train)"
      ],
      "execution_count": 35,
      "outputs": [
        {
          "output_type": "execute_result",
          "data": {
            "text/plain": [
              "KNeighborsClassifier(algorithm='auto', leaf_size=30, metric='minkowski',\n",
              "           metric_params=None, n_jobs=None, n_neighbors=5, p=2,\n",
              "           weights='uniform')"
            ]
          },
          "metadata": {
            "tags": []
          },
          "execution_count": 35
        }
      ]
    },
    {
      "cell_type": "code",
      "metadata": {
        "id": "sUWhToHYQX_W",
        "colab_type": "code",
        "colab": {}
      },
      "source": [
        "%matplotlib inline\n",
        "import matplotlib.pyplot as plt\n",
        "from sklearn.metrics import roc_curve, auc\n",
        "\n",
        "# Plot a confusion matrix.\n",
        "# cm is the confusion matrix, names are the names of the classes.\n",
        "def plot_confusion_matrix(cm, names, title='Confusion matrix', cmap=plt.cm.Blues):\n",
        "    plt.imshow(cm, interpolation='nearest', cmap=cmap)\n",
        "    plt.title(title)\n",
        "    plt.colorbar()\n",
        "    tick_marks = np.arange(len(names))\n",
        "    plt.xticks(tick_marks, names, rotation=45)\n",
        "    plt.yticks(tick_marks, names)\n",
        "    plt.tight_layout()\n",
        "    plt.ylabel('True label')\n",
        "    plt.xlabel('Predicted label')\n",
        "    \n",
        "\n",
        "# Plot an ROC. pred - the predictions, y - the expected output.\n",
        "def plot_roc(pred,y):\n",
        "    fpr, tpr, thresholds = roc_curve(y, pred)\n",
        "    roc_auc = auc(fpr, tpr)\n",
        "\n",
        "    plt.figure()\n",
        "    plt.plot(fpr, tpr, label='ROC curve (area = %0.2f)' % roc_auc)\n",
        "    plt.plot([0, 1], [0, 1], 'k--')\n",
        "    plt.xlim([0.0, 1.0])\n",
        "    plt.ylim([0.0, 1.05])\n",
        "    plt.xlabel('False Positive Rate')\n",
        "    plt.ylabel('True Positive Rate')\n",
        "    plt.title('Receiver Operating Characteristic (ROC)')\n",
        "    plt.legend(loc=\"lower right\")\n",
        "    plt.show()"
      ],
      "execution_count": 0,
      "outputs": []
    },
    {
      "cell_type": "code",
      "metadata": {
        "colab_type": "code",
        "id": "WAnPrUNbNXmt",
        "outputId": "9968db4d-8657-41f9-8b8e-4c44faa4e1a7",
        "colab": {
          "base_uri": "https://localhost:8080/",
          "height": 765
        }
      },
      "source": [
        "from sklearn import metrics\n",
        "y_pred_knn = clf_knn.predict(x_test)\n",
        "\n",
        "print(\"test : \", y_test[:10])\n",
        "print(\"pred : \", y_pred_knn[:10])\n",
        "\n",
        "print()\n",
        "\n",
        "cm_knn = confusion_matrix(y_test, y_pred_knn)\n",
        "print(cm_knn)\n",
        "\n",
        "print()\n",
        "\n",
        "print(\"Precision Score:: \",metrics.precision_score(y_test,y_pred_knn,average= \"weighted\"))   \n",
        "print(\"Recall Score   :: \",metrics.recall_score(y_test,y_pred_knn,average= \"weighted\"))      \n",
        "print(\"F1 Score       :: \",metrics.f1_score(y_test,y_pred_knn,average= \"weighted\")) \n",
        "\n",
        "print()\n",
        "\n",
        "print('Plotting confusion matrix')\n",
        "plt.figure()\n",
        "plot_confusion_matrix(cm_knn, clf_knn.classes_)\n",
        "plt.show()\n",
        "\n",
        "print()\n",
        "\n",
        "print(classification_report(y_test, y_pred_knn))\n"
      ],
      "execution_count": 37,
      "outputs": [
        {
          "output_type": "stream",
          "text": [
            "test :  [2 4 3 3 3 4 2 1 3 2]\n",
            "pred :  [2 4 3 3 3 4 2 1 3 2]\n",
            "\n",
            "[[123   0   0   0]\n",
            " [  0 132   0   0]\n",
            " [  0   0 121   0]\n",
            " [  0   0   0 124]]\n",
            "\n",
            "Precision Score::  1.0\n",
            "Recall Score   ::  1.0\n",
            "F1 Score       ::  1.0\n",
            "\n",
            "Plotting confusion matrix\n"
          ],
          "name": "stdout"
        },
        {
          "output_type": "display_data",
          "data": {
            "image/png": "[encoded data removed]",
            "text/plain": [
              "<Figure size 432x288 with 2 Axes>"
            ]
          },
          "metadata": {
            "tags": []
          }
        },
        {
          "output_type": "stream",
          "text": [
            "\n",
            "              precision    recall  f1-score   support\n",
            "\n",
            "           1       1.00      1.00      1.00       123\n",
            "           2       1.00      1.00      1.00       132\n",
            "           3       1.00      1.00      1.00       121\n",
            "           4       1.00      1.00      1.00       124\n",
            "\n",
            "   micro avg       1.00      1.00      1.00       500\n",
            "   macro avg       1.00      1.00      1.00       500\n",
            "weighted avg       1.00      1.00      1.00       500\n",
            "\n"
          ],
          "name": "stdout"
        }
      ]
    },
    {
      "cell_type": "code",
      "metadata": {
        "id": "vEkE14rQQ5Ek",
        "colab_type": "code",
        "colab": {}
      },
      "source": [
        "%matplotlib inline\n",
        "import matplotlib.pyplot as plt\n",
        "from sklearn.metrics import roc_curve, auc\n",
        "\n",
        "# Plot a confusion matrix.\n",
        "# cm is the confusion matrix, names are the names of the classes.\n",
        "def plot_confusion_matrix(cm, names, title='Confusion matrix', cmap=plt.cm.Blues):\n",
        "    plt.imshow(cm, interpolation='nearest', cmap=cmap)\n",
        "    plt.title(title)\n",
        "    plt.colorbar()\n",
        "    tick_marks = np.arange(len(names))\n",
        "    plt.xticks(tick_marks, names, rotation=45)\n",
        "    plt.yticks(tick_marks, names)\n",
        "    plt.tight_layout()\n",
        "    plt.ylabel('True label')\n",
        "    plt.xlabel('Predicted label')\n",
        "    \n",
        "\n",
        "# Plot an ROC. pred - the predictions, y - the expected output.\n",
        "def plot_roc(pred,y):\n",
        "    fpr, tpr, thresholds = roc_curve(y, pred)\n",
        "    roc_auc = auc(fpr, tpr)\n",
        "\n",
        "    plt.figure()\n",
        "    plt.plot(fpr, tpr, label='ROC curve (area = %0.2f)' % roc_auc)\n",
        "    plt.plot([0, 1], [0, 1], 'k--')\n",
        "    plt.xlim([0.0, 1.0])\n",
        "    plt.ylim([0.0, 1.05])\n",
        "    plt.xlabel('False Positive Rate')\n",
        "    plt.ylabel('True Positive Rate')\n",
        "    plt.title('Receiver Operating Characteristic (ROC)')\n",
        "    plt.legend(loc=\"lower right\")\n",
        "    plt.show()"
      ],
      "execution_count": 0,
      "outputs": []
    },
    {
      "cell_type": "markdown",
      "metadata": {
        "id": "zRv5t-z6SOTY",
        "colab_type": "text"
      },
      "source": [
        "# SVM\n"
      ]
    },
    {
      "cell_type": "code",
      "metadata": {
        "id": "q8zcsiTtNo6g",
        "colab_type": "code",
        "outputId": "7f9d03eb-74ab-426a-9d65-4083b4841dae",
        "colab": {
          "base_uri": "https://localhost:8080/",
          "height": 146
        }
      },
      "source": [
        "from sklearn.svm import SVC\n",
        "\n",
        "clf_svc = SVC()\n",
        "clf_svc.fit(x_train,y_train)"
      ],
      "execution_count": 39,
      "outputs": [
        {
          "output_type": "stream",
          "text": [
            "/usr/local/lib/python3.6/dist-packages/sklearn/svm/base.py:196: FutureWarning: The default value of gamma will change from 'auto' to 'scale' in version 0.22 to account better for unscaled features. Set gamma explicitly to 'auto' or 'scale' to avoid this warning.\n",
            "  \"avoid this warning.\", FutureWarning)\n"
          ],
          "name": "stderr"
        },
        {
          "output_type": "execute_result",
          "data": {
            "text/plain": [
              "SVC(C=1.0, cache_size=200, class_weight=None, coef0=0.0,\n",
              "  decision_function_shape='ovr', degree=3, gamma='auto_deprecated',\n",
              "  kernel='rbf', max_iter=-1, probability=False, random_state=None,\n",
              "  shrinking=True, tol=0.001, verbose=False)"
            ]
          },
          "metadata": {
            "tags": []
          },
          "execution_count": 39
        }
      ]
    },
    {
      "cell_type": "code",
      "metadata": {
        "id": "RXWY7XA8QutX",
        "colab_type": "code",
        "outputId": "172febd7-79af-4b51-af46-55d4aa0b76d1",
        "colab": {
          "base_uri": "https://localhost:8080/",
          "height": 765
        }
      },
      "source": [
        "y_pred_svm = clf_svc.predict(x_test)\n",
        "\n",
        "print(\"test : \", y_test[:10])\n",
        "print(\"pred : \", y_pred_svm[:10])\n",
        "\n",
        "print()\n",
        "\n",
        "cm_svm = confusion_matrix(y_test, y_pred_svm)\n",
        "print(cm_svm)\n",
        "\n",
        "print()\n",
        "\n",
        "print(\"Precision Score:: \",metrics.precision_score(y_test,y_pred_svm,average= \"weighted\"))   \n",
        "print(\"Recall Score::    \",metrics.recall_score(y_test,y_pred_svm,average= \"weighted\"))      \n",
        "print(\"F1 Score::        \",metrics.f1_score(y_test,y_pred_svm,average= \"weighted\")) \n",
        "\n",
        "print()\n",
        "\n",
        "print('Plotting confusion matrix')\n",
        "plt.figure()\n",
        "plot_confusion_matrix(cm_svm, clf_svc.classes_)\n",
        "plt.show()\n",
        "\n",
        "print()\n",
        "\n",
        "print(classification_report(y_test, y_pred_svm))"
      ],
      "execution_count": 40,
      "outputs": [
        {
          "output_type": "stream",
          "text": [
            "test :  [2 4 3 3 3 4 2 1 3 2]\n",
            "pred :  [2 4 3 3 3 4 2 1 3 2]\n",
            "\n",
            "[[123   0   0   0]\n",
            " [  0 132   0   0]\n",
            " [  0   0 121   0]\n",
            " [  0   0   0 124]]\n",
            "\n",
            "Precision Score::  1.0\n",
            "Recall Score::     1.0\n",
            "F1 Score::         1.0\n",
            "\n",
            "Plotting confusion matrix\n"
          ],
          "name": "stdout"
        },
        {
          "output_type": "display_data",
          "data": {
            "image/png": "[encoded data removed]",
            "text/plain": [
              "<Figure size 432x288 with 2 Axes>"
            ]
          },
          "metadata": {
            "tags": []
          }
        },
        {
          "output_type": "stream",
          "text": [
            "\n",
            "              precision    recall  f1-score   support\n",
            "\n",
            "           1       1.00      1.00      1.00       123\n",
            "           2       1.00      1.00      1.00       132\n",
            "           3       1.00      1.00      1.00       121\n",
            "           4       1.00      1.00      1.00       124\n",
            "\n",
            "   micro avg       1.00      1.00      1.00       500\n",
            "   macro avg       1.00      1.00      1.00       500\n",
            "weighted avg       1.00      1.00      1.00       500\n",
            "\n"
          ],
          "name": "stdout"
        }
      ]
    },
    {
      "cell_type": "markdown",
      "metadata": {
        "id": "8mDTquU9SvJU",
        "colab_type": "text"
      },
      "source": [
        "# Logistic Regression"
      ]
    },
    {
      "cell_type": "code",
      "metadata": {
        "id": "qDxtdnlaSqJs",
        "colab_type": "code",
        "outputId": "4a0d0307-6eff-4ecd-a8e8-53941c65b376",
        "colab": {
          "base_uri": "https://localhost:8080/",
          "height": 183
        }
      },
      "source": [
        "from sklearn.linear_model import LogisticRegression\n",
        "\n",
        "clf_lr = LogisticRegression()\n",
        "clf_lr.fit(x_train, y_train)"
      ],
      "execution_count": 41,
      "outputs": [
        {
          "output_type": "stream",
          "text": [
            "/usr/local/lib/python3.6/dist-packages/sklearn/linear_model/logistic.py:433: FutureWarning: Default solver will be changed to 'lbfgs' in 0.22. Specify a solver to silence this warning.\n",
            "  FutureWarning)\n",
            "/usr/local/lib/python3.6/dist-packages/sklearn/linear_model/logistic.py:460: FutureWarning: Default multi_class will be changed to 'auto' in 0.22. Specify the multi_class option to silence this warning.\n",
            "  \"this warning.\", FutureWarning)\n"
          ],
          "name": "stderr"
        },
        {
          "output_type": "execute_result",
          "data": {
            "text/plain": [
              "LogisticRegression(C=1.0, class_weight=None, dual=False, fit_intercept=True,\n",
              "          intercept_scaling=1, max_iter=100, multi_class='warn',\n",
              "          n_jobs=None, penalty='l2', random_state=None, solver='warn',\n",
              "          tol=0.0001, verbose=0, warm_start=False)"
            ]
          },
          "metadata": {
            "tags": []
          },
          "execution_count": 41
        }
      ]
    },
    {
      "cell_type": "code",
      "metadata": {
        "id": "8ZtxKfy-SjRR",
        "colab_type": "code",
        "outputId": "9e23629e-be65-4c34-8ae6-9c629095d4ff",
        "colab": {
          "base_uri": "https://localhost:8080/",
          "height": 765
        }
      },
      "source": [
        "y_pred_lr = clf_lr.predict(x_test)\n",
        "\n",
        "print(\"test : \", y_test[:10])\n",
        "print(\"pred : \", y_pred_lr[:10])\n",
        "\n",
        "print()\n",
        "\n",
        "cm_lr = confusion_matrix(y_test, y_pred_lr)\n",
        "print(cm_lr)\n",
        "\n",
        "print()\n",
        "print(\"Precision Score:: \",metrics.precision_score(y_test,y_pred_lr,average= \"weighted\"))   \n",
        "print(\"Recall Score   :: \",metrics.recall_score(y_test,y_pred_lr,average= \"weighted\"))      \n",
        "print(\"F1 Score       :: \",metrics.f1_score(y_test,y_pred_lr,average= \"weighted\")) \n",
        "print()\n",
        "\n",
        "print('Plotting confusion matrix')\n",
        "plt.figure()\n",
        "plot_confusion_matrix(cm_lr, clf_lr.classes_)\n",
        "plt.show()\n",
        "\n",
        "print()\n",
        "\n",
        "print(classification_report(y_test, y_pred_lr))"
      ],
      "execution_count": 42,
      "outputs": [
        {
          "output_type": "stream",
          "text": [
            "test :  [2 4 3 3 3 4 2 1 3 2]\n",
            "pred :  [2 4 3 3 3 4 2 1 3 2]\n",
            "\n",
            "[[123   0   0   0]\n",
            " [  0 131   1   0]\n",
            " [  0   0 120   1]\n",
            " [  0   0   0 124]]\n",
            "\n",
            "Precision Score::  0.996016\n",
            "Recall Score   ::  0.996\n",
            "F1 Score       ::  0.9960002137828882\n",
            "\n",
            "Plotting confusion matrix\n"
          ],
          "name": "stdout"
        },
        {
          "output_type": "display_data",
          "data": {
            "image/png": "[encoded data removed]",
            "text/plain": [
              "<Figure size 432x288 with 2 Axes>"
            ]
          },
          "metadata": {
            "tags": []
          }
        },
        {
          "output_type": "stream",
          "text": [
            "\n",
            "              precision    recall  f1-score   support\n",
            "\n",
            "           1       1.00      1.00      1.00       123\n",
            "           2       1.00      0.99      1.00       132\n",
            "           3       0.99      0.99      0.99       121\n",
            "           4       0.99      1.00      1.00       124\n",
            "\n",
            "   micro avg       1.00      1.00      1.00       500\n",
            "   macro avg       1.00      1.00      1.00       500\n",
            "weighted avg       1.00      1.00      1.00       500\n",
            "\n"
          ],
          "name": "stdout"
        }
      ]
    },
    {
      "cell_type": "markdown",
      "metadata": {
        "id": "ckcHgyxYTDzY",
        "colab_type": "text"
      },
      "source": [
        "# Neural Network"
      ]
    },
    {
      "cell_type": "code",
      "metadata": {
        "colab_type": "code",
        "id": "53bu0z5An0MG",
        "colab": {}
      },
      "source": [
        ""
      ],
      "execution_count": 0,
      "outputs": []
    },
    {
      "cell_type": "code",
      "metadata": {
        "id": "2uX_P0j7TBZP",
        "colab_type": "code",
        "colab": {}
      },
      "source": [
        "X_train,X_test,y_train,y_test = train_test_split(X,Y,test_size=0.20,random_state=1)"
      ],
      "execution_count": 0,
      "outputs": []
    },
    {
      "cell_type": "code",
      "metadata": {
        "id": "iYUmVdhuS7K7",
        "colab_type": "code",
        "colab": {
          "base_uri": "https://localhost:8080/",
          "height": 35
        },
        "outputId": "97106000-b715-418b-eaaa-5375bac786a4"
      },
      "source": [
        "from keras.models import Sequential\n",
        "from keras.layers.core import Dense, Activation\n",
        "from keras.callbacks import EarlyStopping\n",
        "from keras.callbacks import ModelCheckpoint"
      ],
      "execution_count": 44,
      "outputs": [
        {
          "output_type": "stream",
          "text": [
            "Using TensorFlow backend.\n"
          ],
          "name": "stderr"
        }
      ]
    },
    {
      "cell_type": "code",
      "metadata": {
        "id": "LcTeLKwKTMka",
        "colab_type": "code",
        "outputId": "59317a7c-4785-4125-c89b-ed9ca3a0669c",
        "colab": {
          "base_uri": "https://localhost:8080/",
          "height": 199
        }
      },
      "source": [
        "print(Y[:10])"
      ],
      "execution_count": 45,
      "outputs": [
        {
          "output_type": "stream",
          "text": [
            "[[1 0 0 0]\n",
            " [1 0 0 0]\n",
            " [1 0 0 0]\n",
            " [1 0 0 0]\n",
            " [1 0 0 0]\n",
            " [1 0 0 0]\n",
            " [1 0 0 0]\n",
            " [1 0 0 0]\n",
            " [1 0 0 0]\n",
            " [1 0 0 0]]\n"
          ],
          "name": "stdout"
        }
      ]
    },
    {
      "cell_type": "code",
      "metadata": {
        "id": "RjTX3ZeWTTvs",
        "colab_type": "code",
        "outputId": "c1361a0f-0940-4689-b29f-bf151bd28b23",
        "colab": {
          "base_uri": "https://localhost:8080/",
          "height": 35
        }
      },
      "source": [
        "Y.shape"
      ],
      "execution_count": 46,
      "outputs": [
        {
          "output_type": "execute_result",
          "data": {
            "text/plain": [
              "(2000, 4)"
            ]
          },
          "metadata": {
            "tags": []
          },
          "execution_count": 46
        }
      ]
    },
    {
      "cell_type": "code",
      "metadata": {
        "id": "IO227a2_TVvi",
        "colab_type": "code",
        "outputId": "743103c5-0fad-444f-d499-f1bd2731d4a7",
        "colab": {
          "base_uri": "https://localhost:8080/",
          "height": 2783
        }
      },
      "source": [
        "checkpointer = ModelCheckpoint(filepath=\"best_weights.hdf5\", verbose=0, save_best_only=True) # save best model\n",
        "\n",
        "for i in range(3):\n",
        "   print(i)\n",
        "   model_classification = Sequential()\n",
        "   model_classification.add(Dense(80, input_dim=X_train.shape[1], activation='relu')) # Hidden 1  \n",
        "   model_classification.add(Dense(60, activation='relu')) # Hidden 2\n",
        "   model_classification.add(Dense(4,activation='softmax')) # Output\n",
        "   model_classification.compile(loss='binary_crossentropy', optimizer='adam')\n",
        "\n",
        "   monitor = EarlyStopping(monitor='val_loss', min_delta=1e-3, patience=5, verbose=1, mode='auto')\n",
        "   model_classification.fit(X_train, y_train,validation_data=(X_test,y_test),callbacks=[monitor,checkpointer],verbose=2,epochs=1000)"
      ],
      "execution_count": 47,
      "outputs": [
        {
          "output_type": "stream",
          "text": [
            "0\n",
            "WARNING:tensorflow:From /usr/local/lib/python3.6/dist-packages/tensorflow/python/framework/op_def_library.py:263: colocate_with (from tensorflow.python.framework.ops) is deprecated and will be removed in a future version.\n",
            "Instructions for updating:\n",
            "Colocations handled automatically by placer.\n",
            "WARNING:tensorflow:From /usr/local/lib/python3.6/dist-packages/tensorflow/python/ops/math_ops.py:3066: to_int32 (from tensorflow.python.ops.math_ops) is deprecated and will be removed in a future version.\n",
            "Instructions for updating:\n",
            "Use tf.cast instead.\n",
            "Train on 1600 samples, validate on 400 samples\n",
            "Epoch 1/1000\n",
            " - 1s - loss: 0.4588 - val_loss: 0.3565\n",
            "Epoch 2/1000\n",
            " - 0s - loss: 0.2707 - val_loss: 0.1815\n",
            "Epoch 3/1000\n",
            " - 0s - loss: 0.1241 - val_loss: 0.0757\n",
            "Epoch 4/1000\n",
            " - 0s - loss: 0.0526 - val_loss: 0.0367\n",
            "Epoch 5/1000\n",
            " - 0s - loss: 0.0276 - val_loss: 0.0224\n",
            "Epoch 6/1000\n",
            " - 0s - loss: 0.0177 - val_loss: 0.0152\n",
            "Epoch 7/1000\n",
            " - 0s - loss: 0.0124 - val_loss: 0.0110\n",
            "Epoch 8/1000\n",
            " - 0s - loss: 0.0098 - val_loss: 0.0085\n",
            "Epoch 9/1000\n",
            " - 0s - loss: 0.0071 - val_loss: 0.0068\n",
            "Epoch 10/1000\n",
            " - 0s - loss: 0.0056 - val_loss: 0.0062\n",
            "Epoch 11/1000\n",
            " - 0s - loss: 0.0045 - val_loss: 0.0048\n",
            "Epoch 12/1000\n",
            " - 0s - loss: 0.0038 - val_loss: 0.0042\n",
            "Epoch 13/1000\n",
            " - 0s - loss: 0.0031 - val_loss: 0.0036\n",
            "Epoch 14/1000\n",
            " - 0s - loss: 0.0028 - val_loss: 0.0053\n",
            "Epoch 15/1000\n",
            " - 0s - loss: 0.0025 - val_loss: 0.0030\n",
            "Epoch 16/1000\n",
            " - 0s - loss: 0.0021 - val_loss: 0.0030\n",
            "Epoch 17/1000\n",
            " - 0s - loss: 0.0019 - val_loss: 0.0023\n",
            "Epoch 18/1000\n",
            " - 0s - loss: 0.0016 - val_loss: 0.0022\n",
            "Epoch 19/1000\n",
            " - 0s - loss: 0.0017 - val_loss: 0.0030\n",
            "Epoch 20/1000\n",
            " - 0s - loss: 0.0013 - val_loss: 0.0018\n",
            "Epoch 21/1000\n",
            " - 0s - loss: 0.0012 - val_loss: 0.0024\n",
            "Epoch 22/1000\n",
            " - 0s - loss: 0.0010 - val_loss: 0.0016\n",
            "Epoch 00022: early stopping\n",
            "1\n",
            "Train on 1600 samples, validate on 400 samples\n",
            "Epoch 1/1000\n",
            " - 0s - loss: 0.4796 - val_loss: 0.3903\n",
            "Epoch 2/1000\n",
            " - 0s - loss: 0.3005 - val_loss: 0.2057\n",
            "Epoch 3/1000\n",
            " - 0s - loss: 0.1415 - val_loss: 0.0894\n",
            "Epoch 4/1000\n",
            " - 0s - loss: 0.0618 - val_loss: 0.0436\n",
            "Epoch 5/1000\n",
            " - 0s - loss: 0.0328 - val_loss: 0.0259\n",
            "Epoch 6/1000\n",
            " - 0s - loss: 0.0202 - val_loss: 0.0178\n",
            "Epoch 7/1000\n",
            " - 0s - loss: 0.0138 - val_loss: 0.0130\n",
            "Epoch 8/1000\n",
            " - 0s - loss: 0.0105 - val_loss: 0.0104\n",
            "Epoch 9/1000\n",
            " - 0s - loss: 0.0081 - val_loss: 0.0083\n",
            "Epoch 10/1000\n",
            " - 0s - loss: 0.0067 - val_loss: 0.0068\n",
            "Epoch 11/1000\n",
            " - 0s - loss: 0.0054 - val_loss: 0.0061\n",
            "Epoch 12/1000\n",
            " - 0s - loss: 0.0046 - val_loss: 0.0051\n",
            "Epoch 13/1000\n",
            " - 0s - loss: 0.0044 - val_loss: 0.0048\n",
            "Epoch 14/1000\n",
            " - 0s - loss: 0.0038 - val_loss: 0.0044\n",
            "Epoch 15/1000\n",
            " - 0s - loss: 0.0031 - val_loss: 0.0034\n",
            "Epoch 16/1000\n",
            " - 0s - loss: 0.0027 - val_loss: 0.0031\n",
            "Epoch 17/1000\n",
            " - 0s - loss: 0.0028 - val_loss: 0.0030\n",
            "Epoch 18/1000\n",
            " - 0s - loss: 0.0022 - val_loss: 0.0025\n",
            "Epoch 19/1000\n",
            " - 0s - loss: 0.0019 - val_loss: 0.0028\n",
            "Epoch 20/1000\n",
            " - 0s - loss: 0.0017 - val_loss: 0.0027\n",
            "Epoch 00020: early stopping\n",
            "2\n",
            "Train on 1600 samples, validate on 400 samples\n",
            "Epoch 1/1000\n",
            " - 0s - loss: 0.4628 - val_loss: 0.3491\n",
            "Epoch 2/1000\n",
            " - 0s - loss: 0.2576 - val_loss: 0.1679\n",
            "Epoch 3/1000\n",
            " - 0s - loss: 0.1119 - val_loss: 0.0709\n",
            "Epoch 4/1000\n",
            " - 0s - loss: 0.0486 - val_loss: 0.0348\n",
            "Epoch 5/1000\n",
            " - 0s - loss: 0.0267 - val_loss: 0.0223\n",
            "Epoch 6/1000\n",
            " - 0s - loss: 0.0177 - val_loss: 0.0154\n",
            "Epoch 7/1000\n",
            " - 0s - loss: 0.0127 - val_loss: 0.0117\n",
            "Epoch 8/1000\n",
            " - 0s - loss: 0.0097 - val_loss: 0.0094\n",
            "Epoch 9/1000\n",
            " - 0s - loss: 0.0078 - val_loss: 0.0078\n",
            "Epoch 10/1000\n",
            " - 0s - loss: 0.0062 - val_loss: 0.0063\n",
            "Epoch 11/1000\n",
            " - 0s - loss: 0.0056 - val_loss: 0.0064\n",
            "Epoch 12/1000\n",
            " - 0s - loss: 0.0045 - val_loss: 0.0048\n",
            "Epoch 13/1000\n",
            " - 0s - loss: 0.0043 - val_loss: 0.0046\n",
            "Epoch 14/1000\n",
            " - 0s - loss: 0.0041 - val_loss: 0.0040\n",
            "Epoch 15/1000\n",
            " - 0s - loss: 0.0029 - val_loss: 0.0040\n",
            "Epoch 16/1000\n",
            " - 0s - loss: 0.0026 - val_loss: 0.0029\n",
            "Epoch 17/1000\n",
            " - 0s - loss: 0.0025 - val_loss: 0.0027\n",
            "Epoch 18/1000\n",
            " - 0s - loss: 0.0023 - val_loss: 0.0027\n",
            "Epoch 19/1000\n",
            " - 0s - loss: 0.0019 - val_loss: 0.0025\n",
            "Epoch 20/1000\n",
            " - 0s - loss: 0.0017 - val_loss: 0.0020\n",
            "Epoch 21/1000\n",
            " - 0s - loss: 0.0018 - val_loss: 0.0019\n",
            "Epoch 22/1000\n",
            " - 0s - loss: 0.0014 - val_loss: 0.0018\n",
            "Epoch 23/1000\n",
            " - 0s - loss: 0.0014 - val_loss: 0.0019\n",
            "Epoch 24/1000\n",
            " - 0s - loss: 0.0013 - val_loss: 0.0015\n",
            "Epoch 25/1000\n",
            " - 0s - loss: 0.0011 - val_loss: 0.0014\n",
            "Epoch 26/1000\n",
            " - 0s - loss: 9.8143e-04 - val_loss: 0.0018\n",
            "Epoch 00026: early stopping\n"
          ],
          "name": "stdout"
        }
      ]
    },
    {
      "cell_type": "code",
      "metadata": {
        "id": "ZJo7MBx7TbNx",
        "colab_type": "code",
        "outputId": "b05af4bf-98dd-420d-e5e6-b62576a7bc51",
        "colab": {
          "base_uri": "https://localhost:8080/",
          "height": 181
        }
      },
      "source": [
        "model_classification.load_weights('best_weights.hdf5')\n",
        "pred = model_classification.predict(X_test)\n",
        "\n",
        "pred = np.argmax(pred,axis=1) # raw probabilities to chosen class (highest probability)\n",
        "\n",
        "y_true= np.argmax(y_test,axis=1) \n",
        "\n",
        "print(\"test\", y_true[:25])\n",
        "print(\"pred\", pred[:25])\n",
        "\n",
        "cm_nn = metrics.confusion_matrix(y_true,pred)\n",
        "print(cm_nn)\n",
        "\n",
        "pr_score = metrics.precision_score(y_true, pred, average= \"weighted\")\n",
        "print(\"Precision score: {}\".format(pr_score))\n",
        "\n",
        "re_score = metrics.recall_score(y_true, pred, average= \"weighted\")\n",
        "print(\"Recall score: {}\".format(re_score))\n",
        "\n",
        "f1_score = metrics.f1_score(y_true, pred, average= \"weighted\")\n",
        "print(\"F1 score: {}\".format(f1_score))"
      ],
      "execution_count": 48,
      "outputs": [
        {
          "output_type": "stream",
          "text": [
            "test [1 3 2 2 2 3 1 0 2 1 2 2 3 2 0 3 1 2 1 2 0 3 3 1 1]\n",
            "pred [1 3 2 2 2 3 1 0 2 1 2 2 3 2 0 3 1 2 1 2 0 3 3 1 1]\n",
            "[[ 95   0   0   0]\n",
            " [  0 100   0   0]\n",
            " [  0   0 102   0]\n",
            " [  0   0   0 103]]\n",
            "Precision score: 1.0\n",
            "Recall score: 1.0\n",
            "F1 score: 1.0\n"
          ],
          "name": "stdout"
        }
      ]
    },
    {
      "cell_type": "code",
      "metadata": {
        "id": "hsaLzKrOUZiA",
        "colab_type": "code",
        "colab": {}
      },
      "source": [
        ""
      ],
      "execution_count": 0,
      "outputs": []
    }
  ]
}