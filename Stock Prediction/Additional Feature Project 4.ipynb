{
 "cells": [
  {
   "cell_type": "code",
   "execution_count": 1,
   "metadata": {
    "collapsed": true
   },
   "outputs": [],
   "source": [
    "import pandas as pd\n",
    "data=pd.read_csv('GOOG.csv', encoding = 'ISO-8859-1')"
   ]
  },
  {
   "cell_type": "code",
   "execution_count": 2,
   "metadata": {},
   "outputs": [
    {
     "data": {
      "text/plain": [
       "(3579, 7)"
      ]
     },
     "execution_count": 2,
     "metadata": {},
     "output_type": "execute_result"
    }
   ],
   "source": [
    "data.shape"
   ]
  },
  {
   "cell_type": "code",
   "execution_count": 3,
   "metadata": {},
   "outputs": [
    {
     "data": {
      "text/html": [
       "<div>\n",
       "<style>\n",
       "    .dataframe thead tr:only-child th {\n",
       "        text-align: right;\n",
       "    }\n",
       "\n",
       "    .dataframe thead th {\n",
       "        text-align: left;\n",
       "    }\n",
       "\n",
       "    .dataframe tbody tr th {\n",
       "        vertical-align: top;\n",
       "    }\n",
       "</style>\n",
       "<table border=\"1\" class=\"dataframe\">\n",
       "  <thead>\n",
       "    <tr style=\"text-align: right;\">\n",
       "      <th></th>\n",
       "      <th>Date</th>\n",
       "      <th>Open</th>\n",
       "      <th>High</th>\n",
       "      <th>Low</th>\n",
       "      <th>Close</th>\n",
       "      <th>Adj Close</th>\n",
       "      <th>Volume</th>\n",
       "    </tr>\n",
       "  </thead>\n",
       "  <tbody>\n",
       "    <tr>\n",
       "      <th>0</th>\n",
       "      <td>2004-08-19</td>\n",
       "      <td>49.676899</td>\n",
       "      <td>51.693783</td>\n",
       "      <td>47.669952</td>\n",
       "      <td>49.845802</td>\n",
       "      <td>49.845802</td>\n",
       "      <td>44994500</td>\n",
       "    </tr>\n",
       "    <tr>\n",
       "      <th>1</th>\n",
       "      <td>2004-08-20</td>\n",
       "      <td>50.178635</td>\n",
       "      <td>54.187561</td>\n",
       "      <td>49.925285</td>\n",
       "      <td>53.805050</td>\n",
       "      <td>53.805050</td>\n",
       "      <td>23005800</td>\n",
       "    </tr>\n",
       "    <tr>\n",
       "      <th>2</th>\n",
       "      <td>2004-08-23</td>\n",
       "      <td>55.017166</td>\n",
       "      <td>56.373344</td>\n",
       "      <td>54.172661</td>\n",
       "      <td>54.346527</td>\n",
       "      <td>54.346527</td>\n",
       "      <td>18393200</td>\n",
       "    </tr>\n",
       "    <tr>\n",
       "      <th>3</th>\n",
       "      <td>2004-08-24</td>\n",
       "      <td>55.260582</td>\n",
       "      <td>55.439419</td>\n",
       "      <td>51.450363</td>\n",
       "      <td>52.096165</td>\n",
       "      <td>52.096165</td>\n",
       "      <td>15361800</td>\n",
       "    </tr>\n",
       "    <tr>\n",
       "      <th>4</th>\n",
       "      <td>2004-08-25</td>\n",
       "      <td>52.140873</td>\n",
       "      <td>53.651051</td>\n",
       "      <td>51.604362</td>\n",
       "      <td>52.657513</td>\n",
       "      <td>52.657513</td>\n",
       "      <td>9257400</td>\n",
       "    </tr>\n",
       "  </tbody>\n",
       "</table>\n",
       "</div>"
      ],
      "text/plain": [
       "         Date       Open       High        Low      Close  Adj Close    Volume\n",
       "0  2004-08-19  49.676899  51.693783  47.669952  49.845802  49.845802  44994500\n",
       "1  2004-08-20  50.178635  54.187561  49.925285  53.805050  53.805050  23005800\n",
       "2  2004-08-23  55.017166  56.373344  54.172661  54.346527  54.346527  18393200\n",
       "3  2004-08-24  55.260582  55.439419  51.450363  52.096165  52.096165  15361800\n",
       "4  2004-08-25  52.140873  53.651051  51.604362  52.657513  52.657513   9257400"
      ]
     },
     "execution_count": 3,
     "metadata": {},
     "output_type": "execute_result"
    }
   ],
   "source": [
    "data.head()"
   ]
  },
  {
   "cell_type": "code",
   "execution_count": 4,
   "metadata": {
    "collapsed": true
   },
   "outputs": [],
   "source": [
    "df =  data.iloc[:,[1,2,3,4,6]]"
   ]
  },
  {
   "cell_type": "code",
   "execution_count": 5,
   "metadata": {},
   "outputs": [
    {
     "data": {
      "text/html": [
       "<div>\n",
       "<style>\n",
       "    .dataframe thead tr:only-child th {\n",
       "        text-align: right;\n",
       "    }\n",
       "\n",
       "    .dataframe thead th {\n",
       "        text-align: left;\n",
       "    }\n",
       "\n",
       "    .dataframe tbody tr th {\n",
       "        vertical-align: top;\n",
       "    }\n",
       "</style>\n",
       "<table border=\"1\" class=\"dataframe\">\n",
       "  <thead>\n",
       "    <tr style=\"text-align: right;\">\n",
       "      <th></th>\n",
       "      <th>Open</th>\n",
       "      <th>High</th>\n",
       "      <th>Low</th>\n",
       "      <th>Close</th>\n",
       "      <th>Volume</th>\n",
       "    </tr>\n",
       "  </thead>\n",
       "  <tbody>\n",
       "    <tr>\n",
       "      <th>0</th>\n",
       "      <td>49.676899</td>\n",
       "      <td>51.693783</td>\n",
       "      <td>47.669952</td>\n",
       "      <td>49.845802</td>\n",
       "      <td>44994500</td>\n",
       "    </tr>\n",
       "    <tr>\n",
       "      <th>1</th>\n",
       "      <td>50.178635</td>\n",
       "      <td>54.187561</td>\n",
       "      <td>49.925285</td>\n",
       "      <td>53.805050</td>\n",
       "      <td>23005800</td>\n",
       "    </tr>\n",
       "    <tr>\n",
       "      <th>2</th>\n",
       "      <td>55.017166</td>\n",
       "      <td>56.373344</td>\n",
       "      <td>54.172661</td>\n",
       "      <td>54.346527</td>\n",
       "      <td>18393200</td>\n",
       "    </tr>\n",
       "    <tr>\n",
       "      <th>3</th>\n",
       "      <td>55.260582</td>\n",
       "      <td>55.439419</td>\n",
       "      <td>51.450363</td>\n",
       "      <td>52.096165</td>\n",
       "      <td>15361800</td>\n",
       "    </tr>\n",
       "    <tr>\n",
       "      <th>4</th>\n",
       "      <td>52.140873</td>\n",
       "      <td>53.651051</td>\n",
       "      <td>51.604362</td>\n",
       "      <td>52.657513</td>\n",
       "      <td>9257400</td>\n",
       "    </tr>\n",
       "  </tbody>\n",
       "</table>\n",
       "</div>"
      ],
      "text/plain": [
       "        Open       High        Low      Close    Volume\n",
       "0  49.676899  51.693783  47.669952  49.845802  44994500\n",
       "1  50.178635  54.187561  49.925285  53.805050  23005800\n",
       "2  55.017166  56.373344  54.172661  54.346527  18393200\n",
       "3  55.260582  55.439419  51.450363  52.096165  15361800\n",
       "4  52.140873  53.651051  51.604362  52.657513   9257400"
      ]
     },
     "execution_count": 5,
     "metadata": {},
     "output_type": "execute_result"
    }
   ],
   "source": [
    "df.head()"
   ]
  },
  {
   "cell_type": "code",
   "execution_count": 6,
   "metadata": {
    "collapsed": true
   },
   "outputs": [],
   "source": [
    "closed_df = df.iloc[:,[3]]"
   ]
  },
  {
   "cell_type": "code",
   "execution_count": 7,
   "metadata": {
    "collapsed": true
   },
   "outputs": [],
   "source": [
    "normalized_df = df.iloc[:,[0,1,2,4]]"
   ]
  },
  {
   "cell_type": "code",
   "execution_count": 8,
   "metadata": {
    "collapsed": true
   },
   "outputs": [],
   "source": [
    "#Z-Score\n",
    "from scipy.stats import zscore\n",
    "for col in normalized_df.columns:\n",
    "    col_zscore = col + '_zscore'\n",
    "    normalized_df[col_zscore] = zscore(normalized_df[col])\n",
    "    normalized_df.drop(col, axis=1, inplace=True)"
   ]
  },
  {
   "cell_type": "code",
   "execution_count": 9,
   "metadata": {},
   "outputs": [
    {
     "data": {
      "text/html": [
       "<div>\n",
       "<style>\n",
       "    .dataframe thead tr:only-child th {\n",
       "        text-align: right;\n",
       "    }\n",
       "\n",
       "    .dataframe thead th {\n",
       "        text-align: left;\n",
       "    }\n",
       "\n",
       "    .dataframe tbody tr th {\n",
       "        vertical-align: top;\n",
       "    }\n",
       "</style>\n",
       "<table border=\"1\" class=\"dataframe\">\n",
       "  <thead>\n",
       "    <tr style=\"text-align: right;\">\n",
       "      <th></th>\n",
       "      <th>Open_zscore</th>\n",
       "      <th>High_zscore</th>\n",
       "      <th>Low_zscore</th>\n",
       "      <th>Volume_zscore</th>\n",
       "    </tr>\n",
       "  </thead>\n",
       "  <tbody>\n",
       "    <tr>\n",
       "      <th>0</th>\n",
       "      <td>-1.334917</td>\n",
       "      <td>-1.331516</td>\n",
       "      <td>-1.337548</td>\n",
       "      <td>4.534405</td>\n",
       "    </tr>\n",
       "    <tr>\n",
       "      <th>1</th>\n",
       "      <td>-1.333175</td>\n",
       "      <td>-1.322920</td>\n",
       "      <td>-1.329656</td>\n",
       "      <td>1.870729</td>\n",
       "    </tr>\n",
       "    <tr>\n",
       "      <th>2</th>\n",
       "      <td>-1.316372</td>\n",
       "      <td>-1.315385</td>\n",
       "      <td>-1.314792</td>\n",
       "      <td>1.311966</td>\n",
       "    </tr>\n",
       "    <tr>\n",
       "      <th>3</th>\n",
       "      <td>-1.315527</td>\n",
       "      <td>-1.318604</td>\n",
       "      <td>-1.324319</td>\n",
       "      <td>0.944747</td>\n",
       "    </tr>\n",
       "    <tr>\n",
       "      <th>4</th>\n",
       "      <td>-1.326360</td>\n",
       "      <td>-1.324769</td>\n",
       "      <td>-1.323780</td>\n",
       "      <td>0.205270</td>\n",
       "    </tr>\n",
       "  </tbody>\n",
       "</table>\n",
       "</div>"
      ],
      "text/plain": [
       "   Open_zscore  High_zscore  Low_zscore  Volume_zscore\n",
       "0    -1.334917    -1.331516   -1.337548       4.534405\n",
       "1    -1.333175    -1.322920   -1.329656       1.870729\n",
       "2    -1.316372    -1.315385   -1.314792       1.311966\n",
       "3    -1.315527    -1.318604   -1.324319       0.944747\n",
       "4    -1.326360    -1.324769   -1.323780       0.205270"
      ]
     },
     "execution_count": 9,
     "metadata": {},
     "output_type": "execute_result"
    }
   ],
   "source": [
    "normalized_df.head()"
   ]
  },
  {
   "cell_type": "code",
   "execution_count": 10,
   "metadata": {
    "collapsed": true
   },
   "outputs": [],
   "source": [
    "df_final = pd.concat([normalized_df, closed_df], axis=1)"
   ]
  },
  {
   "cell_type": "code",
   "execution_count": 11,
   "metadata": {},
   "outputs": [
    {
     "data": {
      "text/plain": [
       "(3579, 5)"
      ]
     },
     "execution_count": 11,
     "metadata": {},
     "output_type": "execute_result"
    }
   ],
   "source": [
    "df_final.shape"
   ]
  },
  {
   "cell_type": "code",
   "execution_count": 12,
   "metadata": {
    "scrolled": true
   },
   "outputs": [
    {
     "data": {
      "text/html": [
       "<div>\n",
       "<style>\n",
       "    .dataframe thead tr:only-child th {\n",
       "        text-align: right;\n",
       "    }\n",
       "\n",
       "    .dataframe thead th {\n",
       "        text-align: left;\n",
       "    }\n",
       "\n",
       "    .dataframe tbody tr th {\n",
       "        vertical-align: top;\n",
       "    }\n",
       "</style>\n",
       "<table border=\"1\" class=\"dataframe\">\n",
       "  <thead>\n",
       "    <tr style=\"text-align: right;\">\n",
       "      <th></th>\n",
       "      <th>Open_zscore</th>\n",
       "      <th>High_zscore</th>\n",
       "      <th>Low_zscore</th>\n",
       "      <th>Volume_zscore</th>\n",
       "      <th>Close</th>\n",
       "    </tr>\n",
       "  </thead>\n",
       "  <tbody>\n",
       "    <tr>\n",
       "      <th>0</th>\n",
       "      <td>-1.334917</td>\n",
       "      <td>-1.331516</td>\n",
       "      <td>-1.337548</td>\n",
       "      <td>4.534405</td>\n",
       "      <td>49.845802</td>\n",
       "    </tr>\n",
       "    <tr>\n",
       "      <th>1</th>\n",
       "      <td>-1.333175</td>\n",
       "      <td>-1.322920</td>\n",
       "      <td>-1.329656</td>\n",
       "      <td>1.870729</td>\n",
       "      <td>53.805050</td>\n",
       "    </tr>\n",
       "    <tr>\n",
       "      <th>2</th>\n",
       "      <td>-1.316372</td>\n",
       "      <td>-1.315385</td>\n",
       "      <td>-1.314792</td>\n",
       "      <td>1.311966</td>\n",
       "      <td>54.346527</td>\n",
       "    </tr>\n",
       "    <tr>\n",
       "      <th>3</th>\n",
       "      <td>-1.315527</td>\n",
       "      <td>-1.318604</td>\n",
       "      <td>-1.324319</td>\n",
       "      <td>0.944747</td>\n",
       "      <td>52.096165</td>\n",
       "    </tr>\n",
       "    <tr>\n",
       "      <th>4</th>\n",
       "      <td>-1.326360</td>\n",
       "      <td>-1.324769</td>\n",
       "      <td>-1.323780</td>\n",
       "      <td>0.205270</td>\n",
       "      <td>52.657513</td>\n",
       "    </tr>\n",
       "  </tbody>\n",
       "</table>\n",
       "</div>"
      ],
      "text/plain": [
       "   Open_zscore  High_zscore  Low_zscore  Volume_zscore      Close\n",
       "0    -1.334917    -1.331516   -1.337548       4.534405  49.845802\n",
       "1    -1.333175    -1.322920   -1.329656       1.870729  53.805050\n",
       "2    -1.316372    -1.315385   -1.314792       1.311966  54.346527\n",
       "3    -1.315527    -1.318604   -1.324319       0.944747  52.096165\n",
       "4    -1.326360    -1.324769   -1.323780       0.205270  52.657513"
      ]
     },
     "execution_count": 12,
     "metadata": {},
     "output_type": "execute_result"
    }
   ],
   "source": [
    "df_final.head()"
   ]
  },
  {
   "cell_type": "code",
   "execution_count": 13,
   "metadata": {
    "collapsed": true
   },
   "outputs": [],
   "source": [
    "train_size = int(len(df_final) * 0.70)"
   ]
  },
  {
   "cell_type": "code",
   "execution_count": 14,
   "metadata": {
    "collapsed": true
   },
   "outputs": [],
   "source": [
    "X_train_df = df_final.iloc[:train_size, [0,1,2,3]]"
   ]
  },
  {
   "cell_type": "code",
   "execution_count": 15,
   "metadata": {
    "collapsed": true
   },
   "outputs": [],
   "source": [
    "y_train_df = df_final.iloc[:train_size, 4]"
   ]
  },
  {
   "cell_type": "code",
   "execution_count": 16,
   "metadata": {
    "collapsed": true
   },
   "outputs": [],
   "source": [
    "X_test_df = df_final.iloc[train_size:, [0,1,2,3]]"
   ]
  },
  {
   "cell_type": "code",
   "execution_count": 17,
   "metadata": {
    "collapsed": true
   },
   "outputs": [],
   "source": [
    "y_test_df = df_final.iloc[train_size:, 4]"
   ]
  },
  {
   "cell_type": "code",
   "execution_count": 18,
   "metadata": {},
   "outputs": [
    {
     "name": "stdout",
     "output_type": "stream",
     "text": [
      "(2505, 4) (2505,) (1074, 4) (1074,)\n"
     ]
    }
   ],
   "source": [
    "tns_X_train = X_train_df.as_matrix(columns=None)\n",
    "tns_y_train = y_train_df.as_matrix(columns=None)\n",
    "tns_X_test = X_test_df.as_matrix(columns=None)\n",
    "tns_y_test = y_test_df.as_matrix(columns=None)\n",
    "print(tns_X_train.shape, tns_y_train.shape, tns_X_test.shape, tns_y_test.shape)"
   ]
  },
  {
   "cell_type": "code",
   "execution_count": 21,
   "metadata": {
    "collapsed": true
   },
   "outputs": [],
   "source": [
    "from keras.models import Sequential\n",
    "from keras.layers.core import Dense, Activation\n",
    "import pandas as pd\n",
    "import io\n",
    "import requests\n",
    "import numpy as np\n",
    "from sklearn import metrics\n",
    "from keras.models import Sequential\n",
    "from keras.layers.core import Dense, Activation\n",
    "from keras.callbacks import EarlyStopping\n",
    "from keras.callbacks import ModelCheckpoint\n",
    "from keras.callbacks import ModelCheckpoint, TensorBoard\n",
    "from keras.models import Sequential\n",
    "from keras.layers import LSTM, Activation, Dense\n",
    "from keras.layers import Dropout"
   ]
  },
  {
   "cell_type": "code",
   "execution_count": 23,
   "metadata": {
    "scrolled": false
   },
   "outputs": [
    {
     "name": "stdout",
     "output_type": "stream",
     "text": [
      "0\n",
      "Train on 2505 samples, validate on 1074 samples\n",
      "Epoch 1/100\n",
      " - 1s - loss: 83183.8629 - val_loss: 610925.5353\n",
      "Epoch 2/100\n",
      " - 0s - loss: 34234.2245 - val_loss: 85989.5073\n",
      "Epoch 3/100\n",
      " - 0s - loss: 7076.1990 - val_loss: 17838.5997\n",
      "Epoch 4/100\n",
      " - 0s - loss: 4919.1768 - val_loss: 6202.3034\n",
      "Epoch 5/100\n",
      " - 0s - loss: 3669.2782 - val_loss: 3316.5389\n",
      "Epoch 6/100\n",
      " - 0s - loss: 2437.6665 - val_loss: 3051.2481\n",
      "Epoch 7/100\n",
      " - 0s - loss: 1541.7600 - val_loss: 4087.8557\n",
      "Epoch 8/100\n",
      " - 0s - loss: 1017.6391 - val_loss: 1484.7910\n",
      "Epoch 9/100\n",
      " - 0s - loss: 686.9606 - val_loss: 1193.7690\n",
      "Epoch 10/100\n",
      " - 0s - loss: 513.5042 - val_loss: 443.5584\n",
      "Epoch 11/100\n",
      " - 0s - loss: 408.2493 - val_loss: 174.4247\n",
      "Epoch 12/100\n",
      " - 0s - loss: 371.8113 - val_loss: 214.9898\n",
      "Epoch 13/100\n",
      " - 0s - loss: 330.7835 - val_loss: 134.7248\n",
      "Epoch 14/100\n",
      " - 0s - loss: 325.8108 - val_loss: 588.2721\n",
      "Epoch 15/100\n",
      " - 0s - loss: 338.0459 - val_loss: 154.9625\n",
      "Epoch 16/100\n",
      " - 0s - loss: 310.2098 - val_loss: 81.8202\n",
      "Epoch 17/100\n",
      " - 0s - loss: 322.2763 - val_loss: 47.8039\n",
      "Epoch 18/100\n",
      " - 0s - loss: 325.1493 - val_loss: 223.4105\n",
      "Epoch 19/100\n",
      " - 0s - loss: 312.2674 - val_loss: 706.4910\n",
      "Epoch 20/100\n",
      " - 0s - loss: 292.6909 - val_loss: 58.0699\n",
      "Epoch 21/100\n",
      " - 0s - loss: 313.2188 - val_loss: 86.2195\n",
      "Epoch 22/100\n",
      " - 0s - loss: 298.3677 - val_loss: 174.0497\n",
      "Epoch 00022: early stopping\n",
      "1\n",
      "Train on 2505 samples, validate on 1074 samples\n",
      "Epoch 1/100\n",
      " - 1s - loss: 80472.7579 - val_loss: 549326.0797\n",
      "Epoch 2/100\n",
      " - 0s - loss: 29386.5422 - val_loss: 3834.9512\n",
      "Epoch 3/100\n",
      " - 0s - loss: 6611.8075 - val_loss: 16385.7744\n",
      "Epoch 4/100\n",
      " - 0s - loss: 4636.7439 - val_loss: 9173.3086\n",
      "Epoch 5/100\n",
      " - 0s - loss: 3292.7850 - val_loss: 7028.1031\n",
      "Epoch 6/100\n",
      " - 0s - loss: 2083.4031 - val_loss: 4197.3937\n",
      "Epoch 7/100\n",
      " - 0s - loss: 1247.0044 - val_loss: 1754.5323\n",
      "Epoch 8/100\n",
      " - 0s - loss: 779.8067 - val_loss: 2102.0971\n",
      "Epoch 9/100\n",
      " - 0s - loss: 588.9160 - val_loss: 132.7507\n",
      "Epoch 10/100\n",
      " - 0s - loss: 456.0800 - val_loss: 624.2649\n",
      "Epoch 11/100\n",
      " - 0s - loss: 404.6814 - val_loss: 400.0587\n",
      "Epoch 12/100\n",
      " - 0s - loss: 363.2377 - val_loss: 748.0847\n",
      "Epoch 13/100\n",
      " - 0s - loss: 381.9734 - val_loss: 355.8632\n",
      "Epoch 14/100\n",
      " - 0s - loss: 359.7094 - val_loss: 148.3087\n",
      "Epoch 00014: early stopping\n",
      "2\n",
      "Train on 2505 samples, validate on 1074 samples\n",
      "Epoch 1/100\n",
      " - 1s - loss: 81038.3336 - val_loss: 590878.2896\n",
      "Epoch 2/100\n",
      " - 0s - loss: 28840.4306 - val_loss: 19225.1885\n",
      "Epoch 3/100\n",
      " - 0s - loss: 6457.6212 - val_loss: 17102.5165\n",
      "Epoch 4/100\n",
      " - 0s - loss: 4839.1447 - val_loss: 6570.4826\n",
      "Epoch 5/100\n",
      " - 0s - loss: 3563.4260 - val_loss: 5351.0347\n",
      "Epoch 6/100\n",
      " - 0s - loss: 2396.4714 - val_loss: 4151.9346\n",
      "Epoch 7/100\n",
      " - 0s - loss: 1511.6732 - val_loss: 1298.0261\n",
      "Epoch 8/100\n",
      " - 0s - loss: 955.0823 - val_loss: 2416.0420\n",
      "Epoch 9/100\n",
      " - 0s - loss: 645.4495 - val_loss: 498.6783\n",
      "Epoch 10/100\n",
      " - 0s - loss: 488.1890 - val_loss: 577.3752\n",
      "Epoch 11/100\n",
      " - 0s - loss: 378.7173 - val_loss: 627.3237\n",
      "Epoch 12/100\n",
      " - 0s - loss: 380.6707 - val_loss: 49.5213\n",
      "Epoch 13/100\n",
      " - 0s - loss: 343.1538 - val_loss: 151.3192\n",
      "Epoch 14/100\n",
      " - 0s - loss: 331.2647 - val_loss: 146.7964\n",
      "Epoch 15/100\n",
      " - 0s - loss: 304.6959 - val_loss: 50.5310\n",
      "Epoch 16/100\n",
      " - 0s - loss: 310.6048 - val_loss: 121.5912\n",
      "Epoch 17/100\n",
      " - 0s - loss: 310.9447 - val_loss: 92.0108\n",
      "Epoch 00017: early stopping\n",
      "3\n",
      "Train on 2505 samples, validate on 1074 samples\n",
      "Epoch 1/100\n",
      " - 1s - loss: 77368.8320 - val_loss: 522248.0277\n",
      "Epoch 2/100\n",
      " - 0s - loss: 24437.0870 - val_loss: 1952.2519\n",
      "Epoch 3/100\n",
      " - 0s - loss: 5895.4063 - val_loss: 21387.1374\n",
      "Epoch 4/100\n",
      " - 0s - loss: 4262.0738 - val_loss: 12643.0040\n",
      "Epoch 5/100\n",
      " - 0s - loss: 2845.0042 - val_loss: 4966.2889\n",
      "Epoch 6/100\n",
      " - 0s - loss: 1679.5379 - val_loss: 2484.4613\n",
      "Epoch 7/100\n",
      " - 0s - loss: 927.6223 - val_loss: 2176.0018\n",
      "Epoch 00007: early stopping\n",
      "4\n",
      "Train on 2505 samples, validate on 1074 samples\n",
      "Epoch 1/100\n",
      " - 1s - loss: 80041.0929 - val_loss: 564306.0580\n",
      "Epoch 2/100\n",
      " - 0s - loss: 29049.5632 - val_loss: 7774.2946\n",
      "Epoch 3/100\n",
      " - 0s - loss: 6533.6084 - val_loss: 27574.9422\n",
      "Epoch 4/100\n",
      " - 0s - loss: 4609.3318 - val_loss: 11469.5424\n",
      "Epoch 5/100\n",
      " - 0s - loss: 3379.4124 - val_loss: 6086.1994\n",
      "Epoch 6/100\n",
      " - 0s - loss: 2141.7597 - val_loss: 5221.3389\n",
      "Epoch 7/100\n",
      " - 0s - loss: 1281.3193 - val_loss: 824.4234\n",
      "Epoch 8/100\n",
      " - 0s - loss: 766.3069 - val_loss: 591.6486\n",
      "Epoch 9/100\n",
      " - 0s - loss: 486.0107 - val_loss: 465.5411\n",
      "Epoch 10/100\n",
      " - 0s - loss: 410.5909 - val_loss: 67.3309\n",
      "Epoch 11/100\n",
      " - 0s - loss: 390.0126 - val_loss: 182.7285\n",
      "Epoch 12/100\n",
      " - 0s - loss: 371.8104 - val_loss: 592.9727\n",
      "Epoch 13/100\n",
      " - 0s - loss: 355.1278 - val_loss: 624.2999\n",
      "Epoch 14/100\n",
      " - 0s - loss: 335.1676 - val_loss: 142.3883\n",
      "Epoch 15/100\n",
      " - 0s - loss: 311.1080 - val_loss: 218.7253\n",
      "Epoch 00015: early stopping\n"
     ]
    }
   ],
   "source": [
    "# Define ModelCheckpoint outside the loop\n",
    "checkpointer = ModelCheckpoint(filepath=\"tns/weights.hdf5\", verbose=0, save_best_only=True) # save best model\n",
    "\n",
    "for i in range(5):\n",
    "    print(i)\n",
    "    tns_model = Sequential()\n",
    "    # Build network\n",
    "    tns_model.add(Dense(130, input_dim = tns_X_train.shape[1], activation='relu')) # Hidden 1\n",
    "    tns_model.add(Dropout(0.10))\n",
    "    tns_model.add(Dense(80, activation='relu')) # Hidden 2\n",
    "    tns_model.add(Dropout(0.10))\n",
    "    tns_model.add(Dense(30, activation='relu')) # Hidden 3\n",
    "    tns_model.add(Dense(1)) # Output\n",
    "\n",
    "    tns_model.compile(loss='mean_squared_error', optimizer='adam')\n",
    "\n",
    "    monitor = EarlyStopping(monitor='val_loss', min_delta=1e-4, patience=5, verbose=1, mode='auto')\n",
    "    tns_model.fit(tns_X_train, tns_y_train, validation_data = (tns_X_test, tns_y_test), callbacks=[monitor, checkpointer], \n",
    "                  verbose=2,epochs=100)"
   ]
  },
  {
   "cell_type": "markdown",
   "metadata": {},
   "source": [
    "# Scores for Fully-Connected Neural Networks"
   ]
  },
  {
   "cell_type": "code",
   "execution_count": 24,
   "metadata": {},
   "outputs": [
    {
     "name": "stdout",
     "output_type": "stream",
     "text": [
      "RMSE: 6.9140368128355325\n",
      "R2 score 0.9989285508656255\n",
      "MSE::  47.80390504924493\n"
     ]
    }
   ],
   "source": [
    "tns_model.load_weights('tns/weights.hdf5')\n",
    "tns_pred = tns_model.predict(tns_X_test)\n",
    "score = np.sqrt(metrics.mean_squared_error(tns_y_test, tns_pred)) \n",
    "\n",
    "print(\"RMSE: {}\".format(score))\n",
    "print(\"R2 score\",metrics.r2_score(tns_y_test, tns_pred))\n",
    "print(\"MSE:: \", metrics.mean_squared_error(tns_y_test, tns_pred))"
   ]
  },
  {
   "cell_type": "code",
   "execution_count": 25,
   "metadata": {
    "collapsed": true
   },
   "outputs": [],
   "source": [
    "# Regression chart.\n",
    "import matplotlib.pyplot as plt\n",
    "def chart_regression(pred,y,sort=True):\n",
    "    t = pd.DataFrame({'pred' : pred, 'y' : y.flatten()})\n",
    "    if sort:\n",
    "        t.sort_values(by=['y'],inplace=True)\n",
    "    a = plt.plot(t['y'].tolist(),label='expected')\n",
    "    b = plt.plot(t['pred'].tolist(),label='prediction')\n",
    "    plt.ylabel('output')\n",
    "    plt.legend()\n",
    "    plt.show()"
   ]
  },
  {
   "cell_type": "code",
   "execution_count": 26,
   "metadata": {},
   "outputs": [
    {
     "data": {
      "image/png": "[encoded data removed]",
      "text/plain": [
       "<matplotlib.figure.Figure at 0x23548879400>"
      ]
     },
     "metadata": {},
     "output_type": "display_data"
    }
   ],
   "source": [
    "# Plot the chart\n",
    "chart_regression(tns_pred.flatten(), tns_y_test)"
   ]
  },
  {
   "cell_type": "code",
   "execution_count": 27,
   "metadata": {},
   "outputs": [
    {
     "data": {
      "text/plain": [
       "(2505, 5)"
      ]
     },
     "execution_count": 27,
     "metadata": {},
     "output_type": "execute_result"
    }
   ],
   "source": [
    "lstm_train_df = df_final.iloc[:train_size]\n",
    "lstm_train_df.shape"
   ]
  },
  {
   "cell_type": "code",
   "execution_count": 28,
   "metadata": {},
   "outputs": [
    {
     "data": {
      "text/plain": [
       "(1073, 5)"
      ]
     },
     "execution_count": 28,
     "metadata": {},
     "output_type": "execute_result"
    }
   ],
   "source": [
    "lstm_test_df = df_final.iloc[train_size+1:]\n",
    "lstm_test_df.shape"
   ]
  },
  {
   "cell_type": "code",
   "execution_count": 29,
   "metadata": {
    "collapsed": true
   },
   "outputs": [],
   "source": [
    "list_X_train = lstm_train_df.as_matrix(columns=None)"
   ]
  },
  {
   "cell_type": "code",
   "execution_count": 30,
   "metadata": {
    "collapsed": true
   },
   "outputs": [],
   "source": [
    "list_X_test = lstm_test_df.as_matrix(columns=None)"
   ]
  },
  {
   "cell_type": "code",
   "execution_count": 31,
   "metadata": {
    "collapsed": true
   },
   "outputs": [],
   "source": [
    "import numpy as np\n",
    "\n",
    "def to_sequences(SEQUENCE_SIZE, data):\n",
    "    lstm_X = []\n",
    "    lstm_y = []\n",
    "\n",
    "    for i in range(len(data)-SEQUENCE_SIZE-1):\n",
    "        #print(i)\n",
    "        window = data[i:(i+SEQUENCE_SIZE)]\n",
    "        \n",
    "        after_window = data[i+SEQUENCE_SIZE, 4]\n",
    "        \n",
    "        #window = [[x] for x in window]\n",
    "                \n",
    "        lstm_X.append(window)\n",
    "        \n",
    "        lstm_y.append(after_window)\n",
    "        \n",
    "    return np.array(lstm_X),np.array(lstm_y)"
   ]
  },
  {
   "cell_type": "code",
   "execution_count": 32,
   "metadata": {},
   "outputs": [
    {
     "name": "stdout",
     "output_type": "stream",
     "text": [
      "Shape of x_train: (2497, 7, 5)\n",
      "Shape of y_train: (2497,)\n"
     ]
    }
   ],
   "source": [
    "SEQUENCE_SIZE = 7\n",
    "\n",
    "lstm_X_train, lstm_y_train = to_sequences(SEQUENCE_SIZE, list_X_train)\n",
    "\n",
    "print(\"Shape of x_train: {}\".format(lstm_X_train.shape))\n",
    "print(\"Shape of y_train: {}\".format(lstm_y_train.shape))"
   ]
  },
  {
   "cell_type": "code",
   "execution_count": 33,
   "metadata": {},
   "outputs": [
    {
     "name": "stdout",
     "output_type": "stream",
     "text": [
      "Shape of x_test: (1065, 7, 5)\n",
      "Shape of y_test: (1065,)\n"
     ]
    }
   ],
   "source": [
    "lstm_X_test, lstm_y_test = to_sequences(SEQUENCE_SIZE, list_X_test)\n",
    "\n",
    "print(\"Shape of x_test: {}\".format(lstm_X_test.shape))\n",
    "print(\"Shape of y_test: {}\".format(lstm_y_test.shape))"
   ]
  },
  {
   "cell_type": "code",
   "execution_count": 34,
   "metadata": {},
   "outputs": [
    {
     "name": "stdout",
     "output_type": "stream",
     "text": [
      "0\n",
      "Build model...\n",
      "Train...\n",
      "Train on 2497 samples, validate on 1065 samples\n",
      "Epoch 1/100\n",
      " - 4s - loss: 16855.9176 - val_loss: 24470.3983\n",
      "Epoch 2/100\n",
      " - 2s - loss: 3682.1919 - val_loss: 34699.3689\n",
      "Epoch 3/100\n",
      " - 2s - loss: 1338.7850 - val_loss: 44356.1936\n",
      "Epoch 4/100\n",
      " - 2s - loss: 783.8015 - val_loss: 18369.5731\n",
      "Epoch 5/100\n",
      " - 2s - loss: 946.9488 - val_loss: 42566.5737\n",
      "Epoch 6/100\n",
      " - 2s - loss: 718.5915 - val_loss: 31824.5401\n",
      "Epoch 7/100\n",
      " - 2s - loss: 689.8896 - val_loss: 45311.4591\n",
      "Epoch 8/100\n",
      " - 3s - loss: 3407.4161 - val_loss: 35124.9206\n",
      "Epoch 9/100\n",
      " - 3s - loss: 930.6898 - val_loss: 35984.5893\n",
      "Epoch 00009: early stopping\n",
      "1\n",
      "Build model...\n",
      "Train...\n",
      "Train on 2497 samples, validate on 1065 samples\n",
      "Epoch 1/100\n",
      " - 5s - loss: 14561.6128 - val_loss: 9270.1833\n",
      "Epoch 2/100\n",
      " - 2s - loss: 1987.7525 - val_loss: 50130.3094\n",
      "Epoch 3/100\n",
      " - 2s - loss: 1367.8407 - val_loss: 37800.6293\n",
      "Epoch 4/100\n",
      " - 3s - loss: 915.2164 - val_loss: 36833.0574\n",
      "Epoch 5/100\n",
      " - 3s - loss: 987.4062 - val_loss: 32370.6890\n",
      "Epoch 6/100\n",
      " - 3s - loss: 775.0891 - val_loss: 34706.4578\n",
      "Epoch 00006: early stopping\n",
      "2\n",
      "Build model...\n",
      "Train...\n",
      "Train on 2497 samples, validate on 1065 samples\n",
      "Epoch 1/100\n",
      " - 6s - loss: 13891.0974 - val_loss: 29172.4369\n",
      "Epoch 2/100\n",
      " - 2s - loss: 2992.7417 - val_loss: 44639.8840\n",
      "Epoch 3/100\n",
      " - 3s - loss: 1080.5358 - val_loss: 41814.0545\n",
      "Epoch 4/100\n",
      " - 3s - loss: 895.4598 - val_loss: 47003.8576\n",
      "Epoch 5/100\n",
      " - 2s - loss: 1252.1834 - val_loss: 48627.8820\n",
      "Epoch 6/100\n",
      " - 3s - loss: 848.6649 - val_loss: 58962.1769\n",
      "Epoch 00006: early stopping\n",
      "3\n",
      "Build model...\n",
      "Train...\n",
      "Train on 2497 samples, validate on 1065 samples\n",
      "Epoch 1/100\n",
      " - 5s - loss: 16739.9058 - val_loss: 21718.3454\n",
      "Epoch 2/100\n",
      " - 2s - loss: 1966.4086 - val_loss: 6297.1834\n",
      "Epoch 3/100\n",
      " - 2s - loss: 1518.6238 - val_loss: 26479.3275\n",
      "Epoch 4/100\n",
      " - 3s - loss: 1186.6634 - val_loss: 39324.0826\n",
      "Epoch 5/100\n",
      " - 2s - loss: 1094.1557 - val_loss: 27127.8441\n",
      "Epoch 6/100\n",
      " - 2s - loss: 928.1535 - val_loss: 45402.5818\n",
      "Epoch 7/100\n",
      " - 2s - loss: 870.3855 - val_loss: 51480.5285\n",
      "Epoch 00007: early stopping\n",
      "4\n",
      "Build model...\n",
      "Train...\n",
      "Train on 2497 samples, validate on 1065 samples\n",
      "Epoch 1/100\n",
      " - 5s - loss: 15371.2780 - val_loss: 13116.5276\n",
      "Epoch 2/100\n",
      " - 2s - loss: 2827.2162 - val_loss: 41269.6346\n",
      "Epoch 3/100\n",
      " - 3s - loss: 1406.0493 - val_loss: 25753.8764\n",
      "Epoch 4/100\n",
      " - 2s - loss: 870.1141 - val_loss: 43315.0169\n",
      "Epoch 5/100\n",
      " - 3s - loss: 913.5224 - val_loss: 27054.5385\n",
      "Epoch 6/100\n",
      " - 2s - loss: 994.5217 - val_loss: 15666.4926\n",
      "Epoch 00006: early stopping\n"
     ]
    }
   ],
   "source": [
    "from keras.preprocessing import sequence\n",
    "from keras.models import Sequential\n",
    "from keras.layers import Dense, Embedding\n",
    "from keras.layers import LSTM\n",
    "from keras.callbacks import EarlyStopping\n",
    "import numpy as np\n",
    "\n",
    "checkpointer = ModelCheckpoint(filepath=\"lstm/best_weights.hdf5\", verbose=0, save_best_only=True) # save best model\n",
    "\n",
    "for i in range(5):\n",
    "    \n",
    "    print(i)\n",
    "    print('Build model...')\n",
    "    \n",
    "    lstm_model = Sequential()\n",
    "\n",
    "    lstm_model.add(LSTM(256, activation='relu', dropout=0.1, recurrent_dropout=0.1, input_shape=(SEQUENCE_SIZE,5)))\n",
    "    lstm_model.add(Dropout(0.10))\n",
    "    lstm_model.add(Dense(150, activation='relu'))\n",
    "    lstm_model.add(Dropout(0.10))\n",
    "    lstm_model.add(Dense(100, activation='relu'))\n",
    "    lstm_model.add(Dropout(0.10))\n",
    "    lstm_model.add(Dense(50, activation='relu'))\n",
    "    lstm_model.add(Dense(1))\n",
    "\n",
    "    lstm_model.compile(loss='mean_squared_error', optimizer='adam')\n",
    "\n",
    "    monitor = EarlyStopping(monitor='val_loss', min_delta=1e-4, patience=5, verbose=1, mode='auto')\n",
    "    print('Train...')\n",
    "\n",
    "    lstm_model.fit(lstm_X_train, lstm_y_train, validation_data=(lstm_X_test, lstm_y_test), \n",
    "                   callbacks=[monitor, checkpointer], verbose=2, epochs=100)"
   ]
  },
  {
   "cell_type": "markdown",
   "metadata": {},
   "source": [
    "# Scores for LSTM"
   ]
  },
  {
   "cell_type": "code",
   "execution_count": 35,
   "metadata": {},
   "outputs": [
    {
     "name": "stdout",
     "output_type": "stream",
     "text": [
      "RMSE: 79.35479480280888\n",
      "R2 score 0.8584312792137132\n",
      "MSE::  6297.183458195903\n"
     ]
    }
   ],
   "source": [
    "lstm_model.load_weights('lstm/best_weights.hdf5')\n",
    "\n",
    "lstm_pred = lstm_model.predict(lstm_X_test)\n",
    "\n",
    "score = np.sqrt(metrics.mean_squared_error(lstm_y_test, lstm_pred)) \n",
    "\n",
    "print(\"RMSE: {}\".format(score))\n",
    "print(\"R2 score\",metrics.r2_score(lstm_y_test, lstm_pred))\n",
    "print(\"MSE:: \", metrics.mean_squared_error(lstm_y_test, lstm_pred))"
   ]
  },
  {
   "cell_type": "code",
   "execution_count": 36,
   "metadata": {},
   "outputs": [
    {
     "data": {
      "image/png": "[encoded data removed]",
      "text/plain": [
       "<matplotlib.figure.Figure at 0x23550c26320>"
      ]
     },
     "metadata": {},
     "output_type": "display_data"
    }
   ],
   "source": [
    "# Plot the chart\n",
    "chart_regression(lstm_pred.flatten(), lstm_y_test)"
   ]
  },
  {
   "cell_type": "code",
   "execution_count": 37,
   "metadata": {
    "collapsed": true
   },
   "outputs": [],
   "source": [
    "from keras.layers import Conv2D, MaxPooling2D, Flatten\n",
    "from keras.layers import Dropout\n",
    "from keras import regularizers"
   ]
  },
  {
   "cell_type": "code",
   "execution_count": 38,
   "metadata": {
    "collapsed": true
   },
   "outputs": [],
   "source": [
    "cnn_X_train = lstm_X_train.reshape(lstm_X_train.shape[0], 1, SEQUENCE_SIZE, 5)\n",
    "cnn_X_test = lstm_X_test.reshape(lstm_X_test.shape[0], 1, SEQUENCE_SIZE, 5)"
   ]
  },
  {
   "cell_type": "code",
   "execution_count": 39,
   "metadata": {
    "collapsed": true
   },
   "outputs": [],
   "source": [
    "input_shape=(1, SEQUENCE_SIZE, 5)"
   ]
  },
  {
   "cell_type": "code",
   "execution_count": 40,
   "metadata": {},
   "outputs": [
    {
     "name": "stdout",
     "output_type": "stream",
     "text": [
      "_________________________________________________________________\n",
      "Layer (type)                 Output Shape              Param #   \n",
      "=================================================================\n",
      "conv2d_1 (Conv2D)            (None, 1, 7, 32)          1472      \n",
      "_________________________________________________________________\n",
      "max_pooling2d_1 (MaxPooling2 (None, 1, 4, 32)          0         \n",
      "_________________________________________________________________\n",
      "conv2d_2 (Conv2D)            (None, 1, 4, 64)          18496     \n",
      "_________________________________________________________________\n",
      "max_pooling2d_2 (MaxPooling2 (None, 1, 2, 64)          0         \n",
      "_________________________________________________________________\n",
      "conv2d_3 (Conv2D)            (None, 1, 2, 128)         73856     \n",
      "_________________________________________________________________\n",
      "max_pooling2d_3 (MaxPooling2 (None, 1, 1, 128)         0         \n",
      "_________________________________________________________________\n",
      "conv2d_4 (Conv2D)            (None, 1, 1, 256)         295168    \n",
      "_________________________________________________________________\n",
      "max_pooling2d_4 (MaxPooling2 (None, 1, 1, 256)         0         \n",
      "_________________________________________________________________\n",
      "flatten_1 (Flatten)          (None, 256)               0         \n",
      "_________________________________________________________________\n",
      "dense_46 (Dense)             (None, 500)               128500    \n",
      "_________________________________________________________________\n",
      "dense_47 (Dense)             (None, 1)                 501       \n",
      "=================================================================\n",
      "Total params: 517,993\n",
      "Trainable params: 517,993\n",
      "Non-trainable params: 0\n",
      "_________________________________________________________________\n"
     ]
    }
   ],
   "source": [
    "cnn_model = Sequential()\n",
    "cnn_model.add(Conv2D(32, kernel_size=(3, 3), strides=(1, 1),activation='relu',input_shape=input_shape, padding='same'))\n",
    "cnn_model.add(MaxPooling2D(pool_size=(2, 2),padding='same'))\n",
    "cnn_model.add(Conv2D(64, kernel_size=(3, 3), strides=(1, 1),activation='relu',padding='same'))\n",
    "cnn_model.add(MaxPooling2D(pool_size=(2, 2),padding='same'))\n",
    "cnn_model.add(Conv2D(128,kernel_size=(3, 3), strides=(1, 1),activation='relu',padding='same'))\n",
    "cnn_model.add(MaxPooling2D(pool_size=(2, 2),padding='same'))\n",
    "cnn_model.add(Conv2D(256,kernel_size=(3, 3), strides=(1, 1),activation='relu',padding='same'))\n",
    "cnn_model.add(MaxPooling2D(pool_size=(2, 2),padding='same'))\n",
    "cnn_model.add(Flatten())\n",
    "cnn_model.add(Dense(500, activation='relu'))\n",
    "cnn_model.add(Dense(1))\n",
    "cnn_model.summary()"
   ]
  },
  {
   "cell_type": "code",
   "execution_count": 41,
   "metadata": {},
   "outputs": [
    {
     "name": "stdout",
     "output_type": "stream",
     "text": [
      "0\n",
      "Train on 2497 samples, validate on 1065 samples\n",
      "Epoch 1/100\n",
      " - 4s - loss: 38414.9553 - val_loss: 49731.2681\n",
      "Epoch 2/100\n",
      " - 2s - loss: 2774.9157 - val_loss: 11080.7711\n",
      "Epoch 3/100\n",
      " - 2s - loss: 401.4209 - val_loss: 446.5809\n",
      "Epoch 4/100\n",
      " - 2s - loss: 121.5350 - val_loss: 558.8483\n",
      "Epoch 5/100\n",
      " - 2s - loss: 82.8827 - val_loss: 496.3804\n",
      "Epoch 00005: early stopping\n",
      "1\n",
      "Train on 2497 samples, validate on 1065 samples\n",
      "Epoch 1/100\n",
      " - 4s - loss: 2159.0152 - val_loss: 3118.3895\n",
      "Epoch 2/100\n",
      " - 2s - loss: 274.9429 - val_loss: 474.0067\n",
      "Epoch 3/100\n",
      " - 2s - loss: 95.7637 - val_loss: 484.7494\n",
      "Epoch 4/100\n",
      " - 2s - loss: 71.9449 - val_loss: 438.6810\n",
      "Epoch 5/100\n",
      " - 2s - loss: 70.2266 - val_loss: 409.6927\n",
      "Epoch 6/100\n",
      " - 2s - loss: 66.9746 - val_loss: 393.5807\n",
      "Epoch 7/100\n",
      " - 2s - loss: 68.7180 - val_loss: 546.8225\n",
      "Epoch 8/100\n",
      " - 2s - loss: 69.1392 - val_loss: 381.2065\n",
      "Epoch 9/100\n",
      " - 2s - loss: 62.9775 - val_loss: 364.9799\n",
      "Epoch 10/100\n",
      " - 2s - loss: 60.3694 - val_loss: 361.1798\n",
      "Epoch 11/100\n",
      " - 2s - loss: 63.2916 - val_loss: 402.6944\n",
      "Epoch 12/100\n",
      " - 2s - loss: 57.3571 - val_loss: 346.5219\n",
      "Epoch 13/100\n",
      " - 2s - loss: 61.7226 - val_loss: 363.4116\n",
      "Epoch 14/100\n",
      " - 2s - loss: 62.7033 - val_loss: 405.3429\n",
      "Epoch 00014: early stopping\n",
      "2\n",
      "Train on 2497 samples, validate on 1065 samples\n",
      "Epoch 1/100\n",
      " - 4s - loss: 1005.1676 - val_loss: 1847.7874\n",
      "Epoch 2/100\n",
      " - 2s - loss: 154.7605 - val_loss: 543.1740\n",
      "Epoch 3/100\n",
      " - 2s - loss: 63.7113 - val_loss: 323.4317\n",
      "Epoch 4/100\n",
      " - 2s - loss: 53.4849 - val_loss: 325.7052\n",
      "Epoch 5/100\n",
      " - 2s - loss: 51.7354 - val_loss: 322.1517\n",
      "Epoch 6/100\n",
      " - 2s - loss: 51.2196 - val_loss: 321.4839\n",
      "Epoch 7/100\n",
      " - 2s - loss: 51.7377 - val_loss: 323.1945\n",
      "Epoch 8/100\n",
      " - 2s - loss: 48.4515 - val_loss: 305.9680\n",
      "Epoch 9/100\n",
      " - 2s - loss: 47.1107 - val_loss: 278.9612\n",
      "Epoch 10/100\n",
      " - 2s - loss: 46.0045 - val_loss: 327.7472\n",
      "Epoch 11/100\n",
      " - 2s - loss: 46.7692 - val_loss: 272.6819\n",
      "Epoch 12/100\n",
      " - 2s - loss: 43.2032 - val_loss: 304.3049\n",
      "Epoch 13/100\n",
      " - 2s - loss: 44.6097 - val_loss: 239.7731\n",
      "Epoch 14/100\n",
      " - 2s - loss: 42.8366 - val_loss: 400.5926\n",
      "Epoch 15/100\n",
      " - 2s - loss: 45.5919 - val_loss: 306.9606\n",
      "Epoch 00015: early stopping\n",
      "3\n",
      "Train on 2497 samples, validate on 1065 samples\n",
      "Epoch 1/100\n",
      " - 3s - loss: 2019.6612 - val_loss: 1197.9076\n",
      "Epoch 2/100\n",
      " - 2s - loss: 207.8269 - val_loss: 433.6610\n",
      "Epoch 3/100\n",
      " - 2s - loss: 74.1395 - val_loss: 318.6168\n",
      "Epoch 4/100\n",
      " - 2s - loss: 46.4578 - val_loss: 247.2616\n",
      "Epoch 5/100\n",
      " - 2s - loss: 40.7042 - val_loss: 243.9045\n",
      "Epoch 6/100\n",
      " - 2s - loss: 39.9958 - val_loss: 242.6301\n",
      "Epoch 7/100\n",
      " - 2s - loss: 40.9075 - val_loss: 247.8616\n",
      "Epoch 8/100\n",
      " - 2s - loss: 41.2202 - val_loss: 237.0166\n",
      "Epoch 9/100\n",
      " - 2s - loss: 40.5075 - val_loss: 234.5478\n",
      "Epoch 10/100\n",
      " - 2s - loss: 39.3650 - val_loss: 230.5808\n",
      "Epoch 11/100\n",
      " - 2s - loss: 38.6930 - val_loss: 232.9760\n",
      "Epoch 12/100\n",
      " - 2s - loss: 38.3682 - val_loss: 256.6097\n",
      "Epoch 00012: early stopping\n",
      "4\n",
      "Train on 2497 samples, validate on 1065 samples\n",
      "Epoch 1/100\n",
      " - 4s - loss: 2045.6624 - val_loss: 2743.3934\n",
      "Epoch 2/100\n",
      " - 2s - loss: 251.1448 - val_loss: 291.7730\n",
      "Epoch 3/100\n",
      " - 2s - loss: 83.4748 - val_loss: 668.6536\n",
      "Epoch 4/100\n",
      " - 2s - loss: 62.3673 - val_loss: 347.7999\n",
      "Epoch 00004: early stopping\n"
     ]
    }
   ],
   "source": [
    "checkpointer = ModelCheckpoint(filepath=\"cnn/weights.hdf5\", verbose=0, save_best_only=True) # save best model\n",
    "\n",
    "for i in range(5):\n",
    "    print(i)   \n",
    "    cnn_model.compile(loss='mean_squared_error', optimizer='adam')\n",
    "    monitor = EarlyStopping(monitor='val_loss', min_delta=1e-4, patience=2, verbose=1, mode='auto')\n",
    "    cnn_model.fit(cnn_X_train, lstm_y_train, batch_size=128, validation_data=(cnn_X_test, lstm_y_test), callbacks=[monitor, checkpointer], \n",
    "                  verbose=2, epochs=100)"
   ]
  },
  {
   "cell_type": "markdown",
   "metadata": {},
   "source": [
    "# Scores for CNN"
   ]
  },
  {
   "cell_type": "code",
   "execution_count": 42,
   "metadata": {},
   "outputs": [
    {
     "name": "stdout",
     "output_type": "stream",
     "text": [
      "RMSE: 15.184886792838228\n",
      "R2 score 0.9948162496364237\n",
      "MSE::  230.58078691131286\n"
     ]
    }
   ],
   "source": [
    "cnn_model.load_weights('cnn/weights.hdf5')\n",
    "\n",
    "cnn_pred = cnn_model.predict(cnn_X_test)\n",
    "\n",
    "score = np.sqrt(metrics.mean_squared_error(lstm_y_test, cnn_pred)) \n",
    "\n",
    "print(\"RMSE: {}\".format(score))\n",
    "print(\"R2 score\",metrics.r2_score(lstm_y_test, cnn_pred))\n",
    "print(\"MSE:: \", metrics.mean_squared_error(lstm_y_test, cnn_pred))"
   ]
  },
  {
   "cell_type": "code",
   "execution_count": null,
   "metadata": {
    "collapsed": true
   },
   "outputs": [],
   "source": []
  }
 ],
 "metadata": {
  "kernelspec": {
   "display_name": "Python 3",
   "language": "python",
   "name": "python3"
  },
  "language_info": {
   "codemirror_mode": {
    "name": "ipython",
    "version": 3
   },
   "file_extension": ".py",
   "mimetype": "text/x-python",
   "name": "python",
   "nbconvert_exporter": "python",
   "pygments_lexer": "ipython3",
   "version": "3.6.3"
  }
 },
 "nbformat": 4,
 "nbformat_minor": 2
}
