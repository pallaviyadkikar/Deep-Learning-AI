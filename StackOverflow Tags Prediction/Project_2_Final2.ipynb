{
 "cells": [
  {
   "cell_type": "code",
   "execution_count": 1,
   "metadata": {},
   "outputs": [],
   "source": [
    "import json\n",
    "import csv\n",
    "import numpy as np\n",
    "import pandas as pd"
   ]
  },
  {
   "cell_type": "code",
   "execution_count": 2,
   "metadata": {},
   "outputs": [
    {
     "name": "stderr",
     "output_type": "stream",
     "text": [
      "C:\\Users\\palak\\Anaconda3\\lib\\site-packages\\h5py\\__init__.py:36: FutureWarning: Conversion of the second argument of issubdtype from `float` to `np.floating` is deprecated. In future, it will be treated as `np.float64 == np.dtype(float).type`.\n",
      "  from ._conv import register_converters as _register_converters\n"
     ]
    }
   ],
   "source": [
    "import tensorflow as tf"
   ]
  },
  {
   "cell_type": "code",
   "execution_count": 3,
   "metadata": {},
   "outputs": [],
   "source": [
    "import string"
   ]
  },
  {
   "cell_type": "code",
   "execution_count": 4,
   "metadata": {},
   "outputs": [],
   "source": [
    "import re"
   ]
  },
  {
   "cell_type": "markdown",
   "metadata": {},
   "source": [
    "# Converting CSV to pandas dataframe"
   ]
  },
  {
   "cell_type": "code",
   "execution_count": 5,
   "metadata": {},
   "outputs": [],
   "source": [
    "question_pd = pd.read_csv(\"Questions.csv\",encoding=\"latin-1\") "
   ]
  },
  {
   "cell_type": "code",
   "execution_count": 6,
   "metadata": {},
   "outputs": [
    {
     "data": {
      "text/plain": [
       "(1264216, 7)"
      ]
     },
     "execution_count": 6,
     "metadata": {},
     "output_type": "execute_result"
    }
   ],
   "source": [
    "question_pd.shape"
   ]
  },
  {
   "cell_type": "code",
   "execution_count": 7,
   "metadata": {},
   "outputs": [],
   "source": [
    "tags_pd = pd.read_csv(\"Tags.csv\",encoding=\"latin-1\") #id and tag "
   ]
  },
  {
   "cell_type": "code",
   "execution_count": 8,
   "metadata": {},
   "outputs": [
    {
     "data": {
      "text/plain": [
       "(3750994, 2)"
      ]
     },
     "execution_count": 8,
     "metadata": {},
     "output_type": "execute_result"
    }
   ],
   "source": [
    "tags_pd.shape"
   ]
  },
  {
   "cell_type": "code",
   "execution_count": 9,
   "metadata": {},
   "outputs": [
    {
     "data": {
      "text/html": [
       "<div>\n",
       "<style scoped>\n",
       "    .dataframe tbody tr th:only-of-type {\n",
       "        vertical-align: middle;\n",
       "    }\n",
       "\n",
       "    .dataframe tbody tr th {\n",
       "        vertical-align: top;\n",
       "    }\n",
       "\n",
       "    .dataframe thead th {\n",
       "        text-align: right;\n",
       "    }\n",
       "</style>\n",
       "<table border=\"1\" class=\"dataframe\">\n",
       "  <thead>\n",
       "    <tr style=\"text-align: right;\">\n",
       "      <th></th>\n",
       "      <th>Id</th>\n",
       "      <th>OwnerUserId</th>\n",
       "      <th>CreationDate</th>\n",
       "      <th>ClosedDate</th>\n",
       "      <th>Score</th>\n",
       "      <th>Title</th>\n",
       "      <th>Body</th>\n",
       "    </tr>\n",
       "  </thead>\n",
       "  <tbody>\n",
       "    <tr>\n",
       "      <th>0</th>\n",
       "      <td>80</td>\n",
       "      <td>26.0</td>\n",
       "      <td>2008-08-01T13:57:07Z</td>\n",
       "      <td>NaN</td>\n",
       "      <td>26</td>\n",
       "      <td>SQLStatement.execute() - multiple queries in o...</td>\n",
       "      <td>&lt;p&gt;I've written a database generation script i...</td>\n",
       "    </tr>\n",
       "    <tr>\n",
       "      <th>1</th>\n",
       "      <td>90</td>\n",
       "      <td>58.0</td>\n",
       "      <td>2008-08-01T14:41:24Z</td>\n",
       "      <td>2012-12-26T03:45:49Z</td>\n",
       "      <td>144</td>\n",
       "      <td>Good branching and merging tutorials for Torto...</td>\n",
       "      <td>&lt;p&gt;Are there any really good tutorials explain...</td>\n",
       "    </tr>\n",
       "    <tr>\n",
       "      <th>2</th>\n",
       "      <td>120</td>\n",
       "      <td>83.0</td>\n",
       "      <td>2008-08-01T15:50:08Z</td>\n",
       "      <td>NaN</td>\n",
       "      <td>21</td>\n",
       "      <td>ASP.NET Site Maps</td>\n",
       "      <td>&lt;p&gt;Has anyone got experience creating &lt;strong&gt;...</td>\n",
       "    </tr>\n",
       "    <tr>\n",
       "      <th>3</th>\n",
       "      <td>180</td>\n",
       "      <td>2089740.0</td>\n",
       "      <td>2008-08-01T18:42:19Z</td>\n",
       "      <td>NaN</td>\n",
       "      <td>53</td>\n",
       "      <td>Function for creating color wheels</td>\n",
       "      <td>&lt;p&gt;This is something I've pseudo-solved many t...</td>\n",
       "    </tr>\n",
       "    <tr>\n",
       "      <th>4</th>\n",
       "      <td>260</td>\n",
       "      <td>91.0</td>\n",
       "      <td>2008-08-01T23:22:08Z</td>\n",
       "      <td>NaN</td>\n",
       "      <td>49</td>\n",
       "      <td>Adding scripting functionality to .NET applica...</td>\n",
       "      <td>&lt;p&gt;I have a little game written in C#. It uses...</td>\n",
       "    </tr>\n",
       "  </tbody>\n",
       "</table>\n",
       "</div>"
      ],
      "text/plain": [
       "    Id  OwnerUserId          CreationDate            ClosedDate  Score  \\\n",
       "0   80         26.0  2008-08-01T13:57:07Z                   NaN     26   \n",
       "1   90         58.0  2008-08-01T14:41:24Z  2012-12-26T03:45:49Z    144   \n",
       "2  120         83.0  2008-08-01T15:50:08Z                   NaN     21   \n",
       "3  180    2089740.0  2008-08-01T18:42:19Z                   NaN     53   \n",
       "4  260         91.0  2008-08-01T23:22:08Z                   NaN     49   \n",
       "\n",
       "                                               Title  \\\n",
       "0  SQLStatement.execute() - multiple queries in o...   \n",
       "1  Good branching and merging tutorials for Torto...   \n",
       "2                                  ASP.NET Site Maps   \n",
       "3                 Function for creating color wheels   \n",
       "4  Adding scripting functionality to .NET applica...   \n",
       "\n",
       "                                                Body  \n",
       "0  <p>I've written a database generation script i...  \n",
       "1  <p>Are there any really good tutorials explain...  \n",
       "2  <p>Has anyone got experience creating <strong>...  \n",
       "3  <p>This is something I've pseudo-solved many t...  \n",
       "4  <p>I have a little game written in C#. It uses...  "
      ]
     },
     "execution_count": 9,
     "metadata": {},
     "output_type": "execute_result"
    }
   ],
   "source": [
    "question_pd[:5]"
   ]
  },
  {
   "cell_type": "code",
   "execution_count": 10,
   "metadata": {},
   "outputs": [
    {
     "data": {
      "text/html": [
       "<div>\n",
       "<style scoped>\n",
       "    .dataframe tbody tr th:only-of-type {\n",
       "        vertical-align: middle;\n",
       "    }\n",
       "\n",
       "    .dataframe tbody tr th {\n",
       "        vertical-align: top;\n",
       "    }\n",
       "\n",
       "    .dataframe thead th {\n",
       "        text-align: right;\n",
       "    }\n",
       "</style>\n",
       "<table border=\"1\" class=\"dataframe\">\n",
       "  <thead>\n",
       "    <tr style=\"text-align: right;\">\n",
       "      <th></th>\n",
       "      <th>Id</th>\n",
       "      <th>Tag</th>\n",
       "    </tr>\n",
       "  </thead>\n",
       "  <tbody>\n",
       "    <tr>\n",
       "      <th>0</th>\n",
       "      <td>80</td>\n",
       "      <td>flex</td>\n",
       "    </tr>\n",
       "    <tr>\n",
       "      <th>1</th>\n",
       "      <td>80</td>\n",
       "      <td>actionscript-3</td>\n",
       "    </tr>\n",
       "    <tr>\n",
       "      <th>2</th>\n",
       "      <td>80</td>\n",
       "      <td>air</td>\n",
       "    </tr>\n",
       "    <tr>\n",
       "      <th>3</th>\n",
       "      <td>90</td>\n",
       "      <td>svn</td>\n",
       "    </tr>\n",
       "    <tr>\n",
       "      <th>4</th>\n",
       "      <td>90</td>\n",
       "      <td>tortoisesvn</td>\n",
       "    </tr>\n",
       "  </tbody>\n",
       "</table>\n",
       "</div>"
      ],
      "text/plain": [
       "   Id             Tag\n",
       "0  80            flex\n",
       "1  80  actionscript-3\n",
       "2  80             air\n",
       "3  90             svn\n",
       "4  90     tortoisesvn"
      ]
     },
     "execution_count": 10,
     "metadata": {},
     "output_type": "execute_result"
    }
   ],
   "source": [
    "tags_pd[:5]"
   ]
  },
  {
   "cell_type": "code",
   "execution_count": 11,
   "metadata": {},
   "outputs": [],
   "source": [
    "tags_pd = tags_pd.dropna(how='any',axis=0) #drop any null value row, tag or id"
   ]
  },
  {
   "cell_type": "code",
   "execution_count": 12,
   "metadata": {},
   "outputs": [],
   "source": [
    "tags_pd.Tag = tags_pd.Tag.apply(lambda x: x.lower()) #convert text to lower case"
   ]
  },
  {
   "cell_type": "code",
   "execution_count": 13,
   "metadata": {},
   "outputs": [
    {
     "data": {
      "text/plain": [
       "(3749881, 2)"
      ]
     },
     "execution_count": 13,
     "metadata": {},
     "output_type": "execute_result"
    }
   ],
   "source": [
    "tags_pd.shape"
   ]
  },
  {
   "cell_type": "code",
   "execution_count": 14,
   "metadata": {},
   "outputs": [
    {
     "data": {
      "text/plain": [
       "37034"
      ]
     },
     "execution_count": 14,
     "metadata": {},
     "output_type": "execute_result"
    }
   ],
   "source": [
    "len(tags_pd['Tag'].unique().tolist()) #how many unique tags # No of unique tags"
   ]
  },
  {
   "cell_type": "code",
   "execution_count": 15,
   "metadata": {},
   "outputs": [],
   "source": [
    "tags_pd['count'] = tags_pd.groupby('Tag')['Tag'].transform('count') # count of each tags"
   ]
  },
  {
   "cell_type": "code",
   "execution_count": 16,
   "metadata": {},
   "outputs": [
    {
     "data": {
      "text/html": [
       "<div>\n",
       "<style scoped>\n",
       "    .dataframe tbody tr th:only-of-type {\n",
       "        vertical-align: middle;\n",
       "    }\n",
       "\n",
       "    .dataframe tbody tr th {\n",
       "        vertical-align: top;\n",
       "    }\n",
       "\n",
       "    .dataframe thead th {\n",
       "        text-align: right;\n",
       "    }\n",
       "</style>\n",
       "<table border=\"1\" class=\"dataframe\">\n",
       "  <thead>\n",
       "    <tr style=\"text-align: right;\">\n",
       "      <th></th>\n",
       "      <th>Id</th>\n",
       "      <th>Tag</th>\n",
       "      <th>count</th>\n",
       "    </tr>\n",
       "  </thead>\n",
       "  <tbody>\n",
       "    <tr>\n",
       "      <th>0</th>\n",
       "      <td>80</td>\n",
       "      <td>flex</td>\n",
       "      <td>2430</td>\n",
       "    </tr>\n",
       "    <tr>\n",
       "      <th>1</th>\n",
       "      <td>80</td>\n",
       "      <td>actionscript-3</td>\n",
       "      <td>4039</td>\n",
       "    </tr>\n",
       "    <tr>\n",
       "      <th>2</th>\n",
       "      <td>80</td>\n",
       "      <td>air</td>\n",
       "      <td>738</td>\n",
       "    </tr>\n",
       "    <tr>\n",
       "      <th>3</th>\n",
       "      <td>90</td>\n",
       "      <td>svn</td>\n",
       "      <td>2361</td>\n",
       "    </tr>\n",
       "    <tr>\n",
       "      <th>4</th>\n",
       "      <td>90</td>\n",
       "      <td>tortoisesvn</td>\n",
       "      <td>441</td>\n",
       "    </tr>\n",
       "  </tbody>\n",
       "</table>\n",
       "</div>"
      ],
      "text/plain": [
       "   Id             Tag  count\n",
       "0  80            flex   2430\n",
       "1  80  actionscript-3   4039\n",
       "2  80             air    738\n",
       "3  90             svn   2361\n",
       "4  90     tortoisesvn    441"
      ]
     },
     "execution_count": 16,
     "metadata": {},
     "output_type": "execute_result"
    }
   ],
   "source": [
    "tags_pd[:5]"
   ]
  },
  {
   "cell_type": "code",
   "execution_count": 17,
   "metadata": {},
   "outputs": [],
   "source": [
    "import matplotlib\n",
    "%matplotlib inline"
   ]
  },
  {
   "cell_type": "code",
   "execution_count": 18,
   "metadata": {},
   "outputs": [
    {
     "data": {
      "text/plain": [
       "javascript                   124155\n",
       "java                         115212\n",
       "c#                           101186\n",
       "php                           98808\n",
       "android                       90659\n",
       "jquery                        78542\n",
       "python                        64601\n",
       "html                          58976\n",
       "c++                           47591\n",
       "ios                           47009\n",
       "mysql                         42464\n",
       "css                           42308\n",
       "sql                           35782\n",
       "asp.net                       29970\n",
       "objective-c                   26922\n",
       "ruby-on-rails                 25789\n",
       ".net                          24059\n",
       "c                             23238\n",
       "iphone                        21539\n",
       "angularjs                     20345\n",
       "arrays                        19799\n",
       "sql-server                    18160\n",
       "json                          17669\n",
       "ruby                          17013\n",
       "r                             15701\n",
       "ajax                          15629\n",
       "regex                         15349\n",
       "xml                           14763\n",
       "node.js                       14525\n",
       "asp.net-mvc                   14284\n",
       "                              ...  \n",
       "positional-operator               1\n",
       "gnucash                           1\n",
       "vsts-package-management           1\n",
       "capl                              1\n",
       "sitecore-social-connected         1\n",
       "google-language-api               1\n",
       "scales-xml                        1\n",
       "mvw                               1\n",
       "keycloak-services                 1\n",
       "sqldmo                            1\n",
       "human-interface                   1\n",
       "application-singleton             1\n",
       "recursiveiterator                 1\n",
       "yui-autocomplete                  1\n",
       "live-meeting                      1\n",
       "android-ffmpeg                    1\n",
       "ccuiviewwrapper                   1\n",
       "skiasharp                         1\n",
       "dbmetal                           1\n",
       "msbuild-projectreference          1\n",
       "neo4j-batch-inserter              1\n",
       "dukpt                             1\n",
       "msxml4                            1\n",
       "mapstruct                         1\n",
       "spigot-algorithm                  1\n",
       "node-twitter                      1\n",
       "gcloud-ruby                       1\n",
       "data-serialization                1\n",
       "castle-windsor-3                  1\n",
       "meta-object-facility              1\n",
       "Name: Tag, Length: 37034, dtype: int64"
      ]
     },
     "execution_count": 18,
     "metadata": {},
     "output_type": "execute_result"
    }
   ],
   "source": [
    "tags_pd['Tag'].value_counts() # value count of each tag"
   ]
  },
  {
   "cell_type": "code",
   "execution_count": 19,
   "metadata": {},
   "outputs": [
    {
     "data": {
      "text/plain": [
       "javascript    124155\n",
       "java          115212\n",
       "c#            101186\n",
       "php            98808\n",
       "android        90659\n",
       "jquery         78542\n",
       "python         64601\n",
       "html           58976\n",
       "c++            47591\n",
       "ios            47009\n",
       "Name: Tag, dtype: int64"
      ]
     },
     "execution_count": 19,
     "metadata": {},
     "output_type": "execute_result"
    }
   ],
   "source": [
    "tags_pd['Tag'].value_counts()[:10]"
   ]
  },
  {
   "cell_type": "code",
   "execution_count": 20,
   "metadata": {},
   "outputs": [
    {
     "data": {
      "text/plain": [
       "<matplotlib.axes._subplots.AxesSubplot at 0x1da23a78780>"
      ]
     },
     "execution_count": 20,
     "metadata": {},
     "output_type": "execute_result"
    },
    {
     "data": {
      "image/png": "[encoded data removed]",
      "text/plain": [
       "<Figure size 432x288 with 1 Axes>"
      ]
     },
     "metadata": {},
     "output_type": "display_data"
    }
   ],
   "source": [
    "tags_pd['Tag'].value_counts()[:10].plot(kind='barh')"
   ]
  },
  {
   "cell_type": "code",
   "execution_count": 21,
   "metadata": {},
   "outputs": [],
   "source": [
    "top10_df = tags_pd['Tag'].value_counts()[:10].reset_index() #create dataframe of top 10 tags"
   ]
  },
  {
   "cell_type": "code",
   "execution_count": 22,
   "metadata": {},
   "outputs": [
    {
     "data": {
      "text/html": [
       "<div>\n",
       "<style scoped>\n",
       "    .dataframe tbody tr th:only-of-type {\n",
       "        vertical-align: middle;\n",
       "    }\n",
       "\n",
       "    .dataframe tbody tr th {\n",
       "        vertical-align: top;\n",
       "    }\n",
       "\n",
       "    .dataframe thead th {\n",
       "        text-align: right;\n",
       "    }\n",
       "</style>\n",
       "<table border=\"1\" class=\"dataframe\">\n",
       "  <thead>\n",
       "    <tr style=\"text-align: right;\">\n",
       "      <th></th>\n",
       "      <th>index</th>\n",
       "      <th>Tag</th>\n",
       "    </tr>\n",
       "  </thead>\n",
       "  <tbody>\n",
       "    <tr>\n",
       "      <th>0</th>\n",
       "      <td>javascript</td>\n",
       "      <td>124155</td>\n",
       "    </tr>\n",
       "    <tr>\n",
       "      <th>1</th>\n",
       "      <td>java</td>\n",
       "      <td>115212</td>\n",
       "    </tr>\n",
       "    <tr>\n",
       "      <th>2</th>\n",
       "      <td>c#</td>\n",
       "      <td>101186</td>\n",
       "    </tr>\n",
       "    <tr>\n",
       "      <th>3</th>\n",
       "      <td>php</td>\n",
       "      <td>98808</td>\n",
       "    </tr>\n",
       "    <tr>\n",
       "      <th>4</th>\n",
       "      <td>android</td>\n",
       "      <td>90659</td>\n",
       "    </tr>\n",
       "    <tr>\n",
       "      <th>5</th>\n",
       "      <td>jquery</td>\n",
       "      <td>78542</td>\n",
       "    </tr>\n",
       "    <tr>\n",
       "      <th>6</th>\n",
       "      <td>python</td>\n",
       "      <td>64601</td>\n",
       "    </tr>\n",
       "    <tr>\n",
       "      <th>7</th>\n",
       "      <td>html</td>\n",
       "      <td>58976</td>\n",
       "    </tr>\n",
       "    <tr>\n",
       "      <th>8</th>\n",
       "      <td>c++</td>\n",
       "      <td>47591</td>\n",
       "    </tr>\n",
       "    <tr>\n",
       "      <th>9</th>\n",
       "      <td>ios</td>\n",
       "      <td>47009</td>\n",
       "    </tr>\n",
       "  </tbody>\n",
       "</table>\n",
       "</div>"
      ],
      "text/plain": [
       "        index     Tag\n",
       "0  javascript  124155\n",
       "1        java  115212\n",
       "2          c#  101186\n",
       "3         php   98808\n",
       "4     android   90659\n",
       "5      jquery   78542\n",
       "6      python   64601\n",
       "7        html   58976\n",
       "8         c++   47591\n",
       "9         ios   47009"
      ]
     },
     "execution_count": 22,
     "metadata": {},
     "output_type": "execute_result"
    }
   ],
   "source": [
    "top10_df[:10]"
   ]
  },
  {
   "cell_type": "code",
   "execution_count": 23,
   "metadata": {},
   "outputs": [],
   "source": [
    "top10_list = top10_df['index'].tolist() #convert tags into list"
   ]
  },
  {
   "cell_type": "code",
   "execution_count": 24,
   "metadata": {},
   "outputs": [],
   "source": [
    "tags_pd_final = tags_pd[tags_pd['Tag'].isin(top10_list)] #filtering dataframe based on top10 popular tags"
   ]
  },
  {
   "cell_type": "code",
   "execution_count": 25,
   "metadata": {},
   "outputs": [
    {
     "data": {
      "text/plain": [
       "(826739, 3)"
      ]
     },
     "execution_count": 25,
     "metadata": {},
     "output_type": "execute_result"
    }
   ],
   "source": [
    "tags_pd_final.shape"
   ]
  },
  {
   "cell_type": "code",
   "execution_count": 26,
   "metadata": {},
   "outputs": [
    {
     "data": {
      "text/plain": [
       "10"
      ]
     },
     "execution_count": 26,
     "metadata": {},
     "output_type": "execute_result"
    }
   ],
   "source": [
    "len(tags_pd_final['Tag'].unique().tolist()) #making sure unique tags are 10"
   ]
  },
  {
   "cell_type": "code",
   "execution_count": 27,
   "metadata": {},
   "outputs": [],
   "source": [
    "question_pd_1 = question_pd.drop(question_pd.columns[[2,3,4]],axis=1)"
   ]
  },
  {
   "cell_type": "code",
   "execution_count": 28,
   "metadata": {},
   "outputs": [
    {
     "data": {
      "text/plain": [
       "(1264216, 4)"
      ]
     },
     "execution_count": 28,
     "metadata": {},
     "output_type": "execute_result"
    }
   ],
   "source": [
    "question_pd_1.shape"
   ]
  },
  {
   "cell_type": "markdown",
   "metadata": {},
   "source": [
    "# preprocessing of Title and Body"
   ]
  },
  {
   "cell_type": "code",
   "execution_count": 29,
   "metadata": {},
   "outputs": [],
   "source": [
    "question_pd_1.Title = question_pd_1.Title.apply(lambda x: x.lower())\n",
    "question_pd_1.Body = question_pd_1.Body.apply(lambda x: x.lower()) #convert text into lowercase"
   ]
  },
  {
   "cell_type": "code",
   "execution_count": 30,
   "metadata": {},
   "outputs": [],
   "source": [
    "question_pd_1.Body = question_pd_1.Body.apply(lambda x: x.replace('\"','').replace(\"\\n\",\"\").replace(\"\\t\",\"\"))"
   ]
  },
  {
   "cell_type": "code",
   "execution_count": 31,
   "metadata": {},
   "outputs": [],
   "source": [
    "question_pd_1.Title = question_pd_1.Title.apply(lambda x: x.replace('\"','').replace(\"\\n\",\"\").replace(\"\\t\",\"\"))"
   ]
  },
  {
   "cell_type": "code",
   "execution_count": 32,
   "metadata": {},
   "outputs": [],
   "source": [
    "import re\n",
    "\n",
    "def cleanhtml(raw_html):\n",
    "  cleanr = re.compile('<.*?>')\n",
    "  cleantext = re.sub(cleanr, '', raw_html)\n",
    "  return cleantext"
   ]
  },
  {
   "cell_type": "code",
   "execution_count": 33,
   "metadata": {},
   "outputs": [],
   "source": [
    "question_pd_1['Text'] = question_pd_1['Body'].apply(cleanhtml) #removing html tags"
   ]
  },
  {
   "cell_type": "code",
   "execution_count": 34,
   "metadata": {},
   "outputs": [],
   "source": [
    "question_pd_1['Title'] = question_pd_1['Title'].apply(cleanhtml) #removing html tags"
   ]
  },
  {
   "cell_type": "code",
   "execution_count": 35,
   "metadata": {},
   "outputs": [],
   "source": [
    "question_pd_1['Text'] = question_pd_1['Text'].str.replace('[^\\w\\s]',' ') #removing punctuation marks"
   ]
  },
  {
   "cell_type": "code",
   "execution_count": 36,
   "metadata": {},
   "outputs": [],
   "source": [
    "question_pd_1['Title'] = question_pd_1['Title'].str.replace('[^\\w\\s]',' ') #removing punctuation marks"
   ]
  },
  {
   "cell_type": "code",
   "execution_count": 37,
   "metadata": {},
   "outputs": [],
   "source": [
    "def singlespace(text):\n",
    "    return ' '.join(text.split())\n"
   ]
  },
  {
   "cell_type": "code",
   "execution_count": 38,
   "metadata": {},
   "outputs": [],
   "source": [
    "question_pd_1['Text'] = question_pd_1['Text'].apply(singlespace)"
   ]
  },
  {
   "cell_type": "code",
   "execution_count": 39,
   "metadata": {},
   "outputs": [],
   "source": [
    "question_pd_1['Title'] = question_pd_1['Title'].apply(singlespace)"
   ]
  },
  {
   "cell_type": "code",
   "execution_count": 40,
   "metadata": {},
   "outputs": [
    {
     "data": {
      "text/plain": [
       "'i ve written a database generation script in sql and want to execute it in my adobe air application create table trole roleid integer primary key rolename varchar 40 create table tfile fileid integer primary key filename varchar 50 filedescription varchar 500 thumbnailid integer fileformatid integer categoryid integer isfavorite boolean dateadded date globalaccesscount integer lastaccesstime date downloadcomplete boolean isnew boolean isspotlight boolean duration varchar 30 create table tcategory categoryid integer primary key categoryname varchar 50 parent_categoryid integer i execute this in adobe air using the following methods public static function runsqlfromfile filename string void var file file file applicationdirectory resolvepath filename var stream filestream new filestream stream open file filemode read var strsql string stream readutfbytes stream bytesavailable nonquery strsql public static function nonquery strsql string void var sqlconnection sqlconnection new sqlconnection sqlconnection open file applicationstoragedirectory resolvepath dbpath var sqlstatement sqlstatement new sqlstatement sqlstatement text strsql sqlstatement sqlconnection sqlconnection try sqlstatement execute catch error sqlerror alert show error tostring no errors are generated however only trole exists it seems that it only looks at the first query up to the semicolon if i remove it the query fails is there a way to call multiple queries in one statement'"
      ]
     },
     "execution_count": 40,
     "metadata": {},
     "output_type": "execute_result"
    }
   ],
   "source": [
    "question_pd_1['Text'][0]"
   ]
  },
  {
   "cell_type": "code",
   "execution_count": 41,
   "metadata": {},
   "outputs": [
    {
     "data": {
      "text/plain": [
       "'sqlstatement execute multiple queries in one statement'"
      ]
     },
     "execution_count": 41,
     "metadata": {},
     "output_type": "execute_result"
    }
   ],
   "source": [
    "question_pd_1['Title'][0]"
   ]
  },
  {
   "cell_type": "code",
   "execution_count": 42,
   "metadata": {},
   "outputs": [
    {
     "data": {
      "text/plain": [
       "(1264216, 5)"
      ]
     },
     "execution_count": 42,
     "metadata": {},
     "output_type": "execute_result"
    }
   ],
   "source": [
    "question_pd_1.shape"
   ]
  },
  {
   "cell_type": "code",
   "execution_count": 43,
   "metadata": {},
   "outputs": [
    {
     "data": {
      "text/plain": [
       "(826739, 3)"
      ]
     },
     "execution_count": 43,
     "metadata": {},
     "output_type": "execute_result"
    }
   ],
   "source": [
    "tags_pd_final.shape"
   ]
  },
  {
   "cell_type": "code",
   "execution_count": 44,
   "metadata": {},
   "outputs": [
    {
     "data": {
      "text/html": [
       "<div>\n",
       "<style scoped>\n",
       "    .dataframe tbody tr th:only-of-type {\n",
       "        vertical-align: middle;\n",
       "    }\n",
       "\n",
       "    .dataframe tbody tr th {\n",
       "        vertical-align: top;\n",
       "    }\n",
       "\n",
       "    .dataframe thead th {\n",
       "        text-align: right;\n",
       "    }\n",
       "</style>\n",
       "<table border=\"1\" class=\"dataframe\">\n",
       "  <thead>\n",
       "    <tr style=\"text-align: right;\">\n",
       "      <th></th>\n",
       "      <th>Id</th>\n",
       "      <th>Tag</th>\n",
       "      <th>count</th>\n",
       "    </tr>\n",
       "  </thead>\n",
       "  <tbody>\n",
       "    <tr>\n",
       "      <th>14</th>\n",
       "      <td>260</td>\n",
       "      <td>c#</td>\n",
       "      <td>101186</td>\n",
       "    </tr>\n",
       "    <tr>\n",
       "      <th>18</th>\n",
       "      <td>330</td>\n",
       "      <td>c++</td>\n",
       "      <td>47591</td>\n",
       "    </tr>\n",
       "    <tr>\n",
       "      <th>28</th>\n",
       "      <td>650</td>\n",
       "      <td>c#</td>\n",
       "      <td>101186</td>\n",
       "    </tr>\n",
       "    <tr>\n",
       "      <th>35</th>\n",
       "      <td>930</td>\n",
       "      <td>c#</td>\n",
       "      <td>101186</td>\n",
       "    </tr>\n",
       "    <tr>\n",
       "      <th>39</th>\n",
       "      <td>1010</td>\n",
       "      <td>c#</td>\n",
       "      <td>101186</td>\n",
       "    </tr>\n",
       "  </tbody>\n",
       "</table>\n",
       "</div>"
      ],
      "text/plain": [
       "      Id  Tag   count\n",
       "14   260   c#  101186\n",
       "18   330  c++   47591\n",
       "28   650   c#  101186\n",
       "35   930   c#  101186\n",
       "39  1010   c#  101186"
      ]
     },
     "execution_count": 44,
     "metadata": {},
     "output_type": "execute_result"
    }
   ],
   "source": [
    "tags_pd_final[:5]"
   ]
  },
  {
   "cell_type": "code",
   "execution_count": 45,
   "metadata": {},
   "outputs": [
    {
     "data": {
      "text/plain": [
       "36444300    5\n",
       "12984310    5\n",
       "37649730    5\n",
       "36079950    5\n",
       "36907250    5\n",
       "16583980    5\n",
       "37335040    5\n",
       "36202910    5\n",
       "20150520    5\n",
       "3276520     5\n",
       "Name: Id, dtype: int64"
      ]
     },
     "execution_count": 45,
     "metadata": {},
     "output_type": "execute_result"
    }
   ],
   "source": [
    "tags_pd['Id'].value_counts()[:10]"
   ]
  },
  {
   "cell_type": "code",
   "execution_count": 46,
   "metadata": {},
   "outputs": [],
   "source": [
    "tags_pd_final_1 = tags_pd_final[tags_pd_final.duplicated(['Id'],keep = 'first')] #just taking one tag for each Id"
   ]
  },
  {
   "cell_type": "code",
   "execution_count": 47,
   "metadata": {},
   "outputs": [
    {
     "data": {
      "text/html": [
       "<div>\n",
       "<style scoped>\n",
       "    .dataframe tbody tr th:only-of-type {\n",
       "        vertical-align: middle;\n",
       "    }\n",
       "\n",
       "    .dataframe tbody tr th {\n",
       "        vertical-align: top;\n",
       "    }\n",
       "\n",
       "    .dataframe thead th {\n",
       "        text-align: right;\n",
       "    }\n",
       "</style>\n",
       "<table border=\"1\" class=\"dataframe\">\n",
       "  <thead>\n",
       "    <tr style=\"text-align: right;\">\n",
       "      <th></th>\n",
       "      <th>Id</th>\n",
       "      <th>Tag</th>\n",
       "      <th>count</th>\n",
       "    </tr>\n",
       "  </thead>\n",
       "  <tbody>\n",
       "    <tr>\n",
       "      <th>312</th>\n",
       "      <td>11060</td>\n",
       "      <td>python</td>\n",
       "      <td>64601</td>\n",
       "    </tr>\n",
       "    <tr>\n",
       "      <th>367</th>\n",
       "      <td>12870</td>\n",
       "      <td>php</td>\n",
       "      <td>98808</td>\n",
       "    </tr>\n",
       "    <tr>\n",
       "      <th>647</th>\n",
       "      <td>23370</td>\n",
       "      <td>c++</td>\n",
       "      <td>47591</td>\n",
       "    </tr>\n",
       "    <tr>\n",
       "      <th>982</th>\n",
       "      <td>33080</td>\n",
       "      <td>html</td>\n",
       "      <td>58976</td>\n",
       "    </tr>\n",
       "    <tr>\n",
       "      <th>1030</th>\n",
       "      <td>34120</td>\n",
       "      <td>html</td>\n",
       "      <td>58976</td>\n",
       "    </tr>\n",
       "  </tbody>\n",
       "</table>\n",
       "</div>"
      ],
      "text/plain": [
       "         Id     Tag  count\n",
       "312   11060  python  64601\n",
       "367   12870     php  98808\n",
       "647   23370     c++  47591\n",
       "982   33080    html  58976\n",
       "1030  34120    html  58976"
      ]
     },
     "execution_count": 47,
     "metadata": {},
     "output_type": "execute_result"
    }
   ],
   "source": [
    "tags_pd_final_1[:5]"
   ]
  },
  {
   "cell_type": "code",
   "execution_count": 48,
   "metadata": {},
   "outputs": [],
   "source": [
    "tags_pd_final_2 = tags_pd_final_1.drop(tags_pd_final_1.columns[[2]],axis=1) "
   ]
  },
  {
   "cell_type": "code",
   "execution_count": 49,
   "metadata": {},
   "outputs": [
    {
     "data": {
      "text/plain": [
       "(120403, 2)"
      ]
     },
     "execution_count": 49,
     "metadata": {},
     "output_type": "execute_result"
    }
   ],
   "source": [
    "tags_pd_final_2.shape"
   ]
  },
  {
   "cell_type": "code",
   "execution_count": 50,
   "metadata": {},
   "outputs": [
    {
     "data": {
      "text/plain": [
       "(1264216, 5)"
      ]
     },
     "execution_count": 50,
     "metadata": {},
     "output_type": "execute_result"
    }
   ],
   "source": [
    "question_pd_1.shape"
   ]
  },
  {
   "cell_type": "code",
   "execution_count": 51,
   "metadata": {},
   "outputs": [
    {
     "data": {
      "text/html": [
       "<div>\n",
       "<style scoped>\n",
       "    .dataframe tbody tr th:only-of-type {\n",
       "        vertical-align: middle;\n",
       "    }\n",
       "\n",
       "    .dataframe tbody tr th {\n",
       "        vertical-align: top;\n",
       "    }\n",
       "\n",
       "    .dataframe thead th {\n",
       "        text-align: right;\n",
       "    }\n",
       "</style>\n",
       "<table border=\"1\" class=\"dataframe\">\n",
       "  <thead>\n",
       "    <tr style=\"text-align: right;\">\n",
       "      <th></th>\n",
       "      <th>Id</th>\n",
       "      <th>OwnerUserId</th>\n",
       "      <th>Title</th>\n",
       "      <th>Body</th>\n",
       "      <th>Text</th>\n",
       "    </tr>\n",
       "  </thead>\n",
       "  <tbody>\n",
       "    <tr>\n",
       "      <th>0</th>\n",
       "      <td>80</td>\n",
       "      <td>26.0</td>\n",
       "      <td>sqlstatement execute multiple queries in one s...</td>\n",
       "      <td>&lt;p&gt;i've written a database generation script i...</td>\n",
       "      <td>i ve written a database generation script in s...</td>\n",
       "    </tr>\n",
       "    <tr>\n",
       "      <th>1</th>\n",
       "      <td>90</td>\n",
       "      <td>58.0</td>\n",
       "      <td>good branching and merging tutorials for torto...</td>\n",
       "      <td>&lt;p&gt;are there any really good tutorials explain...</td>\n",
       "      <td>are there any really good tutorials explaining...</td>\n",
       "    </tr>\n",
       "    <tr>\n",
       "      <th>2</th>\n",
       "      <td>120</td>\n",
       "      <td>83.0</td>\n",
       "      <td>asp net site maps</td>\n",
       "      <td>&lt;p&gt;has anyone got experience creating &lt;strong&gt;...</td>\n",
       "      <td>has anyone got experience creating sql based a...</td>\n",
       "    </tr>\n",
       "    <tr>\n",
       "      <th>3</th>\n",
       "      <td>180</td>\n",
       "      <td>2089740.0</td>\n",
       "      <td>function for creating color wheels</td>\n",
       "      <td>&lt;p&gt;this is something i've pseudo-solved many t...</td>\n",
       "      <td>this is something i ve pseudo solved many time...</td>\n",
       "    </tr>\n",
       "    <tr>\n",
       "      <th>4</th>\n",
       "      <td>260</td>\n",
       "      <td>91.0</td>\n",
       "      <td>adding scripting functionality to net applicat...</td>\n",
       "      <td>&lt;p&gt;i have a little game written in c#. it uses...</td>\n",
       "      <td>i have a little game written in c it uses a da...</td>\n",
       "    </tr>\n",
       "  </tbody>\n",
       "</table>\n",
       "</div>"
      ],
      "text/plain": [
       "    Id  OwnerUserId                                              Title  \\\n",
       "0   80         26.0  sqlstatement execute multiple queries in one s...   \n",
       "1   90         58.0  good branching and merging tutorials for torto...   \n",
       "2  120         83.0                                  asp net site maps   \n",
       "3  180    2089740.0                 function for creating color wheels   \n",
       "4  260         91.0  adding scripting functionality to net applicat...   \n",
       "\n",
       "                                                Body  \\\n",
       "0  <p>i've written a database generation script i...   \n",
       "1  <p>are there any really good tutorials explain...   \n",
       "2  <p>has anyone got experience creating <strong>...   \n",
       "3  <p>this is something i've pseudo-solved many t...   \n",
       "4  <p>i have a little game written in c#. it uses...   \n",
       "\n",
       "                                                Text  \n",
       "0  i ve written a database generation script in s...  \n",
       "1  are there any really good tutorials explaining...  \n",
       "2  has anyone got experience creating sql based a...  \n",
       "3  this is something i ve pseudo solved many time...  \n",
       "4  i have a little game written in c it uses a da...  "
      ]
     },
     "execution_count": 51,
     "metadata": {},
     "output_type": "execute_result"
    }
   ],
   "source": [
    "question_pd_1[:5]"
   ]
  },
  {
   "cell_type": "code",
   "execution_count": 52,
   "metadata": {},
   "outputs": [],
   "source": [
    "question_pd_2 = question_pd_1.drop(question_pd_1.columns[[1,3]],axis=1)"
   ]
  },
  {
   "cell_type": "code",
   "execution_count": 53,
   "metadata": {},
   "outputs": [
    {
     "data": {
      "text/plain": [
       "(1264216, 3)"
      ]
     },
     "execution_count": 53,
     "metadata": {},
     "output_type": "execute_result"
    }
   ],
   "source": [
    "question_pd_2.shape"
   ]
  },
  {
   "cell_type": "markdown",
   "metadata": {},
   "source": [
    "# Combining dataframes"
   ]
  },
  {
   "cell_type": "code",
   "execution_count": 54,
   "metadata": {},
   "outputs": [],
   "source": [
    "merged_df = pd.merge(question_pd_2, tags_pd_final_2, on='Id')"
   ]
  },
  {
   "cell_type": "code",
   "execution_count": 55,
   "metadata": {},
   "outputs": [
    {
     "data": {
      "text/plain": [
       "(120403, 4)"
      ]
     },
     "execution_count": 55,
     "metadata": {},
     "output_type": "execute_result"
    }
   ],
   "source": [
    "merged_df.shape"
   ]
  },
  {
   "cell_type": "code",
   "execution_count": 56,
   "metadata": {},
   "outputs": [
    {
     "data": {
      "text/html": [
       "<div>\n",
       "<style scoped>\n",
       "    .dataframe tbody tr th:only-of-type {\n",
       "        vertical-align: middle;\n",
       "    }\n",
       "\n",
       "    .dataframe tbody tr th {\n",
       "        vertical-align: top;\n",
       "    }\n",
       "\n",
       "    .dataframe thead th {\n",
       "        text-align: right;\n",
       "    }\n",
       "</style>\n",
       "<table border=\"1\" class=\"dataframe\">\n",
       "  <thead>\n",
       "    <tr style=\"text-align: right;\">\n",
       "      <th></th>\n",
       "      <th>Id</th>\n",
       "      <th>Title</th>\n",
       "      <th>Text</th>\n",
       "      <th>Tag</th>\n",
       "    </tr>\n",
       "  </thead>\n",
       "  <tbody>\n",
       "    <tr>\n",
       "      <th>0</th>\n",
       "      <td>11060</td>\n",
       "      <td>how should i unit test a code generator</td>\n",
       "      <td>this is a difficult and open ended question i ...</td>\n",
       "      <td>python</td>\n",
       "    </tr>\n",
       "    <tr>\n",
       "      <th>1</th>\n",
       "      <td>12870</td>\n",
       "      <td>arrays of arrays in java</td>\n",
       "      <td>this is a nasty one for me i m a php guy worki...</td>\n",
       "      <td>php</td>\n",
       "    </tr>\n",
       "    <tr>\n",
       "      <th>2</th>\n",
       "      <td>23370</td>\n",
       "      <td>notification of drop in drag drop in windows</td>\n",
       "      <td>my c program has a list of files that can be d...</td>\n",
       "      <td>c++</td>\n",
       "    </tr>\n",
       "    <tr>\n",
       "      <th>3</th>\n",
       "      <td>33080</td>\n",
       "      <td>setting the height of a div dynamically</td>\n",
       "      <td>in a web application i have a page that contai...</td>\n",
       "      <td>html</td>\n",
       "    </tr>\n",
       "    <tr>\n",
       "      <th>4</th>\n",
       "      <td>34120</td>\n",
       "      <td>html scraping in php</td>\n",
       "      <td>i ve been doing some html scraping in php usin...</td>\n",
       "      <td>html</td>\n",
       "    </tr>\n",
       "  </tbody>\n",
       "</table>\n",
       "</div>"
      ],
      "text/plain": [
       "      Id                                         Title  \\\n",
       "0  11060       how should i unit test a code generator   \n",
       "1  12870                      arrays of arrays in java   \n",
       "2  23370  notification of drop in drag drop in windows   \n",
       "3  33080       setting the height of a div dynamically   \n",
       "4  34120                          html scraping in php   \n",
       "\n",
       "                                                Text     Tag  \n",
       "0  this is a difficult and open ended question i ...  python  \n",
       "1  this is a nasty one for me i m a php guy worki...     php  \n",
       "2  my c program has a list of files that can be d...     c++  \n",
       "3  in a web application i have a page that contai...    html  \n",
       "4  i ve been doing some html scraping in php usin...    html  "
      ]
     },
     "execution_count": 56,
     "metadata": {},
     "output_type": "execute_result"
    }
   ],
   "source": [
    "merged_df[:5]"
   ]
  },
  {
   "cell_type": "markdown",
   "metadata": {},
   "source": [
    "# stemming and removing stop words using nltk"
   ]
  },
  {
   "cell_type": "code",
   "execution_count": 57,
   "metadata": {},
   "outputs": [],
   "source": [
    "from nltk.corpus import stopwords\n",
    "from nltk.stem.porter import PorterStemmer"
   ]
  },
  {
   "cell_type": "code",
   "execution_count": 58,
   "metadata": {},
   "outputs": [],
   "source": [
    "stop_words = stopwords.words('english')\n",
    "porter = PorterStemmer()"
   ]
  },
  {
   "cell_type": "code",
   "execution_count": 59,
   "metadata": {},
   "outputs": [],
   "source": [
    "merged_df['Text'] = merged_df['Text'].str.replace('\\d+', '')   #removing digits\n",
    "merged_df['Title'] = merged_df['Title'].str.replace('\\d+', '') #removing digits"
   ]
  },
  {
   "cell_type": "code",
   "execution_count": 60,
   "metadata": {},
   "outputs": [],
   "source": [
    "#remove stop words  2 mins\n",
    "merged_df['Text']=merged_df['Text'].apply(lambda x: ' '.join([word for word in x.split() if word not in (stop_words)]))"
   ]
  },
  {
   "cell_type": "code",
   "execution_count": 61,
   "metadata": {},
   "outputs": [],
   "source": [
    "#remove stop words \n",
    "merged_df['Title']=merged_df['Title'].apply(lambda x: ' '.join([word for word in x.split() if word not in (stop_words)]))"
   ]
  },
  {
   "cell_type": "code",
   "execution_count": 62,
   "metadata": {},
   "outputs": [],
   "source": [
    "#stemming of words\n",
    "merged_df['Title']=merged_df['Title'].apply(lambda x: ' '.join([porter.stem(word) for word in x.split()]))"
   ]
  },
  {
   "cell_type": "code",
   "execution_count": 63,
   "metadata": {},
   "outputs": [],
   "source": [
    "#stemming of words 6 mins\n",
    "merged_df['Text']=merged_df['Text'].apply(lambda x: ' '.join([porter.stem(word) for word in x.split()]))"
   ]
  },
  {
   "cell_type": "markdown",
   "metadata": {},
   "source": [
    "# Making corpus ready for TF-IDF vectorizer"
   ]
  },
  {
   "cell_type": "code",
   "execution_count": 64,
   "metadata": {},
   "outputs": [],
   "source": [
    "titleList = merged_df['Title'].tolist()"
   ]
  },
  {
   "cell_type": "code",
   "execution_count": 65,
   "metadata": {},
   "outputs": [
    {
     "data": {
      "text/plain": [
       "120403"
      ]
     },
     "execution_count": 65,
     "metadata": {},
     "output_type": "execute_result"
    }
   ],
   "source": [
    "len(titleList)"
   ]
  },
  {
   "cell_type": "code",
   "execution_count": 66,
   "metadata": {},
   "outputs": [],
   "source": [
    "textList = merged_df['Text'].tolist()"
   ]
  },
  {
   "cell_type": "code",
   "execution_count": 67,
   "metadata": {},
   "outputs": [
    {
     "data": {
      "text/plain": [
       "120403"
      ]
     },
     "execution_count": 67,
     "metadata": {},
     "output_type": "execute_result"
    }
   ],
   "source": [
    "len(textList)"
   ]
  },
  {
   "cell_type": "markdown",
   "metadata": {},
   "source": [
    "# TF-IDF vectorizer"
   ]
  },
  {
   "cell_type": "code",
   "execution_count": 68,
   "metadata": {},
   "outputs": [
    {
     "name": "stdout",
     "output_type": "stream",
     "text": [
      "<class 'scipy.sparse.csr.csr_matrix'>\n",
      "[[0.         0.         0.         ... 0.         0.         0.        ]\n",
      " [0.         0.         0.         ... 0.         0.         0.        ]\n",
      " [0.         0.         0.         ... 0.         0.         0.        ]\n",
      " ...\n",
      " [0.         0.         0.         ... 0.         0.         0.        ]\n",
      " [0.         0.         0.         ... 0.         0.         0.        ]\n",
      " [0.         0.13197794 0.         ... 0.         0.         0.        ]]\n",
      "['_file', '_get', '_post', '_session', 'abl', 'absolut', 'accept', 'access', 'accordion', 'account', 'achiev', 'action', 'activ', 'activitythread', 'actual', 'ad', 'adapt', 'add', 'addclass', 'addeventlisten', 'addit', 'address', 'admin', 'advanc', 'age', 'ajax', 'alert', 'align', 'allow', 'alreadi', 'alt', 'alway', 'amet', 'amp', 'anchor', 'android', 'androidruntim', 'angular', 'anim', 'anoth', 'answer', 'anyon', 'anyth', 'apach', 'api', 'apk', 'app', 'appear', 'append', 'appendchild', 'appendto', 'appli', 'applic', 'appreci', 'approach', 'area', 'arg', 'argument', 'aria', 'arr', 'array', 'arrayadapt', 'arraylist', 'arrow', 'articl', 'ask', 'asp', 'aspx', 'asset', 'assign', 'assum', 'asynctask', 'attach', 'attempt', 'attr', 'attribut', 'audio', 'author', 'auto', 'autocomplet', 'automat', 'avail', 'background', 'bar', 'base', 'basic', 'begin', 'best', 'better', 'bg', 'big', 'bind', 'bit', 'bitmap', 'black', 'blah', 'blank', 'block', 'blog', 'blue', 'bodi', 'bold', 'book', 'boolean', 'bootstrap', 'border', 'box', 'br', 'break', 'browser', 'btn', 'buffer', 'bufferedread', 'build', 'builder', 'bundl', 'button', 'byte', 'cach', 'calcul', 'calendar', 'callback', 'camera', 'cancel', 'canva', 'caption', 'card', 'carousel', 'cart', 'case', 'cat', 'catch', 'categori', 'caus', 'cell', 'center', 'certain', 'chang', 'char', 'charact', 'charset', 'chart', 'chat', 'check', 'checkbox', 'child', 'children', 'choic', 'choos', 'chrome', 'circl', 'citi', 'class', 'classnam', 'clear', 'click', 'client', 'clone', 'close', 'closest', 'code', 'col', 'collaps', 'collect', 'color', 'colspan', 'column', 'com', 'come', 'command', 'comment', 'common', 'compani', 'compil', 'complet', 'compon', 'condit', 'config', 'configur', 'confirm', 'conn', 'connect', 'consol', 'contact', 'contain', 'content', 'context', 'continu', 'control', 'convert', 'convertview', 'cooki', 'copi', 'core', 'correct', 'correctli', 'count', 'counter', 'countri', 'cours', 'creat', 'createel', 'css', 'ctx', 'current', 'cursor', 'custom', 'dalvikvm', 'data', 'databas', 'datat', 'datatyp', 'date', 'datepick', 'day', 'db', 'dd', 'debug', 'declar', 'decor', 'def', 'default', 'defin', 'deg', 'delay', 'delet', 'demo', 'depend', 'desc', 'descript', 'design', 'desktop', 'detect', 'develop', 'devic', 'dialog', 'die', 'differ', 'dir', 'direct', 'directli', 'directori', 'disabl', 'dismiss', 'display', 'div', 'dll', 'doc', 'doctyp', 'document', 'dolor', 'dom', 'domain', 'dont', 'doubl', 'download', 'dp', 'drag', 'draggabl', 'draw', 'drawabl', 'drop', 'dropdown', 'dtd', 'duplic', 'durat', 'dynam', 'eas', 'easi', 'echo', 'eclips', 'edit', 'editor', 'edittext', 'effect', 'el', 'elem', 'element', 'els', 'em', 'email', 'empti', 'en', 'enabl', 'encod', 'end', 'enter', 'entir', 'entiti', 'entri', 'eq', 'equal', 'equiv', 'err', 'error', 'et', 'event', 'everi', 'everyth', 'ex', 'exactli', 'exampl', 'execut', 'exist', 'exit', 'expand', 'expect', 'explain', 'extend', 'extens', 'extern', 'extra', 'fa', 'face', 'facebook', 'fade', 'fadein', 'fadeout', 'fail', 'fals', 'famili', 'fancybox', 'far', 'fast', 'featur', 'fetch', 'ff', 'fff', 'ffffff', 'fiddl', 'field', 'fieldset', 'figur', 'file', 'filenam', 'fill_par', 'filter', 'final', 'findviewbyid', 'fine', 'finish', 'firefox', 'firstnam', 'fix', 'flag', 'float', 'fn', 'focu', 'folder', 'follow', 'font', 'foo', 'footer', 'foreach', 'form', 'format', 'fragment', 'frame', 'framework', 'function', 'galleri', 'game', 'gener', 'getact', 'getapplicationcontext', 'getelementbyid', 'getstr', 'gettext', 'gif', 'github', 'given', 'global', 'glyphicon', 'goe', 'good', 'googl', 'googleapi', 'got', 'graph', 'graphic', 'great', 'greatli', 'green', 'grid', 'group', 'gt', 'guess', 'handl', 'handler', 'happen', 'hash', 'hashmap', 'head', 'header', 'height', 'hello', 'help', 'hi', 'hidden', 'hide', 'highlight', 'hit', 'holder', 'home', 'hope', 'horizont', 'host', 'hour', 'hover', 'howev', 'hr', 'href', 'html', 'http', 'httpclient', 'httppost', 'icon', 'id', 'idea', 'ifram', 'im', 'imag', 'imageview', 'img', 'implement', 'import', 'includ', 'index', 'indexof', 'inflat', 'info', 'inform', 'init', 'initi', 'inlin', 'inner', 'innerhtml', 'input', 'inputstream', 'insert', 'insid', 'instal', 'instanc', 'instead', 'int', 'integ', 'intent', 'interfac', 'intern', 'internet', 'invalid', 'invok', 'io', 'ioexcept', 'ip', 'ipsum', 'isset', 'issu', 'item', 'iter', 'jar', 'java', 'javascript', 'job', 'jpg', 'jqueri', 'js', 'jsfiddl', 'json', 'json_encod', 'jsonobject', 'jsp', 'key', 'kind', 'know', 'label', 'lang', 'languag', 'larg', 'lastnam', 'lat', 'later', 'latitud', 'latlng', 'layout', 'layout_height', 'layout_width', 'layoutinflat', 'learn', 'left', 'length', 'length_short', 'let', 'letter', 'level', 'lg', 'li', 'lib', 'librari', 'like', 'limit', 'line', 'linear', 'linearlayout', 'link', 'list', 'listen', 'listitem', 'listview', 'littl', 'live', 'load', 'local', 'localhost', 'locat', 'log', 'login', 'logo', 'long', 'longitud', 'look', 'loop', 'looper', 'lorem', 'lot', 'lt', 'mail', 'main', 'mainact', 'make', 'maketext', 'manag', 'mani', 'manifest', 'manual', 'map', 'margin', 'marker', 'match', 'match_par', 'math', 'max', 'maxlength', 'mayb', 'md', 'mean', 'media', 'member', 'menu', 'menuitem', 'messag', 'meta', 'method', 'microsoft', 'middl', 'min', 'minut', 'miss', 'mm', 'mobil', 'modal', 'mode', 'model', 'modifi', 'modul', 'moment', 'month', 'mous', 'moz', 'mp', 'ms', 'msg', 'multipl', 'mysql', 'mysql_queri', 'namevaluepair', 'nativ', 'nav', 'navbar', 'navig', 'nbsp', 'need', 'net', 'new', 'news', 'ng', 'node', 'non', 'normal', 'note', 'noth', 'notic', 'notif', 'null', 'num', 'number', 'obj', 'object', 'occur', 'offset', 'ok', 'old', 'onchang', 'onclick', 'onclicklisten', 'oncreat', 'onlin', 'onload', 'opac', 'open', 'oper', 'opt', 'option', 'order', 'org', 'orient', 'origin', 'os', 'output', 'outsid', 'overflow', 'overlay', 'overrid', 'overridepubl', 'packag', 'pad', 'page', 'panel', 'param', 'paramet', 'parent', 'pars', 'parseint', 'particular', 'pass', 'password', 'past', 'path', 'paus', 'pdf', 'peopl', 'perfectli', 'perform', 'permiss', 'person', 'phone', 'photo', 'php', 'pic', 'pictur', 'pid', 'place', 'placehold', 'platform', 'play', 'player', 'pleas', 'plugin', 'png', 'po', 'point', 'pointer', 'pop', 'popul', 'popup', 'port', 'posit', 'possibl', 'post', 'pre', 'prefer', 'present', 'press', 'pretti', 'prev', 'prevent', 'preventdefault', 'preview', 'previou', 'price', 'primari', 'print', 'println', 'printstacktrac', 'privat', 'problem', 'process', 'product', 'profil', 'program', 'progress', 'project', 'prop', 'properli', 'properti', 'protect', 'provid', 'public', 'pull', 'push', 'px', 'python', 'quantiti', 'queri', 'question', 'quit', 'quot', 'radio', 'radiu', 'random', 'rang', 'rate', 'read', 'reader', 'readi', 'realli', 'reason', 'receiv', 'record', 'red', 'redirect', 'refer', 'reflect', 'refresh', 'regist', 'rel', 'relat', 'relativelayout', 'reload', 'remain', 'remov', 'removeclass', 'render', 'repeat', 'replac', 'report', 'req', 'request', 'requir', 'reset', 'resiz', 'resolv', 'resourc', 'respons', 'responsetext', 'rest', 'result', 'retriev', 'return', 'rgba', 'right', 'role', 'root', 'rotat', 'round', 'rout', 'row', 'rule', 'run', 'runat', 'safari', 'sampl', 'san', 'save', 'savedinstancest', 'say', 'sb', 'scale', 'schema', 'scope', 'score', 'screen', 'script', 'scroll', 'scrolltop', 'sdk', 'search', 'second', 'section', 'secur', 'seen', 'select', 'selector', 'self', 'send', 'sent', 'separ', 'seri', 'serial', 'serif', 'server', 'servic', 'session', 'set', 'setattribut', 'setcontentview', 'setinterv', 'setonclicklisten', 'settext', 'settimeout', 'setup', 'sever', 'shadow', 'share', 'shown', 'sidebar', 'sign', 'similar', 'simpl', 'simpli', 'sinc', 'singl', 'sit', 'site', 'size', 'slide', 'slider', 'slow', 'sm', 'small', 'snippet', 'socket', 'solid', 'solut', 'solv', 'someon', 'someth', 'sorri', 'sort', 'sourc', 'space', 'span', 'specif', 'specifi', 'speed', 'spinner', 'split', 'sql', 'sqlitedatabas', 'src', 'st', 'stack', 'start', 'startact', 'state', 'statement', 'static', 'statu', 'stay', 'step', 'stmt', 'stop', 'store', 'str', 'stream', 'string', 'strong', 'structur', 'stub', 'stuff', 'style', 'stylesheet', 'sub', 'subject', 'submit', 'substr', 'success', 'suggest', 'super', 'support', 'suppos', 'sure', 'svg', 'switch', 'tab', 'tabl', 'tag', 'target', 'task', 'tbodi', 'td', 'tell', 'temp', 'templat', 'term', 'test', 'text', 'textarea', 'textbox', 'textview', 'th', 'thank', 'thead', 'theme', 'thing', 'think', 'thought', 'thread', 'throw', 'thumb', 'thumbnail', 'time', 'timer', 'titl', 'toast', 'todo', 'toggl', 'token', 'tool', 'toolbar', 'tooltip', 'tostr', 'total', 'touch', 'tr', 'track', 'transform', 'transit', 'translat', 'transpar', 'tri', 'trigger', 'trim', 'troubl', 'true', 'turn', 'tutori', 'twitter', 'txt', 'type', 'ui', 'ul', 'unabl', 'uncaught', 'undefin', 'understand', 'unit', 'updat', 'upload', 'uri', 'url', 'use', 'user', 'userid', 'usernam', 'utf', 'util', 'val', 'valid', 'valu', 'var', 'variabl', 'version', 'vertic', 'video', 'view', 'viewgroup', 'viewport', 'visibl', 'void', 'wait', 'want', 'warn', 'way', 'web', 'webkit', 'webpag', 'websit', 'webview', 'weight', 'welcom', 'whenev', 'white', 'widget', 'width', 'window', 'wonder', 'word', 'wordpress', 'work', 'world', 'wrap', 'wrap_cont', 'wrapper', 'write', 'written', 'wrong', 'www', 'xhr', 'xhtml', 'xml', 'xmlhttp', 'xmlhttprequest', 'xmln', 'xs', 'ye', 'year', 'youtub', 'zoom', 'zygoteinit']\n"
     ]
    }
   ],
   "source": [
    "import sklearn.feature_extraction.text as sk_text\n",
    "\n",
    "vectorizer = sk_text.TfidfVectorizer(\n",
    "                             stop_words='english',\n",
    "                             max_features = 1000, # max 1000 features\n",
    "                             min_df=1)\n",
    "matrix = vectorizer.fit_transform(textList)\n",
    "\n",
    "print(type(matrix))          # Compressed Sparse Row matrix\n",
    "print(matrix.toarray())        #  convert it to numpy array\n",
    "\n",
    "print(vectorizer.get_feature_names())"
   ]
  },
  {
   "cell_type": "code",
   "execution_count": 69,
   "metadata": {},
   "outputs": [],
   "source": [
    "array_1 = matrix.toarray()"
   ]
  },
  {
   "cell_type": "code",
   "execution_count": 70,
   "metadata": {},
   "outputs": [
    {
     "name": "stdout",
     "output_type": "stream",
     "text": [
      "<class 'scipy.sparse.csr.csr_matrix'>\n",
      "[[0. 0. 0. ... 0. 0. 0.]\n",
      " [0. 0. 0. ... 0. 0. 0.]\n",
      " [0. 0. 0. ... 0. 0. 0.]\n",
      " ...\n",
      " [0. 0. 0. ... 0. 0. 0.]\n",
      " [0. 0. 0. ... 0. 0. 0.]\n",
      " [0. 0. 0. ... 0. 0. 0.]]\n",
      "['_post', 'abl', 'absolut', 'accept', 'access', 'accord', 'accordion', 'act', 'action', 'activ', 'actual', 'ad', 'adapt', 'add', 'addclass', 'addit', 'address', 'adjust', 'affect', 'ajax', 'alert', 'align', 'allow', 'alreadi', 'alter', 'altern', 'alway', 'analyt', 'anchor', 'android', 'angular', 'angularj', 'anim', 'anoth', 'answer', 'anyth', 'apach', 'api', 'apk', 'app', 'appear', 'append', 'applet', 'appli', 'applic', 'area', 'argument', 'array', 'arraylist', 'arrow', 'asp', 'asset', 'assign', 'associ', 'async', 'asynchron', 'asynctask', 'attach', 'attempt', 'attr', 'attribut', 'audio', 'authent', 'auto', 'autocomplet', 'automat', 'avail', 'avoid', 'axi', 'backbon', 'backend', 'background', 'bad', 'bar', 'base', 'basic', 'becom', 'behav', 'behavior', 'behaviour', 'best', 'better', 'big', 'binari', 'bind', 'bitmap', 'blank', 'block', 'bluetooth', 'blur', 'bodi', 'boolean', 'bootstrap', 'border', 'box', 'break', 'browser', 'bug', 'build', 'button', 'byte', 'cach', 'cakephp', 'calcul', 'calendar', 'callback', 'camera', 'cancel', 'canva', 'captur', 'card', 'carousel', 'cart', 'case', 'catch', 'categori', 'caus', 'cell', 'center', 'certain', 'chain', 'chang', 'char', 'charact', 'chart', 'chat', 'check', 'checkbox', 'child', 'children', 'choos', 'chosen', 'chrome', 'circl', 'ckeditor', 'class', 'clear', 'click', 'clickabl', 'client', 'clone', 'close', 'closest', 'cloud', 'code', 'codeignit', 'collaps', 'collect', 'color', 'colorbox', 'colour', 'column', 'com', 'combin', 'combobox', 'come', 'comma', 'command', 'comment', 'common', 'commun', 'compar', 'compat', 'compil', 'complet', 'complex', 'compon', 'comput', 'concaten', 'condit', 'configur', 'confirm', 'conflict', 'confus', 'connect', 'consol', 'constructor', 'contact', 'contain', 'content', 'contentedit', 'context', 'continu', 'control', 'convers', 'convert', 'cooki', 'coordin', 'copi', 'cordova', 'correct', 'correctli', 'count', 'countdown', 'counter', 'crash', 'creat', 'creation', 'crop', 'cross', 'css', 'csv', 'curl', 'current', 'cursor', 'custom', 'cycl', 'data', 'databas', 'datat', 'date', 'datepick', 'datetim', 'day', 'db', 'debug', 'decim', 'declar', 'decod', 'decrypt', 'default', 'defin', 'delay', 'deleg', 'delet', 'depend', 'design', 'desktop', 'destroy', 'detect', 'determin', 'develop', 'devic', 'dialog', 'differ', 'direct', 'directli', 'directori', 'disabl', 'disappear', 'display', 'distanc', 'div', 'django', 'dll', 'document', 'doesnt', 'dom', 'domain', 'dont', 'doubl', 'download', 'drag', 'draggabl', 'draw', 'drawer', 'drop', 'dropdown', 'dropdownlist', 'duplic', 'dynam', 'echo', 'eclips', 'edit', 'editor', 'edittext', 'effect', 'effici', 'element', 'els', 'email', 'emb', 'embed', 'empti', 'emul', 'enabl', 'encod', 'encrypt', 'end', 'engin', 'enter', 'entir', 'entiti', 'entri', 'equal', 'equival', 'error', 'escap', 'event', 'everi', 'exact', 'exampl', 'excel', 'exclud', 'execut', 'exist', 'exit', 'expand', 'expect', 'explor', 'export', 'express', 'extend', 'extens', 'extern', 'extra', 'extract', 'facebook', 'fade', 'fadein', 'fadeout', 'fail', 'fals', 'fancybox', 'fast', 'fatal', 'featur', 'feed', 'fetch', 'ff', 'field', 'file', 'filter', 'fine', 'finish', 'firebas', 'firefox', 'fit', 'fix', 'flash', 'flask', 'flicker', 'float', 'flot', 'flow', 'focu', 'focus', 'folder', 'follow', 'font', 'footer', 'forc', 'foreach', 'form', 'format', 'fragment', 'frame', 'framework', 'freez', 'fullcalendar', 'fulli', 'function', 'galleri', 'game', 'gcm', 'gener', 'getelementbyid', 'getjson', 'gif', 'given', 'global', 'goe', 'good', 'googl', 'got', 'grab', 'gradl', 'graph', 'grid', 'gridview', 'group', 'gwt', 'handl', 'handler', 'happen', 'hash', 'head', 'header', 'height', 'help', 'hidden', 'hide', 'highchart', 'highlight', 'histori', 'hit', 'home', 'horizont', 'host', 'hour', 'hover', 'href', 'html', 'http', 'hyperlink', 'icon', 'id', 'idea', 'identifi', 'ifram', 'ignor', 'imag', 'imageview', 'img', 'implement', 'import', 'includ', 'incorrect', 'increas', 'increment', 'index', 'individu', 'infinit', 'inflat', 'info', 'inform', 'initi', 'inject', 'inlin', 'inner', 'innerhtml', 'input', 'insert', 'insid', 'instal', 'instanc', 'instanti', 'instead', 'int', 'integ', 'integr', 'intent', 'interact', 'interfac', 'intern', 'internet', 'interv', 'invalid', 'invok', 'io', 'ionic', 'ip', 'ipad', 'iphon', 'issu', 'item', 'iter', 'jar', 'java', 'javascript', 'jni', 'jqgrid', 'jqueri', 'jqueryui', 'js', 'jsfiddl', 'json', 'json_encod', 'jsonobject', 'jsonp', 'jsoup', 'jsp', 'jump', 'kendo', 'key', 'keyboard', 'keypress', 'keyup', 'keyword', 'knockout', 'know', 'label', 'lang', 'languag', 'laravel', 'larg', 'launch', 'layer', 'layout', 'leak', 'leav', 'left', 'length', 'let', 'letter', 'level', 'li', 'libgdx', 'librari', 'lightbox', 'like', 'limit', 'line', 'link', 'list', 'listen', 'listview', 'liter', 'live', 'load', 'loader', 'local', 'localhost', 'localstorag', 'locat', 'lock', 'log', 'logic', 'login', 'long', 'look', 'loop', 'lose', 'lost', 'mac', 'magento', 'mail', 'main', 'maintain', 'make', 'manag', 'mani', 'manipul', 'manual', 'map', 'margin', 'marker', 'mask', 'masonri', 'match', 'math', 'max', 'maximum', 'mean', 'media', 'member', 'memori', 'menu', 'merg', 'messag', 'meta', 'meteor', 'method', 'middl', 'min', 'miss', 'mix', 'mobil', 'modal', 'mode', 'model', 'modifi', 'modul', 'month', 'mous', 'mouseov', 'mp', 'multi', 'multidimension', 'multipl', 'mvc', 'mysql', 'nativ', 'nav', 'navbar', 'navig', 'ndk', 'need', 'nest', 'net', 'network', 'new', 'ng', 'node', 'non', 'normal', 'noth', 'notif', 'null', 'nullpointerexcept', 'number', 'numer', 'object', 'occur', 'offset', 'old', 'onchang', 'onclick', 'onlin', 'onload', 'open', 'opencv', 'opengl', 'oper', 'optim', 'option', 'order', 'org', 'orient', 'origin', 'os', 'output', 'outsid', 'overflow', 'overlap', 'overlay', 'overrid', 'packag', 'pad', 'page', 'pagin', 'panel', 'paragraph', 'parallax', 'param', 'paramet', 'parent', 'pars', 'parser', 'partial', 'particular', 'pass', 'password', 'past', 'path', 'pattern', 'paus', 'pc', 'pdf', 'percentag', 'perform', 'permiss', 'persist', 'phone', 'phonegap', 'photo', 'php', 'pick', 'picker', 'pictur', 'pixel', 'place', 'placehold', 'plain', 'platform', 'play', 'player', 'pleas', 'plugin', 'png', 'point', 'pointer', 'pop', 'popov', 'popul', 'popup', 'port', 'posit', 'possibl', 'post', 'postback', 'practic', 'pre', 'prefer', 'preload', 'present', 'preserv', 'press', 'prevent', 'preventdefault', 'preview', 'previou', 'price', 'print', 'problem', 'process', 'produc', 'product', 'profil', 'program', 'programat', 'programmat', 'progress', 'project', 'prompt', 'proper', 'properli', 'properti', 'prototyp', 'provid', 'public', 'pull', 'pure', 'push', 'px', 'python', 'qt', 'queri', 'question', 'quot', 'radio', 'rail', 'random', 'randomli', 'rang', 'rate', 'raw', 'razor', 'reach', 'react', 'read', 'readi', 'real', 'reason', 'receiv', 'recogn', 'record', 'recurs', 'recyclerview', 'redirect', 'reduc', 'refer', 'referenc', 'referenceerror', 'refresh', 'regex', 'regist', 'registr', 'regular', 'rel', 'relat', 'reload', 'remain', 'remot', 'remov', 'render', 'repeat', 'replac', 'report', 'request', 'requir', 'reset', 'resiz', 'resolut', 'resolv', 'resourc', 'respond', 'respons', 'rest', 'restrict', 'result', 'retain', 'retriev', 'retrofit', 'return', 'revers', 'right', 'rotat', 'rout', 'row', 'rubi', 'rule', 'run', 'runtim', 'safari', 'safe', 'save', 'scale', 'scope', 'scrape', 'screen', 'script', 'scroll', 'scrollabl', 'scrollbar', 'scrolltop', 'sdk', 'search', 'second', 'section', 'secur', 'select', 'selector', 'selenium', 'send', 'sent', 'separ', 'seri', 'serial', 'server', 'servic', 'servlet', 'session', 'set', 'setinterv', 'settimeout', 'sever', 'shape', 'share', 'sharedprefer', 'shown', 'sibl', 'sidebar', 'sign', 'similar', 'simpl', 'simul', 'singl', 'site', 'size', 'skip', 'slide', 'slider', 'slideshow', 'slidetoggl', 'slow', 'sm', 'small', 'smooth', 'socket', 'solut', 'solv', 'someth', 'sometim', 'sort', 'sortabl', 'sound', 'sourc', 'space', 'span', 'special', 'specif', 'specifi', 'speed', 'spinner', 'split', 'spring', 'sql', 'sqlite', 'src', 'stack', 'start', 'state', 'statement', 'static', 'statu', 'stay', 'step', 'sticki', 'stop', 'storag', 'store', 'strang', 'stream', 'string', 'strip', 'structur', 'strut', 'studio', 'style', 'stylesheet', 'sub', 'submenu', 'submiss', 'submit', 'success', 'suggest', 'sum', 'support', 'sure', 'svg', 'swap', 'swipe', 'switch', 'symbol', 'sync', 'synchron', 'syntax', 'syntaxerror', 'tab', 'tabl', 'tablet', 'tag', 'target', 'task', 'td', 'tell', 'templat', 'test', 'text', 'textarea', 'textbox', 'textfield', 'textview', 'theme', 'thing', 'thread', 'throw', 'thumbnail', 'time', 'timeout', 'timer', 'tinymc', 'titl', 'togeth', 'toggl', 'token', 'tool', 'toolbar', 'tooltip', 'total', 'touch', 'tr', 'track', 'transfer', 'transform', 'transit', 'translat', 'transpar', 'tree', 'tri', 'trigger', 'troubl', 'true', 'turn', 'twice', 'twitter', 'txt', 'type', 'typeerror', 'ui', 'uiwebview', 'ul', 'unabl', 'uncaught', 'uncheck', 'undefin', 'understand', 'unexpect', 'uniqu', 'uniti', 'unknown', 'updat', 'upload', 'uri', 'url', 'usag', 'use', 'user', 'usernam', 'val', 'valid', 'valu', 'var', 'variabl', 'version', 'vertic', 'video', 'view', 'viewport', 'virtual', 'visibl', 'visual', 'volley', 'vs', 'wait', 'want', 'warn', 'way', 'wcf', 'web', 'webbrows', 'webkit', 'webpag', 'webservic', 'websit', 'websocket', 'webview', 'weird', 'white', 'widget', 'width', 'window', 'wont', 'word', 'wordpress', 'work', 'wrap', 'wrapper', 'write', 'written', 'wrong', 'xamarin', 'xml', 'xmlhttprequest', 'xpath', 'yii', 'youtub', 'zero', 'zoom']\n"
     ]
    }
   ],
   "source": [
    "import sklearn.feature_extraction.text as sk_text\n",
    "\n",
    "vectorizer_2 = sk_text.TfidfVectorizer(\n",
    "                             stop_words='english',\n",
    "                             max_features = 1000,\n",
    "                             min_df=1)\n",
    "matrix_2 = vectorizer_2.fit_transform(titleList)\n",
    "\n",
    "print(type(matrix_2))          # Compressed Sparse Row matrix\n",
    "print(matrix_2.toarray())        #  convert it to numpy array\n",
    "\n",
    "print(vectorizer_2.get_feature_names())"
   ]
  },
  {
   "cell_type": "code",
   "execution_count": 71,
   "metadata": {},
   "outputs": [],
   "source": [
    "array_2 = matrix_2.toarray()"
   ]
  },
  {
   "cell_type": "code",
   "execution_count": 72,
   "metadata": {},
   "outputs": [
    {
     "data": {
      "text/plain": [
       "(120403, 1000)"
      ]
     },
     "execution_count": 72,
     "metadata": {},
     "output_type": "execute_result"
    }
   ],
   "source": [
    "array_2.shape #title"
   ]
  },
  {
   "cell_type": "code",
   "execution_count": 73,
   "metadata": {},
   "outputs": [
    {
     "data": {
      "text/plain": [
       "(120403, 1000)"
      ]
     },
     "execution_count": 73,
     "metadata": {},
     "output_type": "execute_result"
    }
   ],
   "source": [
    "array_1.shape #text"
   ]
  },
  {
   "cell_type": "markdown",
   "metadata": {},
   "source": [
    "# Making output vector ready"
   ]
  },
  {
   "cell_type": "code",
   "execution_count": 74,
   "metadata": {},
   "outputs": [],
   "source": [
    "tagList = merged_df['Tag'].tolist() "
   ]
  },
  {
   "cell_type": "code",
   "execution_count": 75,
   "metadata": {},
   "outputs": [],
   "source": [
    "tagList = np.array(tagList)"
   ]
  },
  {
   "cell_type": "code",
   "execution_count": 76,
   "metadata": {},
   "outputs": [
    {
     "data": {
      "text/plain": [
       "numpy.ndarray"
      ]
     },
     "execution_count": 76,
     "metadata": {},
     "output_type": "execute_result"
    }
   ],
   "source": [
    "type(tagList)"
   ]
  },
  {
   "cell_type": "code",
   "execution_count": 77,
   "metadata": {},
   "outputs": [
    {
     "data": {
      "text/plain": [
       "(120403,)"
      ]
     },
     "execution_count": 77,
     "metadata": {},
     "output_type": "execute_result"
    }
   ],
   "source": [
    "tagList.shape"
   ]
  },
  {
   "cell_type": "code",
   "execution_count": 78,
   "metadata": {},
   "outputs": [
    {
     "data": {
      "text/plain": [
       "array(['android', 'c#', 'c++', 'html', 'ios', 'java', 'javascript',\n",
       "       'jquery', 'php', 'python'], dtype='<U10')"
      ]
     },
     "execution_count": 78,
     "metadata": {},
     "output_type": "execute_result"
    }
   ],
   "source": [
    "from sklearn import preprocessing\n",
    "lb = preprocessing.LabelEncoder()\n",
    "normalized_y=lb.fit_transform(tagList)\n",
    "lb.classes_\n",
    "\n",
    "#Label encoding for Scikit Learn models"
   ]
  },
  {
   "cell_type": "code",
   "execution_count": 79,
   "metadata": {},
   "outputs": [
    {
     "data": {
      "text/plain": [
       "array([9, 8, 2, 3, 3, 7, 9, 5, 7, 3], dtype=int64)"
      ]
     },
     "execution_count": 79,
     "metadata": {},
     "output_type": "execute_result"
    }
   ],
   "source": [
    "normalized_y[:10]"
   ]
  },
  {
   "cell_type": "code",
   "execution_count": 80,
   "metadata": {},
   "outputs": [
    {
     "data": {
      "text/plain": [
       "120403"
      ]
     },
     "execution_count": 80,
     "metadata": {},
     "output_type": "execute_result"
    }
   ],
   "source": [
    "len(normalized_y)"
   ]
  },
  {
   "cell_type": "code",
   "execution_count": 81,
   "metadata": {},
   "outputs": [],
   "source": [
    "def encode_text_dummy(df, name):\n",
    "    dummies = pd.get_dummies(df[name])\n",
    "    for x in dummies.columns:\n",
    "        dummy_name = \"{}-{}\".format(name, x)\n",
    "        df[dummy_name] = dummies[x]\n",
    "    df.drop(name, axis=1, inplace=True)  #One Hot Encoding for Neural Network"
   ]
  },
  {
   "cell_type": "code",
   "execution_count": 82,
   "metadata": {},
   "outputs": [],
   "source": [
    "# columns\n",
    "columns_new = ['normalized_y']\n",
    "\n",
    "# pass in array and columns\n",
    "df_y = pd.DataFrame(normalized_y , columns=columns_new)"
   ]
  },
  {
   "cell_type": "code",
   "execution_count": 83,
   "metadata": {},
   "outputs": [],
   "source": [
    "encode_text_dummy(df_y,'normalized_y')"
   ]
  },
  {
   "cell_type": "code",
   "execution_count": 84,
   "metadata": {},
   "outputs": [
    {
     "data": {
      "text/html": [
       "<div>\n",
       "<style scoped>\n",
       "    .dataframe tbody tr th:only-of-type {\n",
       "        vertical-align: middle;\n",
       "    }\n",
       "\n",
       "    .dataframe tbody tr th {\n",
       "        vertical-align: top;\n",
       "    }\n",
       "\n",
       "    .dataframe thead th {\n",
       "        text-align: right;\n",
       "    }\n",
       "</style>\n",
       "<table border=\"1\" class=\"dataframe\">\n",
       "  <thead>\n",
       "    <tr style=\"text-align: right;\">\n",
       "      <th></th>\n",
       "      <th>normalized_y-0</th>\n",
       "      <th>normalized_y-1</th>\n",
       "      <th>normalized_y-2</th>\n",
       "      <th>normalized_y-3</th>\n",
       "      <th>normalized_y-4</th>\n",
       "      <th>normalized_y-5</th>\n",
       "      <th>normalized_y-6</th>\n",
       "      <th>normalized_y-7</th>\n",
       "      <th>normalized_y-8</th>\n",
       "      <th>normalized_y-9</th>\n",
       "    </tr>\n",
       "  </thead>\n",
       "  <tbody>\n",
       "    <tr>\n",
       "      <th>0</th>\n",
       "      <td>0</td>\n",
       "      <td>0</td>\n",
       "      <td>0</td>\n",
       "      <td>0</td>\n",
       "      <td>0</td>\n",
       "      <td>0</td>\n",
       "      <td>0</td>\n",
       "      <td>0</td>\n",
       "      <td>0</td>\n",
       "      <td>1</td>\n",
       "    </tr>\n",
       "    <tr>\n",
       "      <th>1</th>\n",
       "      <td>0</td>\n",
       "      <td>0</td>\n",
       "      <td>0</td>\n",
       "      <td>0</td>\n",
       "      <td>0</td>\n",
       "      <td>0</td>\n",
       "      <td>0</td>\n",
       "      <td>0</td>\n",
       "      <td>1</td>\n",
       "      <td>0</td>\n",
       "    </tr>\n",
       "    <tr>\n",
       "      <th>2</th>\n",
       "      <td>0</td>\n",
       "      <td>0</td>\n",
       "      <td>1</td>\n",
       "      <td>0</td>\n",
       "      <td>0</td>\n",
       "      <td>0</td>\n",
       "      <td>0</td>\n",
       "      <td>0</td>\n",
       "      <td>0</td>\n",
       "      <td>0</td>\n",
       "    </tr>\n",
       "    <tr>\n",
       "      <th>3</th>\n",
       "      <td>0</td>\n",
       "      <td>0</td>\n",
       "      <td>0</td>\n",
       "      <td>1</td>\n",
       "      <td>0</td>\n",
       "      <td>0</td>\n",
       "      <td>0</td>\n",
       "      <td>0</td>\n",
       "      <td>0</td>\n",
       "      <td>0</td>\n",
       "    </tr>\n",
       "    <tr>\n",
       "      <th>4</th>\n",
       "      <td>0</td>\n",
       "      <td>0</td>\n",
       "      <td>0</td>\n",
       "      <td>1</td>\n",
       "      <td>0</td>\n",
       "      <td>0</td>\n",
       "      <td>0</td>\n",
       "      <td>0</td>\n",
       "      <td>0</td>\n",
       "      <td>0</td>\n",
       "    </tr>\n",
       "  </tbody>\n",
       "</table>\n",
       "</div>"
      ],
      "text/plain": [
       "   normalized_y-0  normalized_y-1  normalized_y-2  normalized_y-3  \\\n",
       "0               0               0               0               0   \n",
       "1               0               0               0               0   \n",
       "2               0               0               1               0   \n",
       "3               0               0               0               1   \n",
       "4               0               0               0               1   \n",
       "\n",
       "   normalized_y-4  normalized_y-5  normalized_y-6  normalized_y-7  \\\n",
       "0               0               0               0               0   \n",
       "1               0               0               0               0   \n",
       "2               0               0               0               0   \n",
       "3               0               0               0               0   \n",
       "4               0               0               0               0   \n",
       "\n",
       "   normalized_y-8  normalized_y-9  \n",
       "0               0               1  \n",
       "1               1               0  \n",
       "2               0               0  \n",
       "3               0               0  \n",
       "4               0               0  "
      ]
     },
     "execution_count": 84,
     "metadata": {},
     "output_type": "execute_result"
    }
   ],
   "source": [
    "df_y[:5]"
   ]
  },
  {
   "cell_type": "code",
   "execution_count": 85,
   "metadata": {},
   "outputs": [],
   "source": [
    "df_encoded = df_y.values"
   ]
  },
  {
   "cell_type": "code",
   "execution_count": 86,
   "metadata": {},
   "outputs": [
    {
     "data": {
      "text/plain": [
       "(120403, 10)"
      ]
     },
     "execution_count": 86,
     "metadata": {},
     "output_type": "execute_result"
    }
   ],
   "source": [
    "df_encoded.shape"
   ]
  },
  {
   "cell_type": "code",
   "execution_count": 87,
   "metadata": {},
   "outputs": [
    {
     "data": {
      "text/plain": [
       "array([[0, 0, 0, 0, 0, 0, 0, 0, 0, 1],\n",
       "       [0, 0, 0, 0, 0, 0, 0, 0, 1, 0],\n",
       "       [0, 0, 1, 0, 0, 0, 0, 0, 0, 0],\n",
       "       [0, 0, 0, 1, 0, 0, 0, 0, 0, 0],\n",
       "       [0, 0, 0, 1, 0, 0, 0, 0, 0, 0],\n",
       "       [0, 0, 0, 0, 0, 0, 0, 1, 0, 0],\n",
       "       [0, 0, 0, 0, 0, 0, 0, 0, 0, 1],\n",
       "       [0, 0, 0, 0, 0, 1, 0, 0, 0, 0],\n",
       "       [0, 0, 0, 0, 0, 0, 0, 1, 0, 0],\n",
       "       [0, 0, 0, 1, 0, 0, 0, 0, 0, 0]], dtype=uint8)"
      ]
     },
     "execution_count": 87,
     "metadata": {},
     "output_type": "execute_result"
    }
   ],
   "source": [
    "df_encoded[:10]"
   ]
  },
  {
   "cell_type": "code",
   "execution_count": 88,
   "metadata": {},
   "outputs": [],
   "source": [
    "X = array_1"
   ]
  },
  {
   "cell_type": "code",
   "execution_count": 89,
   "metadata": {},
   "outputs": [
    {
     "data": {
      "text/plain": [
       "(120403, 1000)"
      ]
     },
     "execution_count": 89,
     "metadata": {},
     "output_type": "execute_result"
    }
   ],
   "source": [
    "X.shape"
   ]
  },
  {
   "cell_type": "code",
   "execution_count": 90,
   "metadata": {},
   "outputs": [],
   "source": [
    "from sklearn.model_selection import train_test_split"
   ]
  },
  {
   "cell_type": "markdown",
   "metadata": {},
   "source": [
    "# Neural Network Model"
   ]
  },
  {
   "cell_type": "code",
   "execution_count": 98,
   "metadata": {},
   "outputs": [],
   "source": [
    "X_train,X_test,y_train,y_test = train_test_split(X,df_encoded,test_size=0.25,random_state=1)"
   ]
  },
  {
   "cell_type": "code",
   "execution_count": 99,
   "metadata": {},
   "outputs": [
    {
     "name": "stderr",
     "output_type": "stream",
     "text": [
      "Using TensorFlow backend.\n"
     ]
    }
   ],
   "source": [
    "from keras import models\n",
    "from keras import layers\n",
    "from keras.callbacks import EarlyStopping, ModelCheckpoint"
   ]
  },
  {
   "cell_type": "code",
   "execution_count": 100,
   "metadata": {},
   "outputs": [],
   "source": [
    "from keras.models import  Sequential\n",
    "from keras.layers import Dense"
   ]
  },
  {
   "cell_type": "markdown",
   "metadata": {},
   "source": [
    "### Activation : Relu , Optimizer : Adam , Two Hidden layers"
   ]
  },
  {
   "cell_type": "code",
   "execution_count": 101,
   "metadata": {},
   "outputs": [
    {
     "name": "stdout",
     "output_type": "stream",
     "text": [
      "0\n",
      "Train on 90302 samples, validate on 30101 samples\n",
      "Epoch 1/1000\n",
      " - 6s - loss: 0.1662 - val_loss: 0.1543\n",
      "Epoch 2/1000\n",
      " - 5s - loss: 0.1482 - val_loss: 0.1504\n",
      "Epoch 3/1000\n",
      " - 5s - loss: 0.1421 - val_loss: 0.1491\n",
      "Epoch 4/1000\n",
      " - 5s - loss: 0.1376 - val_loss: 0.1495\n",
      "Epoch 5/1000\n",
      " - 5s - loss: 0.1335 - val_loss: 0.1506\n",
      "Epoch 6/1000\n",
      " - 5s - loss: 0.1295 - val_loss: 0.1531\n",
      "Epoch 7/1000\n",
      " - 5s - loss: 0.1258 - val_loss: 0.1563\n",
      "Epoch 8/1000\n",
      " - 5s - loss: 0.1219 - val_loss: 0.1605\n",
      "Epoch 00008: early stopping\n",
      "1\n",
      "Train on 90302 samples, validate on 30101 samples\n",
      "Epoch 1/1000\n",
      " - 5s - loss: 0.1664 - val_loss: 0.1547\n",
      "Epoch 2/1000\n",
      " - 5s - loss: 0.1486 - val_loss: 0.1500\n",
      "Epoch 3/1000\n",
      " - 5s - loss: 0.1424 - val_loss: 0.1495\n",
      "Epoch 4/1000\n",
      " - 5s - loss: 0.1376 - val_loss: 0.1502\n",
      "Epoch 5/1000\n",
      " - 5s - loss: 0.1335 - val_loss: 0.1510\n",
      "Epoch 6/1000\n",
      " - 5s - loss: 0.1296 - val_loss: 0.1527\n",
      "Epoch 7/1000\n",
      " - 5s - loss: 0.1256 - val_loss: 0.1563\n",
      "Epoch 00007: early stopping\n",
      "2\n",
      "Train on 90302 samples, validate on 30101 samples\n",
      "Epoch 1/1000\n",
      " - 6s - loss: 0.1662 - val_loss: 0.1533\n",
      "Epoch 2/1000\n",
      " - 5s - loss: 0.1480 - val_loss: 0.1497\n",
      "Epoch 3/1000\n",
      " - 5s - loss: 0.1417 - val_loss: 0.1486\n",
      "Epoch 4/1000\n",
      " - 5s - loss: 0.1373 - val_loss: 0.1491\n",
      "Epoch 5/1000\n",
      " - 5s - loss: 0.1333 - val_loss: 0.1509\n",
      "Epoch 6/1000\n",
      " - 5s - loss: 0.1294 - val_loss: 0.1533\n",
      "Epoch 7/1000\n",
      " - 5s - loss: 0.1257 - val_loss: 0.1546\n",
      "Epoch 8/1000\n",
      " - 5s - loss: 0.1219 - val_loss: 0.1594\n",
      "Epoch 00008: early stopping\n"
     ]
    }
   ],
   "source": [
    "checkpointer = ModelCheckpoint(filepath=\"best_weights.hdf5\", verbose=0, save_best_only=True) # save best model\n",
    "\n",
    "for i in range(3):\n",
    "    print(i)\n",
    "    model_classification = Sequential()\n",
    "    model_classification.add(Dense(80, input_dim=X_train.shape[1], activation='relu')) # Hidden 1  \n",
    "    model_classification.add(Dense(60, activation='relu')) # Hidden 2\n",
    "    model_classification.add(Dense(10,activation='softmax')) # Output\n",
    "    model_classification.compile(loss='binary_crossentropy', optimizer='adam')\n",
    "\n",
    "    monitor = EarlyStopping(monitor='val_loss', min_delta=1e-3, patience=5, verbose=1, mode='auto')\n",
    "    model_classification.fit(X_train, y_train,validation_data=(X_test,y_test),callbacks=[monitor,checkpointer],verbose=2,epochs=1000)\n",
    "    "
   ]
  },
  {
   "cell_type": "code",
   "execution_count": 102,
   "metadata": {},
   "outputs": [],
   "source": [
    "from sklearn import metrics"
   ]
  },
  {
   "cell_type": "code",
   "execution_count": 103,
   "metadata": {},
   "outputs": [
    {
     "name": "stdout",
     "output_type": "stream",
     "text": [
      "test [7 0 1 7 3 3 3 3 3 5 8 3 0 3 7 3 8 6 7 7 7 7 3 0 7]\n",
      "pred [7 0 0 7 3 7 3 7 7 2 7 7 0 3 3 7 7 9 3 3 3 7 3 0 3]\n",
      "[[4257    0   71  116   88    2   10  121   18    9]\n",
      " [  33    1   16   38    1    5   40  101    2    3]\n",
      " [ 105    2  336   21   10    5    6   29    8   35]\n",
      " [ 138    1   16 4789   39    2  114 3557  180   40]\n",
      " [ 112    0   36   98  363    2    8   86    8    5]\n",
      " [  50    0   36   32    1   13   19   35    3    3]\n",
      " [  45    2   16  336    6    3  248  464  123    3]\n",
      " [  80    1   10 2020   43    1  124 9054  213   18]\n",
      " [  75    0   11  386   12    1  108  631  354    9]\n",
      " [  26    1   39   47    7    0    3   52    3  251]]\n",
      "Precision score: 0.6344393263257423\n",
      "Recall score: 0.6533337762865021\n",
      "F1 score: 0.636925454214566\n"
     ]
    }
   ],
   "source": [
    "model_classification.load_weights('best_weights.hdf5')\n",
    "pred = model_classification.predict(X_test)\n",
    "\n",
    "pred = np.argmax(pred,axis=1) # raw probabilities to chosen class (highest probability)\n",
    "\n",
    "y_true= np.argmax(y_test,axis=1) \n",
    "\n",
    "print(\"test\", y_true[:25])\n",
    "print(\"pred\", pred[:25])\n",
    "\n",
    "print(metrics.confusion_matrix(y_true,pred))\n",
    "\n",
    "pr_score = metrics.precision_score(y_true, pred, average= \"weighted\")\n",
    "print(\"Precision score: {}\".format(pr_score))\n",
    "\n",
    "re_score = metrics.recall_score(y_true, pred, average= \"weighted\")\n",
    "print(\"Recall score: {}\".format(re_score))\n",
    "\n",
    "f1_score = metrics.f1_score(y_true, pred, average= \"weighted\")\n",
    "print(\"F1 score: {}\".format(f1_score))"
   ]
  },
  {
   "cell_type": "markdown",
   "metadata": {},
   "source": [
    "### Activation : Relu , Optimizer : Adam, 3 Hidden layers"
   ]
  },
  {
   "cell_type": "code",
   "execution_count": 132,
   "metadata": {},
   "outputs": [
    {
     "name": "stdout",
     "output_type": "stream",
     "text": [
      "0\n",
      "Train on 90302 samples, validate on 30101 samples\n",
      "Epoch 1/1000\n",
      " - 7s - loss: 0.1665 - val_loss: 0.1537\n",
      "Epoch 2/1000\n",
      " - 6s - loss: 0.1483 - val_loss: 0.1514\n",
      "Epoch 3/1000\n",
      " - 6s - loss: 0.1417 - val_loss: 0.1492\n",
      "Epoch 4/1000\n",
      " - 6s - loss: 0.1363 - val_loss: 0.1501\n",
      "Epoch 5/1000\n",
      " - 6s - loss: 0.1314 - val_loss: 0.1527\n",
      "Epoch 6/1000\n",
      " - 7s - loss: 0.1266 - val_loss: 0.1577\n",
      "Epoch 7/1000\n",
      " - 7s - loss: 0.1219 - val_loss: 0.1616\n",
      "Epoch 8/1000\n",
      " - 7s - loss: 0.1177 - val_loss: 0.1667\n",
      "Epoch 00008: early stopping\n",
      "1\n",
      "Train on 90302 samples, validate on 30101 samples\n",
      "Epoch 1/1000\n",
      " - 7s - loss: 0.1665 - val_loss: 0.1569\n",
      "Epoch 2/1000\n",
      " - 7s - loss: 0.1489 - val_loss: 0.1517\n",
      "Epoch 3/1000\n",
      " - 7s - loss: 0.1420 - val_loss: 0.1493\n",
      "Epoch 4/1000\n",
      " - 7s - loss: 0.1367 - val_loss: 0.1505\n",
      "Epoch 5/1000\n",
      " - 7s - loss: 0.1315 - val_loss: 0.1530\n",
      "Epoch 6/1000\n",
      " - 7s - loss: 0.1266 - val_loss: 0.1584\n",
      "Epoch 7/1000\n",
      " - 7s - loss: 0.1221 - val_loss: 0.1614\n",
      "Epoch 8/1000\n",
      " - 7s - loss: 0.1175 - val_loss: 0.1656\n",
      "Epoch 00008: early stopping\n",
      "2\n",
      "Train on 90302 samples, validate on 30101 samples\n",
      "Epoch 1/1000\n",
      " - 8s - loss: 0.1664 - val_loss: 0.1550\n",
      "Epoch 2/1000\n",
      " - 7s - loss: 0.1482 - val_loss: 0.1515\n",
      "Epoch 3/1000\n",
      " - 7s - loss: 0.1415 - val_loss: 0.1497\n",
      "Epoch 4/1000\n",
      " - 7s - loss: 0.1361 - val_loss: 0.1515\n",
      "Epoch 5/1000\n",
      " - 7s - loss: 0.1311 - val_loss: 0.1541\n",
      "Epoch 6/1000\n",
      " - 7s - loss: 0.1262 - val_loss: 0.1566\n",
      "Epoch 7/1000\n",
      " - 7s - loss: 0.1215 - val_loss: 0.1606\n",
      "Epoch 8/1000\n",
      " - 7s - loss: 0.1170 - val_loss: 0.1659\n",
      "Epoch 00008: early stopping\n"
     ]
    }
   ],
   "source": [
    "checkpointer = ModelCheckpoint(filepath=\"best_weights_2.hdf5\", verbose=0, save_best_only=True) # save best model\n",
    "\n",
    "for i in range(3):\n",
    "    print(i)\n",
    "    model_classification = Sequential()\n",
    "    model_classification.add(Dense(90, input_dim=X_train.shape[1], activation='relu')) # Hidden 1  \n",
    "    model_classification.add(Dense(60, activation='relu')) # Hidden 2\n",
    "    model_classification.add(Dense(40, activation='relu')) # Hidden 2\n",
    "    model_classification.add(Dense(10,activation='softmax')) # Output\n",
    "    model_classification.compile(loss='binary_crossentropy', optimizer='adam')\n",
    "\n",
    "    monitor = EarlyStopping(monitor='val_loss', min_delta=1e-3, patience=5, verbose=1, mode='auto')\n",
    "    model_classification.fit(X_train, y_train,validation_data=(X_test,y_test),callbacks=[monitor,checkpointer],verbose=2,epochs=1000)\n",
    "    "
   ]
  },
  {
   "cell_type": "code",
   "execution_count": 133,
   "metadata": {},
   "outputs": [
    {
     "name": "stdout",
     "output_type": "stream",
     "text": [
      "test [7 0 1 7 3 3 3 3 3 5 8 3 0 3 7 3 8 6 7 7 7 7 3 0 7]\n",
      "pred [7 0 0 7 3 7 3 7 7 2 7 7 0 3 3 7 7 9 7 7 3 7 3 0 3]\n",
      "[[4220    4   56  136   91    2   10  116   46   11]\n",
      " [  32    0   19   37    2    3   46   96    2    3]\n",
      " [ 112    0  312   22   11    1    9   30   11   49]\n",
      " [ 127    0   17 4266   71    1  112 4119  121   42]\n",
      " [ 105    0   23   77  404    0    6   85   12    6]\n",
      " [  49    3   36   30    4    9   21   31    6    3]\n",
      " [  42    0   14  314   11    1  255  509   97    3]\n",
      " [  96    3    9 1531   51    0  134 9617  105   18]\n",
      " [  70    0    9  401   11    1  103  718  265    9]\n",
      " [  26    2   30   49    7    0    1   52    3  259]]\n",
      "Precision score: 0.6323833379756622\n",
      "Recall score: 0.6513737085146672\n",
      "F1 score: 0.6289226166775164\n"
     ]
    }
   ],
   "source": [
    "model_classification.load_weights('best_weights_2.hdf5')\n",
    "pred = model_classification.predict(X_test)\n",
    "\n",
    "pred = np.argmax(pred,axis=1) # raw probabilities to chosen class (highest probability)\n",
    "\n",
    "y_true= np.argmax(y_test,axis=1) \n",
    "\n",
    "print(\"test\", y_true[:25])\n",
    "print(\"pred\", pred[:25])\n",
    "\n",
    "cm_n1 = metrics.confusion_matrix(y_true,pred)\n",
    "print(cm_n1)\n",
    "\n",
    "pr_score = metrics.precision_score(y_true, pred, average= \"weighted\")\n",
    "print(\"Precision score: {}\".format(pr_score))\n",
    "\n",
    "re_score = metrics.recall_score(y_true, pred, average= \"weighted\")\n",
    "print(\"Recall score: {}\".format(re_score))\n",
    "\n",
    "f1_score = metrics.f1_score(y_true, pred, average= \"weighted\")\n",
    "print(\"F1 score: {}\".format(f1_score))"
   ]
  },
  {
   "cell_type": "markdown",
   "metadata": {},
   "source": [
    "### Activation : sigmoid , Optimizer : Adam"
   ]
  },
  {
   "cell_type": "code",
   "execution_count": 106,
   "metadata": {},
   "outputs": [
    {
     "name": "stdout",
     "output_type": "stream",
     "text": [
      "0\n",
      "Train on 90302 samples, validate on 30101 samples\n",
      "Epoch 1/1000\n",
      " - 6s - loss: 0.1774 - val_loss: 0.1640\n",
      "Epoch 2/1000\n",
      " - 5s - loss: 0.1582 - val_loss: 0.1566\n",
      "Epoch 3/1000\n",
      " - 6s - loss: 0.1516 - val_loss: 0.1532\n",
      "Epoch 4/1000\n",
      " - 6s - loss: 0.1473 - val_loss: 0.1514\n",
      "Epoch 5/1000\n",
      " - 6s - loss: 0.1438 - val_loss: 0.1508\n",
      "Epoch 6/1000\n",
      " - 6s - loss: 0.1405 - val_loss: 0.1509\n",
      "Epoch 7/1000\n",
      " - 6s - loss: 0.1373 - val_loss: 0.1502\n",
      "Epoch 8/1000\n",
      " - 6s - loss: 0.1342 - val_loss: 0.1520\n",
      "Epoch 9/1000\n",
      " - 7s - loss: 0.1310 - val_loss: 0.1527\n",
      "Epoch 10/1000\n",
      " - 7s - loss: 0.1278 - val_loss: 0.1557\n",
      "Epoch 11/1000\n",
      " - 6s - loss: 0.1245 - val_loss: 0.1589\n",
      "Epoch 12/1000\n",
      " - 6s - loss: 0.1214 - val_loss: 0.1615\n",
      "Epoch 00012: early stopping\n",
      "1\n",
      "Train on 90302 samples, validate on 30101 samples\n",
      "Epoch 1/1000\n",
      " - 7s - loss: 0.1775 - val_loss: 0.1641\n",
      "Epoch 2/1000\n",
      " - 7s - loss: 0.1595 - val_loss: 0.1587\n",
      "Epoch 3/1000\n",
      " - 6s - loss: 0.1531 - val_loss: 0.1549\n",
      "Epoch 4/1000\n",
      " - 7s - loss: 0.1490 - val_loss: 0.1522\n",
      "Epoch 5/1000\n",
      " - 7s - loss: 0.1455 - val_loss: 0.1512\n",
      "Epoch 6/1000\n",
      " - 7s - loss: 0.1424 - val_loss: 0.1509\n",
      "Epoch 7/1000\n",
      " - 6s - loss: 0.1392 - val_loss: 0.1502\n",
      "Epoch 8/1000\n",
      " - 6s - loss: 0.1363 - val_loss: 0.1522\n",
      "Epoch 9/1000\n",
      " - 7s - loss: 0.1333 - val_loss: 0.1523\n",
      "Epoch 10/1000\n",
      " - 7s - loss: 0.1304 - val_loss: 0.1536\n",
      "Epoch 11/1000\n",
      " - 7s - loss: 0.1276 - val_loss: 0.1557\n",
      "Epoch 00011: early stopping\n",
      "2\n",
      "Train on 90302 samples, validate on 30101 samples\n",
      "Epoch 1/1000\n",
      " - 7s - loss: 0.1785 - val_loss: 0.1643\n",
      "Epoch 2/1000\n",
      " - 7s - loss: 0.1595 - val_loss: 0.1587\n",
      "Epoch 3/1000\n",
      " - 7s - loss: 0.1537 - val_loss: 0.1552\n",
      "Epoch 4/1000\n",
      " - 7s - loss: 0.1491 - val_loss: 0.1541\n",
      "Epoch 5/1000\n",
      " - 7s - loss: 0.1451 - val_loss: 0.1512\n",
      "Epoch 6/1000\n",
      " - 7s - loss: 0.1414 - val_loss: 0.1503\n",
      "Epoch 7/1000\n",
      " - 7s - loss: 0.1382 - val_loss: 0.1508\n",
      "Epoch 8/1000\n",
      " - 6s - loss: 0.1348 - val_loss: 0.1514\n",
      "Epoch 9/1000\n",
      " - 6s - loss: 0.1316 - val_loss: 0.1536\n",
      "Epoch 10/1000\n",
      " - 7s - loss: 0.1285 - val_loss: 0.1548\n",
      "Epoch 00010: early stopping\n"
     ]
    }
   ],
   "source": [
    "checkpointer = ModelCheckpoint(filepath=\"best_weights_3.hdf5\", verbose=0, save_best_only=True) # save best model\n",
    "\n",
    "for i in range(3):\n",
    "    print(i)\n",
    "    model_classification = Sequential()\n",
    "    model_classification.add(Dense(90, input_dim=X_train.shape[1], activation='relu')) # Hidden 1  \n",
    "    model_classification.add(Dense(60, activation='sigmoid')) # Hidden 2\n",
    "    model_classification.add(Dense(40, activation='sigmoid')) # Hidden 2\n",
    "    model_classification.add(Dense(10,activation='softmax')) # Output\n",
    "    model_classification.compile(loss='binary_crossentropy', optimizer='adam')\n",
    "\n",
    "    monitor = EarlyStopping(monitor='val_loss', min_delta=1e-3, patience=5, verbose=1, mode='auto')\n",
    "    model_classification.fit(X_train, y_train,validation_data=(X_test,y_test),callbacks=[monitor,checkpointer],verbose=2,epochs=1000)\n",
    "    "
   ]
  },
  {
   "cell_type": "code",
   "execution_count": 107,
   "metadata": {},
   "outputs": [
    {
     "name": "stdout",
     "output_type": "stream",
     "text": [
      "test [7 0 1 7 3 3 3 3 3 5 8 3 0 3 7 3 8 6 7 7 7 7 3 0 7]\n",
      "pred [7 0 0 7 3 7 3 7 7 2 7 7 0 3 3 7 7 9 7 7 3 7 3 0 3]\n",
      "[[4235    0   71  131   80    9   10  115   30   11]\n",
      " [  29    0   19   43    1    4   34  104    4    2]\n",
      " [ 102    0  290   29    9   11    7   34   17   58]\n",
      " [ 133    0   11 5076   37    1   53 3342  173   50]\n",
      " [ 135    0   30   98  354    0    2   77   13    9]\n",
      " [  36    0   38   35    2    9   32   30    9    1]\n",
      " [  33    0   15  335    5    4  185  514  152    3]\n",
      " [  84    0    5 2246   39    0   94 8942  135   19]\n",
      " [  72    0    7  405    9    1   44  695  345    9]\n",
      " [  22    0   19   47    9    1    4   49    3  275]]\n",
      "Precision score: 0.6332288172930616\n",
      "Recall score: 0.6548287432311218\n",
      "F1 score: 0.6372520069248536\n"
     ]
    },
    {
     "name": "stderr",
     "output_type": "stream",
     "text": [
      "C:\\Users\\palak\\Anaconda3\\lib\\site-packages\\sklearn\\metrics\\classification.py:1135: UndefinedMetricWarning: Precision is ill-defined and being set to 0.0 in labels with no predicted samples.\n",
      "  'precision', 'predicted', average, warn_for)\n",
      "C:\\Users\\palak\\Anaconda3\\lib\\site-packages\\sklearn\\metrics\\classification.py:1135: UndefinedMetricWarning: F-score is ill-defined and being set to 0.0 in labels with no predicted samples.\n",
      "  'precision', 'predicted', average, warn_for)\n"
     ]
    }
   ],
   "source": [
    "model_classification.load_weights('best_weights_3.hdf5')\n",
    "pred = model_classification.predict(X_test)\n",
    "\n",
    "pred = np.argmax(pred,axis=1) # raw probabilities to chosen class (highest probability)\n",
    "\n",
    "y_true= np.argmax(y_test,axis=1) \n",
    "\n",
    "print(\"test\", y_true[:25])\n",
    "print(\"pred\", pred[:25])\n",
    "\n",
    "print(metrics.confusion_matrix(y_true,pred))\n",
    "\n",
    "pr_score = metrics.precision_score(y_true, pred, average= \"weighted\")\n",
    "print(\"Precision score: {}\".format(pr_score))\n",
    "\n",
    "re_score = metrics.recall_score(y_true, pred, average= \"weighted\")\n",
    "print(\"Recall score: {}\".format(re_score))\n",
    "\n",
    "f1_score = metrics.f1_score(y_true, pred, average= \"weighted\")\n",
    "print(\"F1 score: {}\".format(f1_score))"
   ]
  },
  {
   "cell_type": "markdown",
   "metadata": {},
   "source": [
    "### Activation : tanh , Optimizer : Adam"
   ]
  },
  {
   "cell_type": "code",
   "execution_count": 108,
   "metadata": {},
   "outputs": [
    {
     "name": "stdout",
     "output_type": "stream",
     "text": [
      "0\n",
      "Train on 90302 samples, validate on 30101 samples\n",
      "Epoch 1/1000\n",
      " - 6s - loss: 0.1635 - val_loss: 0.1540\n",
      "Epoch 2/1000\n",
      " - 6s - loss: 0.1472 - val_loss: 0.1511\n",
      "Epoch 3/1000\n",
      " - 6s - loss: 0.1402 - val_loss: 0.1502\n",
      "Epoch 4/1000\n",
      " - 6s - loss: 0.1342 - val_loss: 0.1531\n",
      "Epoch 5/1000\n",
      " - 6s - loss: 0.1283 - val_loss: 0.1560\n",
      "Epoch 6/1000\n",
      " - 6s - loss: 0.1227 - val_loss: 0.1615\n",
      "Epoch 7/1000\n",
      " - 6s - loss: 0.1175 - val_loss: 0.1659\n",
      "Epoch 00007: early stopping\n",
      "1\n",
      "Train on 90302 samples, validate on 30101 samples\n",
      "Epoch 1/1000\n",
      " - 7s - loss: 0.1638 - val_loss: 0.1535\n",
      "Epoch 2/1000\n",
      " - 7s - loss: 0.1473 - val_loss: 0.1501\n",
      "Epoch 3/1000\n",
      " - 7s - loss: 0.1403 - val_loss: 0.1497\n",
      "Epoch 4/1000\n",
      " - 7s - loss: 0.1343 - val_loss: 0.1519\n",
      "Epoch 5/1000\n",
      " - 6s - loss: 0.1288 - val_loss: 0.1566\n",
      "Epoch 6/1000\n",
      " - 6s - loss: 0.1235 - val_loss: 0.1592\n",
      "Epoch 7/1000\n",
      " - 6s - loss: 0.1186 - val_loss: 0.1656\n",
      "Epoch 00007: early stopping\n",
      "2\n",
      "Train on 90302 samples, validate on 30101 samples\n",
      "Epoch 1/1000\n",
      " - 7s - loss: 0.1629 - val_loss: 0.1538\n",
      "Epoch 2/1000\n",
      " - 6s - loss: 0.1465 - val_loss: 0.1497\n",
      "Epoch 3/1000\n",
      " - 7s - loss: 0.1398 - val_loss: 0.1510\n",
      "Epoch 4/1000\n",
      " - 7s - loss: 0.1340 - val_loss: 0.1521\n",
      "Epoch 5/1000\n",
      " - 7s - loss: 0.1282 - val_loss: 0.1562\n",
      "Epoch 6/1000\n",
      " - 6s - loss: 0.1228 - val_loss: 0.1601\n",
      "Epoch 7/1000\n",
      " - 6s - loss: 0.1178 - val_loss: 0.1665\n",
      "Epoch 00007: early stopping\n"
     ]
    }
   ],
   "source": [
    "checkpointer = ModelCheckpoint(filepath=\"best_weights_4.hdf5\", verbose=0, save_best_only=True) # save best model\n",
    "\n",
    "for i in range(3):\n",
    "    print(i)\n",
    "    model_classification = Sequential()\n",
    "    model_classification.add(Dense(90, input_dim=X_train.shape[1], activation='relu')) # Hidden 1  \n",
    "    model_classification.add(Dense(60, activation='tanh')) # Hidden 2\n",
    "    model_classification.add(Dense(40, activation='tanh')) # Hidden 2\n",
    "    model_classification.add(Dense(10,activation='softmax')) # Output\n",
    "    model_classification.compile(loss='binary_crossentropy', optimizer='adam')\n",
    "\n",
    "    monitor = EarlyStopping(monitor='val_loss', min_delta=1e-3, patience=5, verbose=1, mode='auto')\n",
    "    model_classification.fit(X_train, y_train,validation_data=(X_test,y_test),callbacks=[monitor,checkpointer],verbose=2,epochs=1000)\n",
    "    "
   ]
  },
  {
   "cell_type": "code",
   "execution_count": 109,
   "metadata": {},
   "outputs": [
    {
     "name": "stdout",
     "output_type": "stream",
     "text": [
      "test [7 0 1 7 3 3 3 3 3 5 8 3 0 3 7 3 8 6 7 7 7 7 3 0 7]\n",
      "pred [7 0 0 7 3 7 3 7 7 2 7 7 0 3 3 3 7 9 3 3 3 7 3 0 3]\n",
      "[[4240    1   75  128   82    8    8  105   33   12]\n",
      " [  25    0   20   43    1    8   35  105    1    2]\n",
      " [  89    1  339   17   10   10    9   31   11   40]\n",
      " [ 129    1   19 4998   46    2   69 3402  163   47]\n",
      " [ 105    1   34  108  367    0    5   81   11    6]\n",
      " [  37    2   40   32    3   11   19   39    5    4]\n",
      " [  45    4   15  357    6    3  198  485  131    2]\n",
      " [  84    3   13 2259   38    3  110 8872  159   23]\n",
      " [  79    0   10  442   10    2   83  618  333   10]\n",
      " [  25    0   33   45    5    2    4   46    3  266]]\n",
      "Precision score: 0.6305314565469917\n",
      "Recall score: 0.651938473804857\n",
      "F1 score: 0.63532892484678\n"
     ]
    }
   ],
   "source": [
    "model_classification.load_weights('best_weights_4.hdf5')\n",
    "pred = model_classification.predict(X_test)\n",
    "\n",
    "pred = np.argmax(pred,axis=1) # raw probabilities to chosen class (highest probability)\n",
    "\n",
    "y_true= np.argmax(y_test,axis=1) \n",
    "\n",
    "print(\"test\", y_true[:25])\n",
    "print(\"pred\", pred[:25])\n",
    "\n",
    "print(metrics.confusion_matrix(y_true,pred))\n",
    "\n",
    "pr_score = metrics.precision_score(y_true, pred, average= \"weighted\")\n",
    "print(\"Precision score: {}\".format(pr_score))\n",
    "\n",
    "re_score = metrics.recall_score(y_true, pred, average= \"weighted\")\n",
    "print(\"Recall score: {}\".format(re_score))\n",
    "\n",
    "f1_score = metrics.f1_score(y_true, pred, average= \"weighted\")\n",
    "print(\"F1 score: {}\".format(f1_score))"
   ]
  },
  {
   "cell_type": "markdown",
   "metadata": {},
   "source": [
    "### Activation : Relu , Optimizer : sgd"
   ]
  },
  {
   "cell_type": "code",
   "execution_count": 110,
   "metadata": {},
   "outputs": [
    {
     "name": "stdout",
     "output_type": "stream",
     "text": [
      "0\n",
      "Train on 90302 samples, validate on 30101 samples\n",
      "Epoch 1/1000\n",
      " - 6s - loss: 0.2804 - val_loss: 0.2532\n",
      "Epoch 2/1000\n",
      " - 5s - loss: 0.2483 - val_loss: 0.2440\n",
      "Epoch 3/1000\n",
      " - 5s - loss: 0.2424 - val_loss: 0.2389\n",
      "Epoch 4/1000\n",
      " - 5s - loss: 0.2363 - val_loss: 0.2310\n",
      "Epoch 5/1000\n",
      " - 7s - loss: 0.2259 - val_loss: 0.2183\n",
      "Epoch 6/1000\n",
      " - 6s - loss: 0.2132 - val_loss: 0.2068\n",
      "Epoch 7/1000\n",
      " - 6s - loss: 0.2046 - val_loss: 0.2009\n",
      "Epoch 8/1000\n",
      " - 6s - loss: 0.2001 - val_loss: 0.1974\n",
      "Epoch 9/1000\n",
      " - 6s - loss: 0.1971 - val_loss: 0.1948\n",
      "Epoch 10/1000\n",
      " - 7s - loss: 0.1945 - val_loss: 0.1924\n",
      "Epoch 11/1000\n",
      " - 6s - loss: 0.1919 - val_loss: 0.1899\n",
      "Epoch 12/1000\n",
      " - 5s - loss: 0.1894 - val_loss: 0.1878\n",
      "Epoch 13/1000\n",
      " - 6s - loss: 0.1872 - val_loss: 0.1859\n",
      "Epoch 14/1000\n",
      " - 6s - loss: 0.1853 - val_loss: 0.1841\n",
      "Epoch 15/1000\n",
      " - 6s - loss: 0.1835 - val_loss: 0.1826\n",
      "Epoch 16/1000\n",
      " - 6s - loss: 0.1820 - val_loss: 0.1813\n",
      "Epoch 17/1000\n",
      " - 6s - loss: 0.1807 - val_loss: 0.1802\n",
      "Epoch 18/1000\n",
      " - 6s - loss: 0.1796 - val_loss: 0.1792\n",
      "Epoch 19/1000\n",
      " - 6s - loss: 0.1786 - val_loss: 0.1785\n",
      "Epoch 20/1000\n",
      " - 5s - loss: 0.1777 - val_loss: 0.1777\n",
      "Epoch 21/1000\n",
      " - 6s - loss: 0.1769 - val_loss: 0.1769\n",
      "Epoch 22/1000\n",
      " - 6s - loss: 0.1761 - val_loss: 0.1762\n",
      "Epoch 23/1000\n",
      " - 5s - loss: 0.1753 - val_loss: 0.1756\n",
      "Epoch 24/1000\n",
      " - 6s - loss: 0.1746 - val_loss: 0.1750\n",
      "Epoch 25/1000\n",
      " - 6s - loss: 0.1738 - val_loss: 0.1743\n",
      "Epoch 26/1000\n",
      " - 6s - loss: 0.1731 - val_loss: 0.1737\n",
      "Epoch 27/1000\n",
      " - 6s - loss: 0.1724 - val_loss: 0.1731\n",
      "Epoch 28/1000\n",
      " - 6s - loss: 0.1717 - val_loss: 0.1725\n",
      "Epoch 29/1000\n",
      " - 6s - loss: 0.1710 - val_loss: 0.1720\n",
      "Epoch 30/1000\n",
      " - 6s - loss: 0.1703 - val_loss: 0.1714\n",
      "Epoch 31/1000\n",
      " - 6s - loss: 0.1697 - val_loss: 0.1708\n",
      "Epoch 32/1000\n",
      " - 6s - loss: 0.1691 - val_loss: 0.1703\n",
      "Epoch 33/1000\n",
      " - 6s - loss: 0.1685 - val_loss: 0.1699\n",
      "Epoch 34/1000\n",
      " - 6s - loss: 0.1680 - val_loss: 0.1697\n",
      "Epoch 35/1000\n",
      " - 6s - loss: 0.1675 - val_loss: 0.1690\n",
      "Epoch 36/1000\n",
      " - 5s - loss: 0.1670 - val_loss: 0.1686\n",
      "Epoch 37/1000\n",
      " - 6s - loss: 0.1665 - val_loss: 0.1683\n",
      "Epoch 38/1000\n",
      " - 6s - loss: 0.1661 - val_loss: 0.1679\n",
      "Epoch 39/1000\n",
      " - 6s - loss: 0.1656 - val_loss: 0.1676\n",
      "Epoch 40/1000\n",
      " - 6s - loss: 0.1652 - val_loss: 0.1672\n",
      "Epoch 41/1000\n",
      " - 6s - loss: 0.1648 - val_loss: 0.1670\n",
      "Epoch 42/1000\n",
      " - 6s - loss: 0.1644 - val_loss: 0.1670\n",
      "Epoch 43/1000\n",
      " - 6s - loss: 0.1641 - val_loss: 0.1665\n",
      "Epoch 44/1000\n",
      " - 6s - loss: 0.1637 - val_loss: 0.1662\n",
      "Epoch 45/1000\n",
      " - 6s - loss: 0.1634 - val_loss: 0.1660\n",
      "Epoch 46/1000\n",
      " - 6s - loss: 0.1631 - val_loss: 0.1656\n",
      "Epoch 47/1000\n",
      " - 6s - loss: 0.1627 - val_loss: 0.1655\n",
      "Epoch 48/1000\n",
      " - 6s - loss: 0.1624 - val_loss: 0.1650\n",
      "Epoch 49/1000\n",
      " - 7s - loss: 0.1621 - val_loss: 0.1648\n",
      "Epoch 50/1000\n",
      " - 6s - loss: 0.1618 - val_loss: 0.1649\n",
      "Epoch 51/1000\n",
      " - 6s - loss: 0.1615 - val_loss: 0.1643\n",
      "Epoch 52/1000\n",
      " - 6s - loss: 0.1612 - val_loss: 0.1642\n",
      "Epoch 53/1000\n",
      " - 6s - loss: 0.1610 - val_loss: 0.1639\n",
      "Epoch 54/1000\n",
      " - 7s - loss: 0.1607 - val_loss: 0.1638\n",
      "Epoch 55/1000\n",
      " - 6s - loss: 0.1604 - val_loss: 0.1635\n",
      "Epoch 56/1000\n",
      " - 6s - loss: 0.1601 - val_loss: 0.1633\n",
      "Epoch 57/1000\n",
      " - 6s - loss: 0.1599 - val_loss: 0.1631\n",
      "Epoch 58/1000\n",
      " - 6s - loss: 0.1596 - val_loss: 0.1628\n",
      "Epoch 59/1000\n",
      " - 6s - loss: 0.1593 - val_loss: 0.1626\n",
      "Epoch 60/1000\n",
      " - 7s - loss: 0.1591 - val_loss: 0.1625\n",
      "Epoch 61/1000\n",
      " - 6s - loss: 0.1588 - val_loss: 0.1621\n",
      "Epoch 62/1000\n",
      " - 6s - loss: 0.1586 - val_loss: 0.1620\n",
      "Epoch 63/1000\n",
      " - 6s - loss: 0.1583 - val_loss: 0.1619\n",
      "Epoch 00063: early stopping\n",
      "1\n",
      "Train on 90302 samples, validate on 30101 samples\n",
      "Epoch 1/1000\n",
      " - 6s - loss: 0.2743 - val_loss: 0.2466\n",
      "Epoch 2/1000\n",
      " - 6s - loss: 0.2445 - val_loss: 0.2417\n",
      "Epoch 3/1000\n",
      " - 6s - loss: 0.2411 - val_loss: 0.2382\n",
      "Epoch 4/1000\n",
      " - 6s - loss: 0.2366 - val_loss: 0.2325\n",
      "Epoch 5/1000\n",
      " - 6s - loss: 0.2294 - val_loss: 0.2235\n",
      "Epoch 6/1000\n",
      " - 6s - loss: 0.2184 - val_loss: 0.2112\n",
      "Epoch 7/1000\n",
      " - 6s - loss: 0.2076 - val_loss: 0.2025\n",
      "Epoch 8/1000\n",
      " - 6s - loss: 0.2005 - val_loss: 0.1968\n",
      "Epoch 9/1000\n",
      " - 6s - loss: 0.1958 - val_loss: 0.1928\n",
      "Epoch 10/1000\n",
      " - 5s - loss: 0.1922 - val_loss: 0.1899\n",
      "Epoch 11/1000\n",
      " - 6s - loss: 0.1895 - val_loss: 0.1877\n",
      "Epoch 12/1000\n",
      " - 6s - loss: 0.1873 - val_loss: 0.1859\n",
      "Epoch 13/1000\n",
      " - 6s - loss: 0.1854 - val_loss: 0.1843\n",
      "Epoch 14/1000\n",
      " - 8s - loss: 0.1838 - val_loss: 0.1829\n",
      "Epoch 15/1000\n",
      " - 12s - loss: 0.1824 - val_loss: 0.1817\n",
      "Epoch 16/1000\n",
      " - 12s - loss: 0.1812 - val_loss: 0.1808\n",
      "Epoch 17/1000\n",
      " - 12s - loss: 0.1801 - val_loss: 0.1799\n",
      "Epoch 18/1000\n",
      " - 12s - loss: 0.1792 - val_loss: 0.1791\n",
      "Epoch 19/1000\n",
      " - 12s - loss: 0.1784 - val_loss: 0.1785\n",
      "Epoch 20/1000\n",
      " - 12s - loss: 0.1777 - val_loss: 0.1781\n",
      "Epoch 21/1000\n",
      " - 12s - loss: 0.1770 - val_loss: 0.1773\n",
      "Epoch 22/1000\n",
      " - 12s - loss: 0.1763 - val_loss: 0.1767\n",
      "Epoch 23/1000\n",
      " - 12s - loss: 0.1758 - val_loss: 0.1763\n",
      "Epoch 24/1000\n",
      " - 12s - loss: 0.1752 - val_loss: 0.1757\n",
      "Epoch 25/1000\n",
      " - 11s - loss: 0.1746 - val_loss: 0.1753\n",
      "Epoch 26/1000\n",
      " - 10s - loss: 0.1741 - val_loss: 0.1749\n",
      "Epoch 27/1000\n",
      " - 12s - loss: 0.1735 - val_loss: 0.1745\n",
      "Epoch 28/1000\n",
      " - 12s - loss: 0.1730 - val_loss: 0.1741\n",
      "Epoch 29/1000\n",
      " - 12s - loss: 0.1725 - val_loss: 0.1739\n",
      "Epoch 30/1000\n",
      " - 12s - loss: 0.1719 - val_loss: 0.1730\n",
      "Epoch 31/1000\n",
      " - 12s - loss: 0.1714 - val_loss: 0.1726\n",
      "Epoch 32/1000\n",
      " - 12s - loss: 0.1709 - val_loss: 0.1722\n",
      "Epoch 33/1000\n",
      " - 12s - loss: 0.1703 - val_loss: 0.1716\n",
      "Epoch 34/1000\n",
      " - 12s - loss: 0.1698 - val_loss: 0.1712\n",
      "Epoch 35/1000\n",
      " - 12s - loss: 0.1693 - val_loss: 0.1709\n",
      "Epoch 36/1000\n",
      " - 12s - loss: 0.1687 - val_loss: 0.1704\n",
      "Epoch 37/1000\n",
      " - 12s - loss: 0.1682 - val_loss: 0.1699\n",
      "Epoch 38/1000\n",
      " - 11s - loss: 0.1677 - val_loss: 0.1694\n",
      "Epoch 39/1000\n",
      " - 11s - loss: 0.1672 - val_loss: 0.1691\n",
      "Epoch 40/1000\n",
      " - 12s - loss: 0.1667 - val_loss: 0.1686\n",
      "Epoch 41/1000\n",
      " - 11s - loss: 0.1662 - val_loss: 0.1683\n",
      "Epoch 42/1000\n",
      " - 12s - loss: 0.1658 - val_loss: 0.1678\n",
      "Epoch 43/1000\n",
      " - 12s - loss: 0.1653 - val_loss: 0.1678\n",
      "Epoch 44/1000\n",
      " - 11s - loss: 0.1649 - val_loss: 0.1672\n",
      "Epoch 45/1000\n",
      " - 12s - loss: 0.1645 - val_loss: 0.1667\n",
      "Epoch 46/1000\n",
      " - 12s - loss: 0.1640 - val_loss: 0.1664\n",
      "Epoch 47/1000\n",
      " - 12s - loss: 0.1637 - val_loss: 0.1661\n",
      "Epoch 48/1000\n",
      " - 11s - loss: 0.1632 - val_loss: 0.1659\n",
      "Epoch 49/1000\n",
      " - 12s - loss: 0.1629 - val_loss: 0.1655\n",
      "Epoch 50/1000\n",
      " - 12s - loss: 0.1625 - val_loss: 0.1652\n",
      "Epoch 51/1000\n",
      " - 12s - loss: 0.1622 - val_loss: 0.1650\n",
      "Epoch 52/1000\n",
      " - 12s - loss: 0.1618 - val_loss: 0.1647\n",
      "Epoch 53/1000\n",
      " - 12s - loss: 0.1615 - val_loss: 0.1646\n",
      "Epoch 54/1000\n",
      " - 11s - loss: 0.1612 - val_loss: 0.1641\n",
      "Epoch 55/1000\n",
      " - 12s - loss: 0.1608 - val_loss: 0.1639\n",
      "Epoch 56/1000\n",
      " - 12s - loss: 0.1605 - val_loss: 0.1637\n",
      "Epoch 57/1000\n",
      " - 12s - loss: 0.1602 - val_loss: 0.1634\n",
      "Epoch 58/1000\n",
      " - 12s - loss: 0.1599 - val_loss: 0.1632\n",
      "Epoch 59/1000\n",
      " - 12s - loss: 0.1596 - val_loss: 0.1629\n",
      "Epoch 60/1000\n",
      " - 12s - loss: 0.1592 - val_loss: 0.1626\n",
      "Epoch 61/1000\n",
      " - 12s - loss: 0.1590 - val_loss: 0.1624\n",
      "Epoch 62/1000\n",
      " - 12s - loss: 0.1587 - val_loss: 0.1621\n",
      "Epoch 63/1000\n",
      " - 12s - loss: 0.1584 - val_loss: 0.1620\n",
      "Epoch 64/1000\n",
      " - 12s - loss: 0.1581 - val_loss: 0.1617\n",
      "Epoch 65/1000\n",
      " - 12s - loss: 0.1578 - val_loss: 0.1615\n",
      "Epoch 66/1000\n",
      " - 12s - loss: 0.1575 - val_loss: 0.1612\n",
      "Epoch 67/1000\n",
      " - 12s - loss: 0.1573 - val_loss: 0.1611\n",
      "Epoch 68/1000\n",
      " - 12s - loss: 0.1570 - val_loss: 0.1610\n",
      "Epoch 69/1000\n",
      " - 13s - loss: 0.1567 - val_loss: 0.1609\n",
      "Epoch 00069: early stopping\n",
      "2\n",
      "Train on 90302 samples, validate on 30101 samples\n",
      "Epoch 1/1000\n",
      " - 14s - loss: 0.2847 - val_loss: 0.2523\n",
      "Epoch 2/1000\n",
      " - 12s - loss: 0.2476 - val_loss: 0.2447\n",
      "Epoch 3/1000\n",
      " - 12s - loss: 0.2446 - val_loss: 0.2428\n",
      "Epoch 4/1000\n",
      " - 12s - loss: 0.2427 - val_loss: 0.2406\n",
      "Epoch 5/1000\n",
      " - 12s - loss: 0.2398 - val_loss: 0.2368\n",
      "Epoch 6/1000\n",
      " - 12s - loss: 0.2348 - val_loss: 0.2304\n",
      "Epoch 7/1000\n",
      " - 12s - loss: 0.2267 - val_loss: 0.2201\n",
      "Epoch 8/1000\n",
      " - 12s - loss: 0.2155 - val_loss: 0.2091\n",
      "Epoch 9/1000\n",
      " - 12s - loss: 0.2064 - val_loss: 0.2019\n",
      "Epoch 10/1000\n",
      " - 11s - loss: 0.2008 - val_loss: 0.1975\n",
      "Epoch 11/1000\n",
      " - 12s - loss: 0.1969 - val_loss: 0.1940\n",
      "Epoch 12/1000\n",
      " - 12s - loss: 0.1936 - val_loss: 0.1910\n",
      "Epoch 13/1000\n",
      " - 12s - loss: 0.1906 - val_loss: 0.1884\n",
      "Epoch 14/1000\n",
      " - 12s - loss: 0.1879 - val_loss: 0.1861\n",
      "Epoch 15/1000\n",
      " - 12s - loss: 0.1857 - val_loss: 0.1843\n"
     ]
    },
    {
     "name": "stdout",
     "output_type": "stream",
     "text": [
      "Epoch 16/1000\n",
      " - 12s - loss: 0.1839 - val_loss: 0.1830\n",
      "Epoch 17/1000\n",
      " - 12s - loss: 0.1825 - val_loss: 0.1817\n",
      "Epoch 18/1000\n",
      " - 12s - loss: 0.1813 - val_loss: 0.1806\n",
      "Epoch 19/1000\n",
      " - 12s - loss: 0.1802 - val_loss: 0.1798\n",
      "Epoch 20/1000\n",
      " - 12s - loss: 0.1793 - val_loss: 0.1791\n",
      "Epoch 21/1000\n",
      " - 12s - loss: 0.1784 - val_loss: 0.1783\n",
      "Epoch 22/1000\n",
      " - 12s - loss: 0.1776 - val_loss: 0.1776\n",
      "Epoch 23/1000\n",
      " - 12s - loss: 0.1768 - val_loss: 0.1769\n",
      "Epoch 24/1000\n",
      " - 12s - loss: 0.1761 - val_loss: 0.1764\n",
      "Epoch 25/1000\n",
      " - 12s - loss: 0.1754 - val_loss: 0.1758\n",
      "Epoch 26/1000\n",
      " - 12s - loss: 0.1747 - val_loss: 0.1752\n",
      "Epoch 27/1000\n",
      " - 12s - loss: 0.1740 - val_loss: 0.1747\n",
      "Epoch 28/1000\n",
      " - 12s - loss: 0.1734 - val_loss: 0.1741\n",
      "Epoch 29/1000\n",
      " - 11s - loss: 0.1727 - val_loss: 0.1737\n",
      "Epoch 30/1000\n",
      " - 11s - loss: 0.1721 - val_loss: 0.1729\n",
      "Epoch 31/1000\n",
      " - 12s - loss: 0.1714 - val_loss: 0.1724\n",
      "Epoch 32/1000\n",
      " - 11s - loss: 0.1708 - val_loss: 0.1719\n",
      "Epoch 33/1000\n",
      " - 11s - loss: 0.1702 - val_loss: 0.1713\n",
      "Epoch 34/1000\n",
      " - 12s - loss: 0.1696 - val_loss: 0.1708\n",
      "Epoch 35/1000\n",
      " - 12s - loss: 0.1690 - val_loss: 0.1704\n",
      "Epoch 36/1000\n",
      " - 11s - loss: 0.1684 - val_loss: 0.1700\n",
      "Epoch 37/1000\n",
      " - 12s - loss: 0.1679 - val_loss: 0.1697\n",
      "Epoch 38/1000\n",
      " - 12s - loss: 0.1674 - val_loss: 0.1693\n",
      "Epoch 39/1000\n",
      " - 12s - loss: 0.1670 - val_loss: 0.1689\n",
      "Epoch 40/1000\n",
      " - 12s - loss: 0.1665 - val_loss: 0.1686\n",
      "Epoch 41/1000\n",
      " - 11s - loss: 0.1661 - val_loss: 0.1682\n",
      "Epoch 42/1000\n",
      " - 12s - loss: 0.1657 - val_loss: 0.1680\n",
      "Epoch 43/1000\n",
      " - 11s - loss: 0.1653 - val_loss: 0.1676\n",
      "Epoch 44/1000\n",
      " - 12s - loss: 0.1650 - val_loss: 0.1674\n",
      "Epoch 45/1000\n",
      " - 12s - loss: 0.1646 - val_loss: 0.1672\n",
      "Epoch 46/1000\n",
      " - 12s - loss: 0.1643 - val_loss: 0.1667\n",
      "Epoch 47/1000\n",
      " - 12s - loss: 0.1640 - val_loss: 0.1664\n",
      "Epoch 48/1000\n",
      " - 12s - loss: 0.1636 - val_loss: 0.1665\n",
      "Epoch 49/1000\n",
      " - 12s - loss: 0.1633 - val_loss: 0.1660\n",
      "Epoch 50/1000\n",
      " - 12s - loss: 0.1630 - val_loss: 0.1657\n",
      "Epoch 51/1000\n",
      " - 12s - loss: 0.1627 - val_loss: 0.1654\n",
      "Epoch 52/1000\n",
      " - 12s - loss: 0.1624 - val_loss: 0.1653\n",
      "Epoch 53/1000\n",
      " - 11s - loss: 0.1621 - val_loss: 0.1650\n",
      "Epoch 54/1000\n",
      " - 12s - loss: 0.1618 - val_loss: 0.1648\n",
      "Epoch 55/1000\n",
      " - 12s - loss: 0.1615 - val_loss: 0.1645\n",
      "Epoch 56/1000\n",
      " - 12s - loss: 0.1612 - val_loss: 0.1643\n",
      "Epoch 57/1000\n",
      " - 12s - loss: 0.1609 - val_loss: 0.1644\n",
      "Epoch 58/1000\n",
      " - 13s - loss: 0.1606 - val_loss: 0.1643\n",
      "Epoch 00058: early stopping\n"
     ]
    }
   ],
   "source": [
    "checkpointer = ModelCheckpoint(filepath=\"best_weights_5.hdf5\", verbose=0, save_best_only=True) # save best model\n",
    "\n",
    "for i in range(3):\n",
    "    print(i)\n",
    "    model_classification = Sequential()\n",
    "    model_classification.add(Dense(90, input_dim=X_train.shape[1], activation='relu')) # Hidden 1  \n",
    "    model_classification.add(Dense(60, activation='relu')) # Hidden 2\n",
    "    model_classification.add(Dense(40, activation='relu')) # Hidden 2\n",
    "    model_classification.add(Dense(10,activation='softmax')) # Output\n",
    "    model_classification.compile(loss='binary_crossentropy', optimizer='sgd')\n",
    "\n",
    "    monitor = EarlyStopping(monitor='val_loss', min_delta=1e-3, patience=5, verbose=1, mode='auto')\n",
    "    model_classification.fit(X_train, y_train,validation_data=(X_test,y_test),callbacks=[monitor,checkpointer],verbose=2,epochs=1000)\n",
    "    "
   ]
  },
  {
   "cell_type": "code",
   "execution_count": 111,
   "metadata": {},
   "outputs": [
    {
     "name": "stdout",
     "output_type": "stream",
     "text": [
      "test [7 0 1 7 3 3 3 3 3 5 8 3 0 3 7 3 8 6 7 7 7 7 3 0 7]\n",
      "pred [7 0 0 7 3 7 3 7 7 0 7 7 0 3 3 7 7 9 3 3 3 7 3 0 3]\n",
      "[[4269    0   30  188   64    0    1  122   14    4]\n",
      " [  42    0    8   53    3    0   14  116    0    4]\n",
      " [ 200    0  167   59   17    0    7   35    5   67]\n",
      " [ 140    0    6 5284   32    0   20 3280   79   35]\n",
      " [ 198    0   16  120  256    0    2  100   15   11]\n",
      " [  70    0   23   52    2    0    5   37    1    2]\n",
      " [  64    0   15  497   15    0   68  510   73    4]\n",
      " [  89    0    4 2538   32    0   37 8743  112    9]\n",
      " [  93    0   13  601   12    0   21  651  187    9]\n",
      " [  40    0   39   74    9    0   11   49    2  205]]\n",
      "Precision score: 0.6057660716507528\n",
      "Recall score: 0.6371549117969503\n",
      "F1 score: 0.6093691691364145\n"
     ]
    },
    {
     "name": "stderr",
     "output_type": "stream",
     "text": [
      "C:\\Users\\palak\\Anaconda3\\lib\\site-packages\\sklearn\\metrics\\classification.py:1135: UndefinedMetricWarning: Precision is ill-defined and being set to 0.0 in labels with no predicted samples.\n",
      "  'precision', 'predicted', average, warn_for)\n",
      "C:\\Users\\palak\\Anaconda3\\lib\\site-packages\\sklearn\\metrics\\classification.py:1135: UndefinedMetricWarning: F-score is ill-defined and being set to 0.0 in labels with no predicted samples.\n",
      "  'precision', 'predicted', average, warn_for)\n"
     ]
    }
   ],
   "source": [
    "model_classification.load_weights('best_weights_5.hdf5')\n",
    "pred = model_classification.predict(X_test)\n",
    "\n",
    "pred = np.argmax(pred,axis=1) # raw probabilities to chosen class (highest probability)\n",
    "\n",
    "y_true= np.argmax(y_test,axis=1) \n",
    "\n",
    "print(\"test\", y_true[:25])\n",
    "print(\"pred\", pred[:25])\n",
    "\n",
    "print(metrics.confusion_matrix(y_true,pred))\n",
    "\n",
    "pr_score = metrics.precision_score(y_true, pred, average= \"weighted\")\n",
    "print(\"Precision score: {}\".format(pr_score))\n",
    "\n",
    "re_score = metrics.recall_score(y_true, pred, average= \"weighted\")\n",
    "print(\"Recall score: {}\".format(re_score))\n",
    "\n",
    "f1_score = metrics.f1_score(y_true, pred, average= \"weighted\")\n",
    "print(\"F1 score: {}\".format(f1_score))"
   ]
  },
  {
   "cell_type": "markdown",
   "metadata": {},
   "source": [
    "### Activation : Relu , Optimizer : rmsprop"
   ]
  },
  {
   "cell_type": "code",
   "execution_count": 112,
   "metadata": {},
   "outputs": [
    {
     "name": "stdout",
     "output_type": "stream",
     "text": [
      "0\n",
      "Train on 90302 samples, validate on 30101 samples\n",
      "Epoch 1/1000\n",
      " - 13s - loss: 0.1726 - val_loss: 0.1608\n",
      "Epoch 2/1000\n",
      " - 12s - loss: 0.1559 - val_loss: 0.1550\n",
      "Epoch 3/1000\n",
      " - 12s - loss: 0.1505 - val_loss: 0.1540\n",
      "Epoch 4/1000\n",
      " - 12s - loss: 0.1471 - val_loss: 0.1515\n",
      "Epoch 5/1000\n",
      " - 12s - loss: 0.1447 - val_loss: 0.1511\n",
      "Epoch 6/1000\n",
      " - 12s - loss: 0.1428 - val_loss: 0.1511\n",
      "Epoch 7/1000\n",
      " - 11s - loss: 0.1414 - val_loss: 0.1519\n",
      "Epoch 8/1000\n",
      " - 12s - loss: 0.1398 - val_loss: 0.1543\n",
      "Epoch 9/1000\n",
      " - 13s - loss: 0.1386 - val_loss: 0.1555\n",
      "Epoch 00009: early stopping\n",
      "1\n",
      "Train on 90302 samples, validate on 30101 samples\n",
      "Epoch 1/1000\n",
      " - 14s - loss: 0.1708 - val_loss: 0.1585\n",
      "Epoch 2/1000\n",
      " - 13s - loss: 0.1542 - val_loss: 0.1537\n",
      "Epoch 3/1000\n",
      " - 12s - loss: 0.1495 - val_loss: 0.1519\n",
      "Epoch 4/1000\n",
      " - 12s - loss: 0.1466 - val_loss: 0.1523\n",
      "Epoch 5/1000\n",
      " - 12s - loss: 0.1444 - val_loss: 0.1517\n",
      "Epoch 6/1000\n",
      " - 12s - loss: 0.1426 - val_loss: 0.1521\n",
      "Epoch 7/1000\n",
      " - 12s - loss: 0.1409 - val_loss: 0.1540\n",
      "Epoch 8/1000\n",
      " - 12s - loss: 0.1396 - val_loss: 0.1543\n",
      "Epoch 00008: early stopping\n"
     ]
    }
   ],
   "source": [
    "checkpointer = ModelCheckpoint(filepath=\"best_weights_6.hdf5\", verbose=0, save_best_only=True) # save best model\n",
    "\n",
    "for i in range(2):\n",
    "    print(i)\n",
    "    model_classification = Sequential()\n",
    "    model_classification.add(Dense(70, input_dim=X_train.shape[1], activation='relu')) # Hidden 1  \n",
    "    model_classification.add(Dense(40, activation='relu')) # Hidden 2\n",
    "    model_classification.add(Dense(20, activation='relu')) # Hidden 2\n",
    "    model_classification.add(Dense(10,activation='softmax')) # Output\n",
    "    model_classification.compile(loss='binary_crossentropy', optimizer='rmsprop')\n",
    "\n",
    "    monitor = EarlyStopping(monitor='val_loss', min_delta=1e-3, patience=5, verbose=1, mode='auto')\n",
    "    model_classification.fit(X_train, y_train,validation_data=(X_test,y_test),callbacks=[monitor,checkpointer],verbose=2,epochs=1000)\n",
    "    "
   ]
  },
  {
   "cell_type": "code",
   "execution_count": 113,
   "metadata": {},
   "outputs": [
    {
     "name": "stdout",
     "output_type": "stream",
     "text": [
      "test [7 0 1 7 3 3 3 3 3 5 8 3 0 3 7 3 8 6 7 7 7 7 3 0 7]\n",
      "pred [7 0 0 7 3 7 3 7 7 2 7 7 0 3 3 7 7 9 3 7 3 7 7 0 3]\n",
      "[[4274    0   73  103   73   23    5  117   15    9]\n",
      " [  28    2   19   37    1    8   35  106    2    2]\n",
      " [ 101    0  311   25   11   27    7   27   13   35]\n",
      " [ 160    0   19 4727   38    8   84 3700   95   45]\n",
      " [ 112    0   27  104  366    1    4   88    8    8]\n",
      " [  38    0   36   34    4   27   14   34    3    2]\n",
      " [  46    3   19  335    7   18  204  520   91    3]\n",
      " [  98    2   12 1991   31    0  112 9207   91   20]\n",
      " [  81    0   13  410    7    5  107  714  240   10]\n",
      " [  31    1   43   41    4    6    1   57    3  242]]\n",
      "Precision score: 0.6314059767545898\n",
      "Recall score: 0.6511411581010598\n",
      "F1 score: 0.630615579518859\n"
     ]
    }
   ],
   "source": [
    "model_classification.load_weights('best_weights_6.hdf5')\n",
    "pred = model_classification.predict(X_test)\n",
    "\n",
    "pred = np.argmax(pred,axis=1) # raw probabilities to chosen class (highest probability)\n",
    "\n",
    "y_true= np.argmax(y_test,axis=1) \n",
    "\n",
    "print(\"test\", y_true[:25])\n",
    "print(\"pred\", pred[:25])\n",
    "\n",
    "print(metrics.confusion_matrix(y_true,pred))\n",
    "\n",
    "pr_score = metrics.precision_score(y_true, pred, average= \"weighted\")\n",
    "print(\"Precision score: {}\".format(pr_score))\n",
    "\n",
    "re_score = metrics.recall_score(y_true, pred, average= \"weighted\")\n",
    "print(\"Recall score: {}\".format(re_score))\n",
    "\n",
    "f1_score = metrics.f1_score(y_true, pred, average= \"weighted\")\n",
    "print(\"F1 score: {}\".format(f1_score))"
   ]
  },
  {
   "cell_type": "markdown",
   "metadata": {},
   "source": [
    "# LSTM"
   ]
  },
  {
   "cell_type": "code",
   "execution_count": 99,
   "metadata": {},
   "outputs": [
    {
     "data": {
      "text/plain": [
       "(90302, 1000)"
      ]
     },
     "execution_count": 99,
     "metadata": {},
     "output_type": "execute_result"
    }
   ],
   "source": [
    "X_train.shape"
   ]
  },
  {
   "cell_type": "code",
   "execution_count": 100,
   "metadata": {},
   "outputs": [
    {
     "data": {
      "text/plain": [
       "(90302, 10)"
      ]
     },
     "execution_count": 100,
     "metadata": {},
     "output_type": "execute_result"
    }
   ],
   "source": [
    "y_train.shape"
   ]
  },
  {
   "cell_type": "code",
   "execution_count": 101,
   "metadata": {},
   "outputs": [],
   "source": [
    "X_train_rnn = X_train.reshape(90302,1000,1)"
   ]
  },
  {
   "cell_type": "code",
   "execution_count": 102,
   "metadata": {},
   "outputs": [
    {
     "data": {
      "text/plain": [
       "(90302, 1000, 1)"
      ]
     },
     "execution_count": 102,
     "metadata": {},
     "output_type": "execute_result"
    }
   ],
   "source": [
    "X_train_rnn.shape"
   ]
  },
  {
   "cell_type": "code",
   "execution_count": 103,
   "metadata": {},
   "outputs": [
    {
     "data": {
      "text/plain": [
       "(30101, 1000)"
      ]
     },
     "execution_count": 103,
     "metadata": {},
     "output_type": "execute_result"
    }
   ],
   "source": [
    "X_test.shape"
   ]
  },
  {
   "cell_type": "code",
   "execution_count": 104,
   "metadata": {},
   "outputs": [],
   "source": [
    "X_test_rnn = X_test.reshape(30101,1000,1)"
   ]
  },
  {
   "cell_type": "code",
   "execution_count": 105,
   "metadata": {},
   "outputs": [
    {
     "data": {
      "text/plain": [
       "(30101, 1000, 1)"
      ]
     },
     "execution_count": 105,
     "metadata": {},
     "output_type": "execute_result"
    }
   ],
   "source": [
    "X_test_rnn.shape"
   ]
  },
  {
   "cell_type": "code",
   "execution_count": 106,
   "metadata": {},
   "outputs": [],
   "source": [
    "y_train_rnn = y_train.reshape(90302, 10)"
   ]
  },
  {
   "cell_type": "code",
   "execution_count": 107,
   "metadata": {},
   "outputs": [],
   "source": [
    "y_test_rnn = y_test.reshape(30101,10)"
   ]
  },
  {
   "cell_type": "code",
   "execution_count": 108,
   "metadata": {},
   "outputs": [],
   "source": [
    "from keras.layers import Dense, Embedding , Dropout\n",
    "from keras.layers import LSTM\n",
    "from keras import regularizers"
   ]
  },
  {
   "cell_type": "code",
   "execution_count": 109,
   "metadata": {},
   "outputs": [
    {
     "data": {
      "text/plain": [
       "array([[0, 0, 0, 1, 0, 0, 0, 0, 0, 0],\n",
       "       [0, 0, 0, 0, 0, 0, 0, 1, 0, 0],\n",
       "       [0, 0, 0, 1, 0, 0, 0, 0, 0, 0],\n",
       "       [0, 0, 0, 1, 0, 0, 0, 0, 0, 0],\n",
       "       [0, 0, 0, 0, 0, 0, 0, 1, 0, 0]], dtype=uint8)"
      ]
     },
     "execution_count": 109,
     "metadata": {},
     "output_type": "execute_result"
    }
   ],
   "source": [
    "y_train_rnn[:5]"
   ]
  },
  {
   "cell_type": "code",
   "execution_count": 110,
   "metadata": {},
   "outputs": [
    {
     "name": "stdout",
     "output_type": "stream",
     "text": [
      "0\n",
      "Build model...\n",
      "Train...\n",
      "Train on 10000 samples, validate on 1000 samples\n",
      "Epoch 1/100\n",
      " - 152s - loss: 0.2502 - val_loss: 0.2415\n",
      "Epoch 2/100\n",
      " - 137s - loss: 0.2449 - val_loss: 0.2420\n",
      "Epoch 3/100\n",
      " - 145s - loss: 0.2448 - val_loss: 0.2414\n",
      "Epoch 4/100\n",
      " - 138s - loss: 0.2448 - val_loss: 0.2423\n",
      "Epoch 5/100\n",
      " - 138s - loss: 0.2447 - val_loss: 0.2424\n",
      "Epoch 6/100\n",
      " - 139s - loss: 0.2447 - val_loss: 0.2423\n",
      "Epoch 7/100\n",
      " - 140s - loss: 0.2446 - val_loss: 0.2424\n",
      "Epoch 8/100\n",
      " - 138s - loss: 0.2447 - val_loss: 0.2420\n",
      "Epoch 00008: early stopping\n",
      "1\n",
      "Build model...\n",
      "Train...\n",
      "Train on 10000 samples, validate on 1000 samples\n",
      "Epoch 1/100\n",
      " - 142s - loss: 0.2493 - val_loss: 0.2426\n",
      "Epoch 2/100\n",
      " - 135s - loss: 0.2449 - val_loss: 0.2425\n",
      "Epoch 3/100\n",
      " - 145s - loss: 0.2448 - val_loss: 0.2422\n",
      "Epoch 4/100\n",
      " - 137s - loss: 0.2448 - val_loss: 0.2423\n",
      "Epoch 5/100\n",
      " - 132s - loss: 0.2446 - val_loss: 0.2417\n",
      "Epoch 6/100\n",
      " - 134s - loss: 0.2447 - val_loss: 0.2420\n",
      "Epoch 7/100\n",
      " - 133s - loss: 0.2445 - val_loss: 0.2425\n",
      "Epoch 8/100\n",
      " - 135s - loss: 0.2446 - val_loss: 0.2420\n",
      "Epoch 9/100\n",
      " - 135s - loss: 0.2446 - val_loss: 0.2418\n",
      "Epoch 10/100\n",
      " - 139s - loss: 0.2445 - val_loss: 0.2421\n",
      "Epoch 00010: early stopping\n",
      "2\n",
      "Build model...\n",
      "Train...\n",
      "Train on 10000 samples, validate on 1000 samples\n",
      "Epoch 1/100\n",
      " - 137s - loss: 0.2487 - val_loss: 0.2413\n",
      "Epoch 2/100\n",
      " - 137s - loss: 0.2453 - val_loss: 0.2416\n",
      "Epoch 3/100\n",
      " - 138s - loss: 0.2448 - val_loss: 0.2422\n",
      "Epoch 4/100\n",
      " - 141s - loss: 0.2448 - val_loss: 0.2425\n",
      "Epoch 5/100\n",
      " - 139s - loss: 0.2447 - val_loss: 0.2421\n",
      "Epoch 6/100\n",
      " - 139s - loss: 0.2446 - val_loss: 0.2415\n",
      "Epoch 00006: early stopping\n"
     ]
    }
   ],
   "source": [
    "checkpointer = ModelCheckpoint(filepath=\"RNN_best_weights.hdf5\", verbose=0, save_best_only=True) # save best model\n",
    "\n",
    "for i in range(3):\n",
    "    \n",
    "    print(i)\n",
    "    print('Build model...')\n",
    "    \n",
    "    model_rnn = Sequential()\n",
    "\n",
    "    model_rnn.add(LSTM(100,activation='tanh', input_shape=(1000,1)))\n",
    "    model_rnn.add(Dense(30 , activation = 'relu'))\n",
    "    model_rnn.add(Dense(10,activation='softmax'))\n",
    "\n",
    "    model_rnn.compile(loss='binary_crossentropy', optimizer='adam')\n",
    "\n",
    "    monitor = EarlyStopping(monitor='val_loss', min_delta=1e-4, patience=5, verbose=1, mode='auto')\n",
    "    print('Train...')\n",
    "\n",
    "    model_rnn.fit(X_train_rnn[:10000],y_train_rnn[:10000],validation_data=(X_test_rnn[:1000],y_test_rnn[:1000]),callbacks=[monitor,checkpointer],verbose=2, epochs=100)"
   ]
  },
  {
   "cell_type": "code",
   "execution_count": 111,
   "metadata": {},
   "outputs": [
    {
     "name": "stdout",
     "output_type": "stream",
     "text": [
      "test [7 0 1 7 3 3 3 3 3 5 8 3 0 3 7 3 8 6 7 7 7 7 3 0 7]\n",
      "pred [7 7 7 7 7 7 7 7 7 7 7 7 7 7 7 7 7 7 7 7 7 7 7 7 7]\n",
      "[[    0     0     0     0     0     0     0  4692     0     0]\n",
      " [    0     0     0     0     0     0     0   240     0     0]\n",
      " [    0     0     0     0     0     0     0   557     0     0]\n",
      " [    0     0     0     0     0     0     0  8876     0     0]\n",
      " [    0     0     0     0     0     0     0   718     0     0]\n",
      " [    0     0     0     0     0     0     0   192     0     0]\n",
      " [    0     0     0     0     0     0     0  1246     0     0]\n",
      " [    0     0     0     0     0     0     0 11564     0     0]\n",
      " [    0     0     0     0     0     0     0  1587     0     0]\n",
      " [    0     0     0     0     0     0     0   429     0     0]]\n",
      "Precision score: 0.1475891115858472\n",
      "Recall score: 0.38417328327962524\n",
      "F1 score: 0.21325236279109983\n"
     ]
    },
    {
     "name": "stderr",
     "output_type": "stream",
     "text": [
      "C:\\Users\\palak\\Anaconda3\\lib\\site-packages\\sklearn\\metrics\\classification.py:1135: UndefinedMetricWarning: Precision is ill-defined and being set to 0.0 in labels with no predicted samples.\n",
      "  'precision', 'predicted', average, warn_for)\n",
      "C:\\Users\\palak\\Anaconda3\\lib\\site-packages\\sklearn\\metrics\\classification.py:1135: UndefinedMetricWarning: F-score is ill-defined and being set to 0.0 in labels with no predicted samples.\n",
      "  'precision', 'predicted', average, warn_for)\n"
     ]
    }
   ],
   "source": [
    "model_rnn.load_weights('RNN_best_weights.hdf5')\n",
    "pred = model_rnn.predict(X_test_rnn)\n",
    "\n",
    "pred = np.argmax(pred,axis=1) # raw probabilities to chosen class (highest probability)\n",
    "\n",
    "y_true= np.argmax(y_test_rnn,axis=1) \n",
    "\n",
    "print(\"test\", y_true[:25])\n",
    "print(\"pred\", pred[:25])\n",
    "\n",
    "print(metrics.confusion_matrix(y_true,pred))\n",
    "\n",
    "pr_score = metrics.precision_score(y_true, pred, average= \"weighted\")\n",
    "print(\"Precision score: {}\".format(pr_score))\n",
    "\n",
    "re_score = metrics.recall_score(y_true, pred, average= \"weighted\")\n",
    "print(\"Recall score: {}\".format(re_score))\n",
    "\n",
    "f1_score = metrics.f1_score(y_true, pred, average= \"weighted\")\n",
    "print(\"F1 score: {}\".format(f1_score))"
   ]
  },
  {
   "cell_type": "markdown",
   "metadata": {},
   "source": [
    "# Scikit Learn Model"
   ]
  },
  {
   "cell_type": "markdown",
   "metadata": {},
   "source": [
    "# KNN"
   ]
  },
  {
   "cell_type": "code",
   "execution_count": 92,
   "metadata": {},
   "outputs": [],
   "source": [
    "X_train_sk,X_test_sk,y_train_sk,y_test_sk = train_test_split(X,normalized_y,test_size=0.25,random_state=1) #Data split for Sklearn models"
   ]
  },
  {
   "cell_type": "code",
   "execution_count": 116,
   "metadata": {},
   "outputs": [
    {
     "data": {
      "text/plain": [
       "KNeighborsClassifier(algorithm='auto', leaf_size=30, metric='minkowski',\n",
       "           metric_params=None, n_jobs=1, n_neighbors=10, p=2,\n",
       "           weights='uniform')"
      ]
     },
     "execution_count": 116,
     "metadata": {},
     "output_type": "execute_result"
    }
   ],
   "source": [
    "from sklearn.neighbors import KNeighborsClassifier\n",
    "\n",
    "clf_knn = KNeighborsClassifier(n_neighbors=10)\n",
    "clf_knn.fit(X_train_sk[:5000],y_train_sk[:5000])"
   ]
  },
  {
   "cell_type": "code",
   "execution_count": 117,
   "metadata": {},
   "outputs": [
    {
     "name": "stdout",
     "output_type": "stream",
     "text": [
      "test [7 0 1 7 3 3 3 3 3 5]\n",
      "pred [7 0 0 7 7 7 7 7 3 0]\n",
      "[[ 591    0    2   52   21    1    1   98    0    1]\n",
      " [  10    1    0    9    0    0    0   23    0    0]\n",
      " [  29    0   14    8    2    0    0   21    0    0]\n",
      " [  40    1    2  757    7    0    1  663    5    4]\n",
      " [  36    1    2   27   21    0    0   40    0    0]\n",
      " [  15    0    1    7    0    0    0   15    0    0]\n",
      " [  18    0    1   86    1    0    2   96    6    0]\n",
      " [  39    2    1  692    6    0    4 1176    7    1]\n",
      " [  23    0    0   98    1    0    2  116   10    0]\n",
      " [  13    0    2   16    1    0    1   29    1   20]]\n",
      "Precision Score::  0.49496559629314324\n",
      "Recall Score::  0.5184\n",
      "F1 Score::  0.48970896110920203\n"
     ]
    }
   ],
   "source": [
    "from sklearn import metrics\n",
    "\n",
    "y_pred = clf_knn.predict(X_test_sk[:5000])\n",
    "\n",
    "print(\"test\", y_test_sk[:10])\n",
    "print(\"pred\", y_pred[:10])\n",
    "\n",
    "\n",
    "cm_1 = metrics.confusion_matrix(y_test_sk[:5000],y_pred)\n",
    "print(cm_1)\n",
    "print(\"Precision Score:: \",metrics.precision_score(y_test_sk[:5000],y_pred,average='weighted'))   \n",
    "print(\"Recall Score:: \",metrics.recall_score(y_test_sk[:5000],y_pred,average='weighted'))      \n",
    "print(\"F1 Score:: \",metrics.f1_score(y_test_sk[:5000],y_pred,average='weighted'))"
   ]
  },
  {
   "cell_type": "code",
   "execution_count": null,
   "metadata": {},
   "outputs": [],
   "source": [
    "print('Plotting confusion matrix')\n",
    "plt.figure()\n",
    "plot_confusion_matrix(cm_1, le.classes_)\n",
    "fig=plt.figure(figsize=(250, 250))\n",
    "plt.show()\n",
    "\n",
    "print()\n",
    "\n",
    "print(classification_report(y_test_sk, y_pred))\n"
   ]
  },
  {
   "cell_type": "markdown",
   "metadata": {},
   "source": [
    "# SVM"
   ]
  },
  {
   "cell_type": "code",
   "execution_count": 93,
   "metadata": {},
   "outputs": [
    {
     "data": {
      "text/plain": [
       "SVC(C=1.0, cache_size=200, class_weight=None, coef0=0.0,\n",
       "  decision_function_shape='ovr', degree=3, gamma='auto', kernel='rbf',\n",
       "  max_iter=-1, probability=False, random_state=None, shrinking=True,\n",
       "  tol=0.001, verbose=False)"
      ]
     },
     "execution_count": 93,
     "metadata": {},
     "output_type": "execute_result"
    }
   ],
   "source": [
    "from sklearn.svm import SVC\n",
    "\n",
    "clf_svc = SVC()\n",
    "clf_svc.fit(X_train_sk[:5000],y_train_sk[:5000])"
   ]
  },
  {
   "cell_type": "code",
   "execution_count": 114,
   "metadata": {},
   "outputs": [
    {
     "name": "stdout",
     "output_type": "stream",
     "text": [
      "test [7 0 1 7 3 3 3 3 3 5]\n",
      "pred [7 7 7 7 7 7 7 7 7 7]\n",
      "[[   0    0    0    0    0    0    0  767    0    0]\n",
      " [   0    0    0    0    0    0    0   43    0    0]\n",
      " [   0    0    0    0    0    0    0   74    0    0]\n",
      " [   0    0    0    0    0    0    0 1480    0    0]\n",
      " [   0    0    0    0    0    0    0  127    0    0]\n",
      " [   0    0    0    0    0    0    0   38    0    0]\n",
      " [   0    0    0    0    0    0    0  210    0    0]\n",
      " [   0    0    0    0    0    0    0 1928    0    0]\n",
      " [   0    0    0    0    0    0    0  250    0    0]\n",
      " [   0    0    0    0    0    0    0   83    0    0]]\n",
      "Precision Score::  0.14868736\n",
      "Recall Score::  0.3856\n",
      "F1 Score::  0.21461801385681298\n"
     ]
    },
    {
     "name": "stderr",
     "output_type": "stream",
     "text": [
      "C:\\Users\\palak\\Anaconda3\\lib\\site-packages\\sklearn\\metrics\\classification.py:1135: UndefinedMetricWarning: Precision is ill-defined and being set to 0.0 in labels with no predicted samples.\n",
      "  'precision', 'predicted', average, warn_for)\n",
      "C:\\Users\\palak\\Anaconda3\\lib\\site-packages\\sklearn\\metrics\\classification.py:1135: UndefinedMetricWarning: F-score is ill-defined and being set to 0.0 in labels with no predicted samples.\n",
      "  'precision', 'predicted', average, warn_for)\n"
     ]
    }
   ],
   "source": [
    "from sklearn import metrics\n",
    "\n",
    "y_pred = clf_svc.predict(X_test_sk[:5000])\n",
    "\n",
    "print(\"test\", y_test_sk[:10])\n",
    "print(\"pred\", y_pred[:10])\n",
    "\n",
    "cm_2 = metrics.confusion_matrix(y_test_sk[:5000],y_pred)\n",
    "print(cm_2)\n",
    "print(\"Precision Score:: \",metrics.precision_score(y_test_sk[:5000],y_pred,average='weighted'))   \n",
    "print(\"Recall Score:: \",metrics.recall_score(y_test_sk[:5000],y_pred,average='weighted'))      \n",
    "print(\"F1 Score:: \",metrics.f1_score(y_test_sk[:5000],y_pred,average='weighted')) "
   ]
  },
  {
   "cell_type": "code",
   "execution_count": 117,
   "metadata": {},
   "outputs": [],
   "source": [
    "%matplotlib inline\n",
    "import matplotlib.pyplot as plt\n",
    "from sklearn.metrics import roc_curve, auc"
   ]
  },
  {
   "cell_type": "code",
   "execution_count": 125,
   "metadata": {},
   "outputs": [],
   "source": [
    "plt.rcParams['figure.figsize'] = [10, 5]"
   ]
  },
  {
   "cell_type": "code",
   "execution_count": 126,
   "metadata": {},
   "outputs": [],
   "source": [
    "def plot_confusion_matrix(cm, names, title='Confusion matrix', cmap=plt.cm.Blues):\n",
    "   plt.imshow(cm, interpolation='nearest', cmap=cmap)\n",
    "   plt.title(title)\n",
    "   plt.colorbar()\n",
    "   tick_marks = np.arange(len(names))\n",
    "   plt.xticks(tick_marks, names, rotation=45)\n",
    "   plt.yticks(tick_marks, names)\n",
    "   plt.tight_layout()\n",
    "   plt.ylabel('True label')\n",
    "   plt.xlabel('Predicted label')\n",
    "   \n",
    "\n",
    "# Plot an ROC. pred - the predictions, y - the expected output.\n",
    "def plot_roc(pred,y):\n",
    "   fpr, tpr, thresholds = roc_curve(y, pred)\n",
    "   roc_auc = auc(fpr, tpr)\n",
    "\n",
    "   plt.figure()\n",
    "   plt.plot(fpr, tpr, label='ROC curve (area = %0.2f)' % roc_auc)\n",
    "   plt.plot([0, 1], [0, 1], 'k--')\n",
    "   plt.xlim([0.0, 1.0])\n",
    "   plt.ylim([0.0, 1.05])\n",
    "   plt.xlabel('False Positive Rate')\n",
    "   plt.ylabel('True Positive Rate')\n",
    "   plt.title('Receiver Operating Characteristic (ROC)')\n",
    "   plt.legend(loc=\"lower right\")\n",
    "   plt.show()\n"
   ]
  },
  {
   "cell_type": "code",
   "execution_count": 127,
   "metadata": {},
   "outputs": [
    {
     "name": "stdout",
     "output_type": "stream",
     "text": [
      "Plotting confusion matrix\n"
     ]
    },
    {
     "data": {
      "image/png": "[encoded data removed]",
      "text/plain": [
       "<Figure size 720x360 with 2 Axes>"
      ]
     },
     "metadata": {},
     "output_type": "display_data"
    },
    {
     "data": {
      "text/plain": [
       "<Figure size 18000x18000 with 0 Axes>"
      ]
     },
     "metadata": {},
     "output_type": "display_data"
    }
   ],
   "source": [
    "print('Plotting confusion matrix')\n",
    "plt.figure()\n",
    "plot_confusion_matrix(cm_2, lb.classes_)\n",
    "fig=plt.figure(figsize=(250, 250))\n",
    "plt.show()"
   ]
  },
  {
   "cell_type": "markdown",
   "metadata": {},
   "source": [
    "# Logistic Regression"
   ]
  },
  {
   "cell_type": "code",
   "execution_count": 96,
   "metadata": {},
   "outputs": [
    {
     "data": {
      "text/plain": [
       "LogisticRegression(C=1.0, class_weight=None, dual=False, fit_intercept=True,\n",
       "          intercept_scaling=1, max_iter=100, multi_class='ovr', n_jobs=1,\n",
       "          penalty='l2', random_state=None, solver='liblinear', tol=0.0001,\n",
       "          verbose=0, warm_start=False)"
      ]
     },
     "execution_count": 96,
     "metadata": {},
     "output_type": "execute_result"
    }
   ],
   "source": [
    "from sklearn.linear_model import LogisticRegression\n",
    "\n",
    "clf_lr = LogisticRegression()\n",
    "clf_lr.fit(X_train_sk[:5000], y_train_sk[:5000])"
   ]
  },
  {
   "cell_type": "code",
   "execution_count": 128,
   "metadata": {},
   "outputs": [
    {
     "name": "stdout",
     "output_type": "stream",
     "text": [
      "test [7 0 1 7 3 3 3 3 3 5]\n",
      "pred [7 0 0 7 3 7 3 7 7 0]\n",
      "[[4094    0    4  206   24    0    0  347   14    3]\n",
      " [  47    0    1   45    0    0    0  147    0    0]\n",
      " [ 204    0   70   66    4    0    0  175    4   34]\n",
      " [ 129    0    1 5053    9    0    0 3617   58    9]\n",
      " [ 195    0    1  145  142    0    0  214   15    6]\n",
      " [  65    0    6   34    0    0    0   86    0    1]\n",
      " [  68    0    2  434    2    0    1  694   45    0]\n",
      " [  73    0    0 2878   14    0    0 8509   87    3]\n",
      " [  95    0    3  577    2    0    0  804  105    1]\n",
      " [  71    0    4   80    0    0    0  138    3  133]]\n",
      "Precision Score::  0.6044141109297231\n",
      "Recall Score::  0.6015414770273413\n",
      "F1 Score::  0.5651347550420023\n"
     ]
    },
    {
     "name": "stderr",
     "output_type": "stream",
     "text": [
      "C:\\Users\\palak\\Anaconda3\\lib\\site-packages\\sklearn\\metrics\\classification.py:1135: UndefinedMetricWarning: Precision is ill-defined and being set to 0.0 in labels with no predicted samples.\n",
      "  'precision', 'predicted', average, warn_for)\n",
      "C:\\Users\\palak\\Anaconda3\\lib\\site-packages\\sklearn\\metrics\\classification.py:1135: UndefinedMetricWarning: F-score is ill-defined and being set to 0.0 in labels with no predicted samples.\n",
      "  'precision', 'predicted', average, warn_for)\n"
     ]
    }
   ],
   "source": [
    "y_pred = clf_lr.predict(X_test_sk)\n",
    "\n",
    "print(\"test\", y_test_sk[:10])\n",
    "print(\"pred\", y_pred[:10])\n",
    "\n",
    "\n",
    "cm_3 = metrics.confusion_matrix(y_test_sk,y_pred)\n",
    "print(cm_3)\n",
    "print(\"Precision Score:: \",metrics.precision_score(y_test_sk,y_pred,average='weighted'))   \n",
    "print(\"Recall Score:: \",metrics.recall_score(y_test_sk,y_pred,average='weighted'))      \n",
    "print(\"F1 Score:: \",metrics.f1_score(y_test_sk,y_pred,average='weighted'))"
   ]
  },
  {
   "cell_type": "code",
   "execution_count": 129,
   "metadata": {},
   "outputs": [
    {
     "name": "stdout",
     "output_type": "stream",
     "text": [
      "Plotting confusion matrix\n"
     ]
    },
    {
     "data": {
      "image/png": "[encoded data removed]",
      "text/plain": [
       "<Figure size 720x360 with 2 Axes>"
      ]
     },
     "metadata": {},
     "output_type": "display_data"
    },
    {
     "data": {
      "text/plain": [
       "<Figure size 18000x18000 with 0 Axes>"
      ]
     },
     "metadata": {},
     "output_type": "display_data"
    }
   ],
   "source": [
    "print('Plotting confusion matrix')\n",
    "plt.figure()\n",
    "plot_confusion_matrix(cm_2, lb.classes_)\n",
    "fig=plt.figure(figsize=(250, 250))\n",
    "plt.show()"
   ]
  },
  {
   "cell_type": "code",
   "execution_count": null,
   "metadata": {},
   "outputs": [],
   "source": []
  }
 ],
 "metadata": {
  "kernelspec": {
   "display_name": "Python 3",
   "language": "python",
   "name": "python3"
  },
  "language_info": {
   "codemirror_mode": {
    "name": "ipython",
    "version": 3
   },
   "file_extension": ".py",
   "mimetype": "text/x-python",
   "name": "python",
   "nbconvert_exporter": "python",
   "pygments_lexer": "ipython3",
   "version": "3.6.5"
  }
 },
 "nbformat": 4,
 "nbformat_minor": 1
}
